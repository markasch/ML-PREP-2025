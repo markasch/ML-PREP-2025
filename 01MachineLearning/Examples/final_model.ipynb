{
 "cells": [
  {
   "cell_type": "markdown",
   "id": "7458cb42-d4e2-49c8-a83a-86b4f4fa0612",
   "metadata": {},
   "source": [
    "# Final Model\n",
    "\n",
    "After training a model using one of the CV schemes - see [nested CV](./nested_CV.ipynb), for example - we want to finalize, then save it for future use on new data.\n",
    "\n",
    "---\n",
    "\n",
    "## Saving a model with `pickle`\n"
   ]
  },
  {
   "cell_type": "code",
   "execution_count": 1,
   "id": "71d3f561-1671-4c86-9ccb-2028991de711",
   "metadata": {},
   "outputs": [
    {
     "name": "stdout",
     "output_type": "stream",
     "text": [
      "0.7637795275590551\n"
     ]
    },
    {
     "name": "stderr",
     "output_type": "stream",
     "text": [
      "/opt/miniconda3/envs/islp/lib/python3.13/site-packages/sklearn/linear_model/_logistic.py:465: ConvergenceWarning: lbfgs failed to converge (status=1):\n",
      "STOP: TOTAL NO. of ITERATIONS REACHED LIMIT.\n",
      "\n",
      "Increase the number of iterations (max_iter) or scale the data as shown in:\n",
      "    https://scikit-learn.org/stable/modules/preprocessing.html\n",
      "Please also refer to the documentation for alternative solver options:\n",
      "    https://scikit-learn.org/stable/modules/linear_model.html#logistic-regression\n",
      "  n_iter_i = _check_optimize_result(\n"
     ]
    }
   ],
   "source": [
    "# Save Model Using Pickle\n",
    "import pandas\n",
    "from sklearn import model_selection\n",
    "from sklearn.linear_model import LogisticRegression\n",
    "import pickle\n",
    "url = \"https://raw.githubusercontent.com/jbrownlee/Datasets/master/pima-indians-diabetes.data.csv\"\n",
    "names = ['preg', 'plas', 'pres', 'skin', 'test', 'mass', 'pedi', 'age', 'class']\n",
    "dataframe = pandas.read_csv(url, names=names)\n",
    "array = dataframe.values\n",
    "X = array[:,0:8]\n",
    "Y = array[:,8]\n",
    "test_size = 0.33\n",
    "seed = 777\n",
    "# simplest rain-test split\n",
    "X_train, X_test, Y_train, Y_test = model_selection.train_test_split(X, Y, test_size=test_size, random_state=seed)\n",
    "# Fit the model on training set\n",
    "model = LogisticRegression()\n",
    "model.fit(X_train, Y_train)\n",
    "# save the model to disk\n",
    "filename = 'finalized_model.sav'\n",
    "pickle.dump(model, open(filename, 'wb'))\n",
    " \n",
    "# some time later...\n",
    " \n",
    "# load the model from disk\n",
    "loaded_model = pickle.load(open(filename, 'rb'))\n",
    "result = loaded_model.score(X_test, Y_test)\n",
    "print(result)"
   ]
  },
  {
   "cell_type": "markdown",
   "id": "f843f9fe-2fec-4a25-8934-029f07e6d326",
   "metadata": {},
   "source": [
    "### Training and prediction\n",
    "\n",
    "The simplest task is to fit a model to an entire dataset, then make a prediction using the fitted model.\n",
    "\n",
    "We do this for\n",
    "\n",
    "- a classificationn model\n",
    "- a multiple regression model"
   ]
  },
  {
   "cell_type": "code",
   "execution_count": 2,
   "id": "d7e574e9-0ef1-456f-95a9-0785778d1fdc",
   "metadata": {},
   "outputs": [
    {
     "name": "stdout",
     "output_type": "stream",
     "text": [
      "X=[-0.79415228  2.10495117], Predicted=0\n",
      "X=[-8.25290074 -4.71455545], Predicted=1\n",
      "X=[-2.18773166  3.33352125], Predicted=0\n"
     ]
    }
   ],
   "source": [
    "# example of training a final classification model\n",
    "from sklearn.linear_model import LogisticRegression\n",
    "from sklearn.datasets import make_blobs\n",
    "# generate 2d classification dataset\n",
    "X, y = make_blobs(n_samples=100, centers=2, n_features=2, random_state=1)\n",
    "# fit final model\n",
    "model = LogisticRegression()\n",
    "model.fit(X, y)\n",
    "# new instances where we do not know the answer\n",
    "Xnew, _ = make_blobs(n_samples=3, centers=2, n_features=2, random_state=1)\n",
    "# make a prediction\n",
    "ynew = model.predict(Xnew)\n",
    "# show the inputs and predicted outputs\n",
    "for i in range(len(Xnew)):\n",
    "\tprint(\"X=%s, Predicted=%s\" % (Xnew[i], ynew[i]))"
   ]
  },
  {
   "cell_type": "code",
   "execution_count": 3,
   "id": "e9797667-c8f1-4e21-9826-178e8d8bc04b",
   "metadata": {},
   "outputs": [
    {
     "name": "stdout",
     "output_type": "stream",
     "text": [
      "X=[-1.07296862, -0.52817175], Predicted=-123.75765453929685\n"
     ]
    }
   ],
   "source": [
    "# example of training a final regression model\n",
    "from sklearn.linear_model import LinearRegression\n",
    "from sklearn.datasets import make_regression\n",
    "# generate regression dataset\n",
    "X, y = make_regression(n_samples=100, n_features=2, noise=0.1)\n",
    "# fit final model\n",
    "model = LinearRegression()\n",
    "model.fit(X, y)\n",
    "# define one new data instance\n",
    "Xnew = [[-1.07296862, -0.52817175]]\n",
    "# new instances where we do not know the answer\n",
    "#Xnew, _ = make_regression(n_samples=3, n_features=2, noise=0.1, random_state=1)\n",
    "# make a prediction\n",
    "ynew = model.predict(Xnew)\n",
    "# show the inputs and predicted outputs\n",
    "print(\"X=%s, Predicted=%s\" % (Xnew[0], ynew[0]))"
   ]
  },
  {
   "cell_type": "markdown",
   "id": "36c58bd0-68ec-40e3-8193-d7f26e936f51",
   "metadata": {},
   "source": [
    "### Train-test split\n",
    "\n",
    "Here we perform the most basic resampling, using a single train-test split.\n",
    "\n",
    "- the regression model is fitted to the training data\n",
    "- then, its performance can be estimated on the test data."
   ]
  },
  {
   "cell_type": "code",
   "execution_count": 4,
   "id": "0b13ef09-c458-459e-b750-5e3bfa7ff047",
   "metadata": {},
   "outputs": [
    {
     "data": {
      "image/png": "[encoded data removed]",
      "text/plain": [
       "<Figure size 640x480 with 1 Axes>"
      ]
     },
     "metadata": {},
     "output_type": "display_data"
    },
    {
     "data": {
      "text/plain": [
       "0.9929593335286535"
      ]
     },
     "execution_count": 4,
     "metadata": {},
     "output_type": "execute_result"
    }
   ],
   "source": [
    "# example of training a final regression model based on CV\n",
    "from sklearn.linear_model import LinearRegression\n",
    "from sklearn.datasets import make_regression\n",
    "from sklearn import model_selection\n",
    "import matplotlib.pyplot as plt\n",
    "\n",
    "# generate regression dataset\n",
    "X, y = make_regression(n_samples=100, n_features=1, noise=10)\n",
    "plt.plot(X, y, '.')\n",
    "plt.xlabel('x')\n",
    "plt.ylabel('y')\n",
    "plt.show()\n",
    "test_size = 0.33\n",
    "seed = 777\n",
    "# simplest train-test split\n",
    "X_train, X_test, y_train, y_test = model_selection.train_test_split(X, y, test_size=test_size, random_state=seed)\n",
    "# Fit the model on training set\n",
    "model = LinearRegression()\n",
    "model.fit(X_train, y_train)\n",
    "\n",
    "# Print performance results\n",
    "model.score(X_test, y_test)"
   ]
  },
  {
   "cell_type": "markdown",
   "id": "26c2f131-4cd2-4e3e-85bd-41878efd2ef4",
   "metadata": {},
   "source": [
    "### Cross-Validation resampling\n",
    "\n",
    "Here we perform CV resampling, using a 10-fold train-test split.\n",
    "\n",
    "Then we can display the score (R2, or others) together with its uncertainty.\n"
   ]
  },
  {
   "cell_type": "code",
   "execution_count": 5,
   "id": "975ab189-0309-4130-be2f-7cb17c3a408d",
   "metadata": {},
   "outputs": [
    {
     "name": "stdout",
     "output_type": "stream",
     "text": [
      "R2 score: 0.986 ± 0.011\n"
     ]
    }
   ],
   "source": [
    "from sklearn.model_selection import cross_val_score\n",
    "\n",
    "data = X\n",
    "target = y\n",
    "scores = cross_val_score(model, data, target, cv=10, scoring=\"r2\")\n",
    "print(f\"R2 score: {scores.mean():.3f} ± {scores.std():.3f}\")"
   ]
  },
  {
   "cell_type": "markdown",
   "id": "b66fcc93-1c15-4d89-a914-f597570c6712",
   "metadata": {},
   "source": [
    "## Finalizing\n",
    "\n",
    "Suppose that we are satisfied with the model performance. \n",
    "\n",
    "- Now, we can fit this model on ALL the data, thus generating the **final** model.\n",
    "- This finalized model can then be used to predict some new value, or saved for later use."
   ]
  },
  {
   "cell_type": "code",
   "execution_count": 6,
   "id": "f2f1831a-5465-4205-a7f9-c119fd5cd8ac",
   "metadata": {},
   "outputs": [
    {
     "name": "stdout",
     "output_type": "stream",
     "text": [
      "X=[-1.07296862], Predicted=-99.38329461342201\n"
     ]
    }
   ],
   "source": [
    "# fit finalized model on ALL the data\n",
    "model.fit(X, y)\n",
    "# define one new data instance\n",
    "Xnew = [[-1.07296862]]\n",
    "# make a prediction\n",
    "ynew = model.predict(Xnew)\n",
    "# show the inputs and predicted outputs\n",
    "print(\"X=%s, Predicted=%s\" % (Xnew[0], ynew[0]))"
   ]
  },
  {
   "cell_type": "code",
   "execution_count": 7,
   "id": "c06e43dd-99c1-4473-9c35-e73fa096828c",
   "metadata": {},
   "outputs": [
    {
     "name": "stdout",
     "output_type": "stream",
     "text": [
      "X=[-1.07296862], Predicted=-99.38329461342201\n"
     ]
    }
   ],
   "source": [
    "# save the model to disk\n",
    "filename = 'finalized_reg_model.sav'\n",
    "pickle.dump(model, open(filename, 'wb'))\n",
    " \n",
    "# some time later...\n",
    " \n",
    "# load the model from disk\n",
    "loaded_model = pickle.load(open(filename, 'rb'))\n",
    "Xnew = [[-1.07296862]]\n",
    "# make a prediction\n",
    "ynew = loaded_model.predict(Xnew)\n",
    "# show the inputs and predicted outputs\n",
    "print(\"X=%s, Predicted=%s\" % (Xnew[0], ynew[0]))"
   ]
  },
  {
   "cell_type": "code",
   "execution_count": null,
   "id": "de01bb94-3dc0-4ad6-9bbc-a84a8cf584b8",
   "metadata": {},
   "outputs": [],
   "source": []
  }
 ],
 "metadata": {
  "kernelspec": {
   "display_name": "Python 3 (ipykernel)",
   "language": "python",
   "name": "python3"
  },
  "language_info": {
   "codemirror_mode": {
    "name": "ipython",
    "version": 3
   },
   "file_extension": ".py",
   "mimetype": "text/x-python",
   "name": "python",
   "nbconvert_exporter": "python",
   "pygments_lexer": "ipython3",
   "version": "3.13.1"
  }
 },
 "nbformat": 4,
 "nbformat_minor": 5
}
