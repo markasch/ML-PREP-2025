{
 "cells": [
  {
   "cell_type": "markdown",
   "id": "b90cf388-390a-483d-81ff-81dc100290a5",
   "metadata": {},
   "source": [
    "# Nested k-Fold CV\n",
    "\n",
    "Here is a very simple example of nested k-fold cross-validation applied to a classification problem. The classifier is a Random Forest, whose tuning hyperparameters are the number of trees and the maximum depth of a tree.\n"
   ]
  },
  {
   "cell_type": "code",
   "execution_count": 1,
   "id": "9d573a5a-6e5e-4eba-b5d9-adb07e325b99",
   "metadata": {},
   "outputs": [],
   "source": [
    "from sklearn.pipeline import Pipeline\n",
    "from sklearn.preprocessing import StandardScaler\n",
    "from sklearn.decomposition import PCA\n",
    "from sklearn.ensemble import RandomForestClassifier\n",
    "\n",
    "pipeline = Pipeline(steps=[\n",
    "    ('scaler', StandardScaler()),\n",
    "    ('pca', PCA(n_components=2)),\n",
    "    ('classifier', RandomForestClassifier())\n",
    "])"
   ]
  },
  {
   "cell_type": "markdown",
   "id": "755d621c-b121-4f61-9908-5f58f3e04cd1",
   "metadata": {},
   "source": [
    "### Steps:\n",
    "\n",
    "1. generate or load the dataset\n",
    "2. define the hyperparameter grid of values\n",
    "3. definne the loops (see below)\n",
    "4. perform the nested CV using `cross_val_score`\n",
    "\n",
    "- Outer CV Loop: Splits the data into training and test sets.\n",
    "- Inner CV Loop: Conducts hyperparameter tuning (e.g., using `GridSearchCV` or `RandomizedSearchCV`) on the training data."
   ]
  },
  {
   "cell_type": "code",
   "execution_count": 2,
   "id": "71c1d47f-2233-44e7-b981-115e8f0b897d",
   "metadata": {},
   "outputs": [
    {
     "name": "stdout",
     "output_type": "stream",
     "text": [
      "Nested CV Score:  0.7850000000000001\n"
     ]
    }
   ],
   "source": [
    "from sklearn.model_selection import GridSearchCV, cross_val_score, KFold\n",
    "from sklearn.datasets import make_classification\n",
    "\n",
    "# Example dataset\n",
    "X, y = make_classification(n_samples=1000, n_features=20, random_state=42)\n",
    "\n",
    "# Hyperparameters to tune\n",
    "param_grid = {\n",
    "    'pca__n_components': [2, 5, 10],\n",
    "    'classifier__n_estimators': [50, 100],\n",
    "    'classifier__max_depth': [None, 10, 20],\n",
    "}\n",
    "\n",
    "# Inner CV for hyperparameter tuning\n",
    "grid_search = GridSearchCV(pipeline, param_grid, cv=5)\n",
    "\n",
    "# Outer CV for model evaluation\n",
    "outer_cv = KFold(n_splits=5)\n",
    "\n",
    "# Nested CV\n",
    "nested_score = cross_val_score(grid_search, X, y, cv=outer_cv)\n",
    "\n",
    "print(\"Nested CV Score = \", nested_score.mean())"
   ]
  },
  {
   "cell_type": "code",
   "execution_count": null,
   "id": "c3d64508-a6c5-40b8-b873-c96aca71c93e",
   "metadata": {},
   "outputs": [],
   "source": []
  }
 ],
 "metadata": {
  "kernelspec": {
   "display_name": "Python 3 (ipykernel)",
   "language": "python",
   "name": "python3"
  },
  "language_info": {
   "codemirror_mode": {
    "name": "ipython",
    "version": 3
   },
   "file_extension": ".py",
   "mimetype": "text/x-python",
   "name": "python",
   "nbconvert_exporter": "python",
   "pygments_lexer": "ipython3",
   "version": "3.13.1"
  }
 },
 "nbformat": 4,
 "nbformat_minor": 5
}
