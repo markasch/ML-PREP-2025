{
 "cells": [
  {
   "attachments": {},
   "cell_type": "markdown",
   "id": "valid-fever",
   "metadata": {},
   "source": [
    "# Vector Data \n",
    "\n",
    "This notebook is a modified version of M. Janosov's original, as presented in *[Geospatial Data Science Essentials](https://www.janosov.com/books/geo/)*\n",
    "\n",
    "\n",
    "Geospatial data can be broadly categorized into two types: raster and vector data. \n",
    "\n",
    "- Raster data represents the world as a grid of equally sized cells, with each cell (or pixel) holding a value representing information such as temperature, elevation, or land cover type.\n",
    "  - Raster data is typically used for continuous data, such as satellite imagery or digital elevation models (DEMs).\n",
    "- Vector data represents the world using points, lines, and polygons, as we saw with Shapely earlier. Points can represent single locations like bars or cities, lines can represent roads or rivers, and polygons can represent areas such as countries or lakes.\n",
    "  - Vector data is well-suited for discrete data, where the precise location and shape of geographic features are important.\n",
    "\n",
    "In this notebook, we will focus on vector data and learn to use the Python library [GeoPandas](https://geopandas.org/en/stable/). GeoPandas is an extension of the popular data manipulation library Pandas, combined with Shapely's geometry processing capabilities. It allows us to leverage the rich tools for manipulating and analyzing tabular data with Pandas, along with the versatile geometry operations of Shapely, to provide a robust toolkit for spatial analysis."
   ]
  },
  {
   "cell_type": "markdown",
   "id": "little-accessory",
   "metadata": {},
   "source": [
    "### 1. Querying the Built-in Datasets in GeoPandas\n",
    "\n",
    "GeoPandas no longer comes with a collection of built-in datasets that we can use for learning and experimentation. We need to use the `geodatasets` library.\n",
    "\n",
    "While the exact selection of datasets may vary across versions, in general, these datasets are useful for practicing spatial analysis techniques and understanding how to work with GeoPandas' functionalities. We can easily access and query these datasets to explore their content.\n",
    "\n",
    "**Note:** while in the GeoPandas version (0.14.1) originally used by Janosov there are built-in data sets - in the latest release (1.0), they have been removed and must be loaded from the separate package [geodatasets](https://geodatasets.readthedocs.io/en/stable/). \n",
    "\n",
    "We have already seen how to query the available built-in datasets in GeoPandas/GeoDataSets."
   ]
  },
  {
   "cell_type": "code",
   "execution_count": 1,
   "id": "wicked-coach",
   "metadata": {},
   "outputs": [
    {
     "name": "stdout",
     "output_type": "stream",
     "text": [
      "Available built-in datasets in GeoPandas/GeoDataSets: \n",
      "\n",
      "dict_keys(['geoda.airbnb', 'geoda.atlanta', 'geoda.cars', 'geoda.charleston1', 'geoda.charleston2', 'geoda.chicago_health', 'geoda.chicago_commpop', 'geoda.chile_labor', 'geoda.cincinnati', 'geoda.cleveland', 'geoda.grid100', 'geoda.groceries', 'geoda.guerry', 'geoda.health', 'geoda.health_indicators', 'geoda.hickory1', 'geoda.hickory2', 'geoda.home_sales', 'geoda.houston', 'geoda.juvenile', 'geoda.lansing1', 'geoda.lansing2', 'geoda.lasrosas', 'geoda.liquor_stores', 'geoda.malaria', 'geoda.milwaukee1', 'geoda.milwaukee2', 'geoda.ncovr', 'geoda.natregimes', 'geoda.ndvi', 'geoda.nepal', 'geoda.nyc', 'geoda.nyc_earnings', 'geoda.nyc_education', 'geoda.nyc_neighborhoods', 'geoda.orlando1', 'geoda.orlando2', 'geoda.oz9799', 'geoda.phoenix_acs', 'geoda.police', 'geoda.sacramento1', 'geoda.sacramento2', 'geoda.savannah1', 'geoda.savannah2', 'geoda.seattle1', 'geoda.seattle2', 'geoda.sids', 'geoda.sids2', 'geoda.south', 'geoda.spirals', 'geoda.stlouis', 'geoda.tampa1', 'geoda.us_sdoh', 'ny.bb', 'eea.large_rivers', 'abs.australia', 'abs.australia_states_territories', 'naturalearth.cities', 'naturalearth.lakes', 'naturalearth.land', 'spdata.nydata', 'spdata.auckland', 'spdata.boston', 'spdata.columbus', 'spdata.cycle_hire', 'spdata.cycle_hire_osm', 'spdata.eire', 'spdata.ncsids', 'spdata.wheat', 'spdata.zion', 'spdata.zion_points']) \n",
      "\n"
     ]
    }
   ],
   "source": [
    "# Import the GeoPandas and GeoDataSets libraries\n",
    "import geopandas as gpd\n",
    "import geodatasets\n",
    "\n",
    "# Query the available built-in datasets in GeoPandas\n",
    "available_datasets = geodatasets.data.flatten().keys()\n",
    "\n",
    "# Print the list of available datasets\n",
    "print(\"Available built-in datasets in GeoPandas/GeoDataSets:\", \"\\n\")\n",
    "print(available_datasets, \"\\n\")"
   ]
  },
  {
   "cell_type": "markdown",
   "id": "romance-omaha",
   "metadata": {},
   "source": [
    "The previous cell shows how to list the built-in datasets of our GeoPandas version. These datasets are included to help users get started with geospatial analysis without needing to find and load external data. The versions of the built-in datasets that we will need are:\n",
    "\n",
    "`naturalearth_cities`: This dataset contains point geometries representing major cities around the world. It is sourced from [Natural Earth](https://www.naturalearthdata.com), a public domain map dataset.\n",
    "\n",
    "`naturalearth_lowres`: This dataset contains polygon geometries representing country boundaries at a relatively low spatial resolution. It is sourced from Natural Earth as well, but has been modified to include cultural data.\n"
   ]
  },
  {
   "cell_type": "markdown",
   "id": "proved-plymouth",
   "metadata": {},
   "source": [
    "### 2. Parsing a Data File into a GeoDataFrame\n",
    "\n",
    "GeoPandas makes it easy to read various geospatial data formats and convert them into `GeoDataFrames`, which are the core data structures we will be using for spatial analysis throughout this course. We can easily parse data files, such as [shapefiles](https://en.wikipedia.org/wiki/Shapefile), [GeoJSON](https://geojson.org), and other formats, into GeoDataFrames to perform various geospatial operations.\n",
    "\n",
    "In this example, we will parse the built-in dataset `naturalearth_lowres` from GeoPandas into a GeoDataFrame and display it as a code cell output first by obtaining the location of the file using the `datasets.get_path` function and then use this path as an input for the `read_file` function of GeoPandas. Once parsed, we display the content of the GeoDataFrame."
   ]
  },
  {
   "cell_type": "code",
   "execution_count": 3,
   "id": "based-february",
   "metadata": {},
   "outputs": [
    {
     "data": {
      "text/html": [
       "<div>\n",
       "<style scoped>\n",
       "    .dataframe tbody tr th:only-of-type {\n",
       "        vertical-align: middle;\n",
       "    }\n",
       "\n",
       "    .dataframe tbody tr th {\n",
       "        vertical-align: top;\n",
       "    }\n",
       "\n",
       "    .dataframe thead th {\n",
       "        text-align: right;\n",
       "    }\n",
       "</style>\n",
       "<table border=\"1\" class=\"dataframe\">\n",
       "  <thead>\n",
       "    <tr style=\"text-align: right;\">\n",
       "      <th></th>\n",
       "      <th>pop_est</th>\n",
       "      <th>continent</th>\n",
       "      <th>name</th>\n",
       "      <th>iso_a3</th>\n",
       "      <th>gdp_md_est</th>\n",
       "      <th>geometry</th>\n",
       "    </tr>\n",
       "  </thead>\n",
       "  <tbody>\n",
       "    <tr>\n",
       "      <th>0</th>\n",
       "      <td>889953.0</td>\n",
       "      <td>Oceania</td>\n",
       "      <td>Fiji</td>\n",
       "      <td>FJI</td>\n",
       "      <td>5496</td>\n",
       "      <td>MULTIPOLYGON (((180 -16.06713, 180 -16.55522, ...</td>\n",
       "    </tr>\n",
       "    <tr>\n",
       "      <th>1</th>\n",
       "      <td>58005463.0</td>\n",
       "      <td>Africa</td>\n",
       "      <td>Tanzania</td>\n",
       "      <td>TZA</td>\n",
       "      <td>63177</td>\n",
       "      <td>POLYGON ((33.90371 -0.95, 34.07262 -1.05982, 3...</td>\n",
       "    </tr>\n",
       "    <tr>\n",
       "      <th>2</th>\n",
       "      <td>603253.0</td>\n",
       "      <td>Africa</td>\n",
       "      <td>W. Sahara</td>\n",
       "      <td>ESH</td>\n",
       "      <td>907</td>\n",
       "      <td>POLYGON ((-8.66559 27.65643, -8.66512 27.58948...</td>\n",
       "    </tr>\n",
       "  </tbody>\n",
       "</table>\n",
       "</div>"
      ],
      "text/plain": [
       "      pop_est continent       name iso_a3  gdp_md_est  \\\n",
       "0    889953.0   Oceania       Fiji    FJI        5496   \n",
       "1  58005463.0    Africa   Tanzania    TZA       63177   \n",
       "2    603253.0    Africa  W. Sahara    ESH         907   \n",
       "\n",
       "                                            geometry  \n",
       "0  MULTIPOLYGON (((180 -16.06713, 180 -16.55522, ...  \n",
       "1  POLYGON ((33.90371 -0.95, 34.07262 -1.05982, 3...  \n",
       "2  POLYGON ((-8.66559 27.65643, -8.66512 27.58948...  "
      ]
     },
     "execution_count": 3,
     "metadata": {},
     "output_type": "execute_result"
    }
   ],
   "source": [
    "# Define location of the data file\n",
    "file_name = 'naturalearth_lowres/naturalearth_lowres.shp'\n",
    "\n",
    "import warnings\n",
    "warnings.filterwarnings('ignore')\n",
    "\n",
    "# Read the saved dataset (naturalearth_lowres) into a GeoDataFrame\n",
    "gdf = gpd.read_file(file_name)\n",
    "\n",
    "# Display the first 3 rows of the GeoDataFrame\n",
    "gdf.head(3)"
   ]
  },
  {
   "cell_type": "code",
   "execution_count": 30,
   "id": "rental-granny",
   "metadata": {},
   "outputs": [
    {
     "data": {
      "text/html": [
       "<div>\n",
       "<style scoped>\n",
       "    .dataframe tbody tr th:only-of-type {\n",
       "        vertical-align: middle;\n",
       "    }\n",
       "\n",
       "    .dataframe tbody tr th {\n",
       "        vertical-align: top;\n",
       "    }\n",
       "\n",
       "    .dataframe thead th {\n",
       "        text-align: right;\n",
       "    }\n",
       "</style>\n",
       "<table border=\"1\" class=\"dataframe\">\n",
       "  <thead>\n",
       "    <tr style=\"text-align: right;\">\n",
       "      <th></th>\n",
       "      <th>pop_est</th>\n",
       "      <th>continent</th>\n",
       "      <th>name</th>\n",
       "      <th>iso_a3</th>\n",
       "      <th>gdp_md_est</th>\n",
       "      <th>geometry</th>\n",
       "    </tr>\n",
       "  </thead>\n",
       "  <tbody>\n",
       "    <tr>\n",
       "      <th>174</th>\n",
       "      <td>1794248.0</td>\n",
       "      <td>Europe</td>\n",
       "      <td>Kosovo</td>\n",
       "      <td>-99</td>\n",
       "      <td>7926</td>\n",
       "      <td>POLYGON ((20.59025 41.85541, 20.52295 42.21787...</td>\n",
       "    </tr>\n",
       "    <tr>\n",
       "      <th>175</th>\n",
       "      <td>1394973.0</td>\n",
       "      <td>North America</td>\n",
       "      <td>Trinidad and Tobago</td>\n",
       "      <td>TTO</td>\n",
       "      <td>24269</td>\n",
       "      <td>POLYGON ((-61.68000 10.76000, -61.10500 10.890...</td>\n",
       "    </tr>\n",
       "    <tr>\n",
       "      <th>176</th>\n",
       "      <td>11062113.0</td>\n",
       "      <td>Africa</td>\n",
       "      <td>S. Sudan</td>\n",
       "      <td>SSD</td>\n",
       "      <td>11998</td>\n",
       "      <td>POLYGON ((30.83385 3.50917, 29.95350 4.17370, ...</td>\n",
       "    </tr>\n",
       "  </tbody>\n",
       "</table>\n",
       "</div>"
      ],
      "text/plain": [
       "        pop_est      continent                 name iso_a3  gdp_md_est  \\\n",
       "174   1794248.0         Europe               Kosovo    -99        7926   \n",
       "175   1394973.0  North America  Trinidad and Tobago    TTO       24269   \n",
       "176  11062113.0         Africa             S. Sudan    SSD       11998   \n",
       "\n",
       "                                              geometry  \n",
       "174  POLYGON ((20.59025 41.85541, 20.52295 42.21787...  \n",
       "175  POLYGON ((-61.68000 10.76000, -61.10500 10.890...  \n",
       "176  POLYGON ((30.83385 3.50917, 29.95350 4.17370, ...  "
      ]
     },
     "execution_count": 30,
     "metadata": {},
     "output_type": "execute_result"
    }
   ],
   "source": [
    "# Display the last 3 rows of the GeoDataFrame\n",
    "gdf.tail(3)"
   ]
  },
  {
   "cell_type": "markdown",
   "id": "square-marina",
   "metadata": {},
   "source": [
    "As the previous cell outputs show, this table has a component that is easily convertible into a regular Pandas DataFrame. This part includes the \n",
    "\n",
    "- name (`name`) and code (`iso_a3`) of the countries,\n",
    "- continent (`continent`) they are located in,\n",
    "- estimated population (`pop_est`) and\n",
    "- GDP levels (`gdp_md_est`) of each country.\n",
    "\n",
    "However, we see another column there - `geometry`. This geometry column makes the DataFrame a GeoDataFrame, as it contains the location of each data record in a geometric data structure defined by Shapely, using the Polygon and MultiPolygon classes."
   ]
  },
  {
   "cell_type": "markdown",
   "id": "studied-latitude",
   "metadata": {},
   "source": [
    "### 3. Accessing the Geometry Column as a GeoSeries\n",
    "\n",
    "In GeoPandas, each GeoDataFrame contains a special column for geometric data. This column stores the geometries and can be accessed as a `GeoSeries`. A GeoSeries is a special type of Pandas Series designed to handle geometric objects, enabling spatial operations and analysis. Here, we take a closer look at that particular column by directly accessing and printing its values of the built-in global map."
   ]
  },
  {
   "cell_type": "code",
   "execution_count": 4,
   "id": "great-flight",
   "metadata": {},
   "outputs": [
    {
     "data": {
      "text/plain": [
       "0      MULTIPOLYGON (((180 -16.06713, 180 -16.55522, ...\n",
       "1      POLYGON ((33.90371 -0.95, 34.07262 -1.05982, 3...\n",
       "2      POLYGON ((-8.66559 27.65643, -8.66512 27.58948...\n",
       "3      MULTIPOLYGON (((-122.84 49, -122.97421 49.0025...\n",
       "4      MULTIPOLYGON (((-122.84 49, -120 49, -117.0312...\n",
       "                             ...                        \n",
       "172    POLYGON ((18.82982 45.90887, 18.82984 45.90888...\n",
       "173    POLYGON ((20.0707 42.58863, 19.80161 42.50009,...\n",
       "174    POLYGON ((20.59025 41.85541, 20.52295 42.21787...\n",
       "175    POLYGON ((-61.68 10.76, -61.105 10.89, -60.895...\n",
       "176    POLYGON ((30.83385 3.50917, 29.9535 4.1737, 29...\n",
       "Name: geometry, Length: 177, dtype: geometry"
      ]
     },
     "execution_count": 4,
     "metadata": {},
     "output_type": "execute_result"
    }
   ],
   "source": [
    "# Access the geometry column of the GeoDataFrame\n",
    "geometry = gdf.geometry\n",
    "geometry"
   ]
  },
  {
   "cell_type": "code",
   "execution_count": 5,
   "id": "approximate-tamil",
   "metadata": {},
   "outputs": [
    {
     "name": "stdout",
     "output_type": "stream",
     "text": [
      "Type of the geometry column: <class 'geopandas.geoseries.GeoSeries'> \n",
      "\n",
      "Number of entries in the geometry column: 177 \n",
      "\n"
     ]
    }
   ],
   "source": [
    "# Print the type of the geometry column to confirm it is a GeoSeries\n",
    "print(f\"Type of the geometry column: {type(geometry)}\", \"\\n\")\n",
    "\n",
    "# Print the number of elements in the geometry column\n",
    "print(f\"Number of entries in the geometry column: {len(geometry)}\", \"\\n\")"
   ]
  },
  {
   "cell_type": "markdown",
   "id": "chubby-problem",
   "metadata": {},
   "source": [
    "### 4. Creating a GeoDataFrame from Scratch\n",
    "\n",
    "GeoPandas also allows us to create GeoDataFrames from scratch, which can be particularly useful when we have custom data or want to construct a geospatial dataset manually. A GeoDataFrame is similar to a Pandas DataFrame, but as we saw earlier, it includes a column for geometric data, enabling spatial operations and analyses.\n",
    "\n",
    "In this example, we'll create a `GeoDataFrame` from a list of dictionaries containing city names and their locations as Point geometries built from the cities' corresponding geographic coordinates using Shapely."
   ]
  },
  {
   "cell_type": "code",
   "execution_count": 7,
   "id": "stretch-taiwan",
   "metadata": {},
   "outputs": [
    {
     "data": {
      "text/html": [
       "<div>\n",
       "<style scoped>\n",
       "    .dataframe tbody tr th:only-of-type {\n",
       "        vertical-align: middle;\n",
       "    }\n",
       "\n",
       "    .dataframe tbody tr th {\n",
       "        vertical-align: top;\n",
       "    }\n",
       "\n",
       "    .dataframe thead th {\n",
       "        text-align: right;\n",
       "    }\n",
       "</style>\n",
       "<table border=\"1\" class=\"dataframe\">\n",
       "  <thead>\n",
       "    <tr style=\"text-align: right;\">\n",
       "      <th></th>\n",
       "      <th>name</th>\n",
       "      <th>geometry</th>\n",
       "    </tr>\n",
       "  </thead>\n",
       "  <tbody>\n",
       "    <tr>\n",
       "      <th>0</th>\n",
       "      <td>Budapest</td>\n",
       "      <td>POINT (19.0402 47.4979)</td>\n",
       "    </tr>\n",
       "    <tr>\n",
       "      <th>1</th>\n",
       "      <td>Vienna</td>\n",
       "      <td>POINT (16.3738 48.2082)</td>\n",
       "    </tr>\n",
       "    <tr>\n",
       "      <th>2</th>\n",
       "      <td>Barcelona</td>\n",
       "      <td>POINT (2.1734 41.3851)</td>\n",
       "    </tr>\n",
       "    <tr>\n",
       "      <th>3</th>\n",
       "      <td>New York</td>\n",
       "      <td>POINT (-74.006 40.7128)</td>\n",
       "    </tr>\n",
       "    <tr>\n",
       "      <th>4</th>\n",
       "      <td>Los Angeles</td>\n",
       "      <td>POINT (-118.243 34.0522)</td>\n",
       "    </tr>\n",
       "    <tr>\n",
       "      <th>5</th>\n",
       "      <td>Helsinki</td>\n",
       "      <td>POINT (24.9354 60.1695)</td>\n",
       "    </tr>\n",
       "    <tr>\n",
       "      <th>6</th>\n",
       "      <td>Dublin</td>\n",
       "      <td>POINT (-6.2603 53.3498)</td>\n",
       "    </tr>\n",
       "    <tr>\n",
       "      <th>7</th>\n",
       "      <td>London</td>\n",
       "      <td>POINT (-0.1278 51.5074)</td>\n",
       "    </tr>\n",
       "    <tr>\n",
       "      <th>8</th>\n",
       "      <td>Amsterdam</td>\n",
       "      <td>POINT (4.9041 52.3676)</td>\n",
       "    </tr>\n",
       "  </tbody>\n",
       "</table>\n",
       "</div>"
      ],
      "text/plain": [
       "          name                  geometry\n",
       "0     Budapest   POINT (19.0402 47.4979)\n",
       "1       Vienna   POINT (16.3738 48.2082)\n",
       "2    Barcelona    POINT (2.1734 41.3851)\n",
       "3     New York   POINT (-74.006 40.7128)\n",
       "4  Los Angeles  POINT (-118.243 34.0522)\n",
       "5     Helsinki   POINT (24.9354 60.1695)\n",
       "6       Dublin   POINT (-6.2603 53.3498)\n",
       "7       London   POINT (-0.1278 51.5074)\n",
       "8    Amsterdam    POINT (4.9041 52.3676)"
      ]
     },
     "execution_count": 7,
     "metadata": {},
     "output_type": "execute_result"
    }
   ],
   "source": [
    "# Import the necessary libraries\n",
    "from shapely.geometry import Point\n",
    "\n",
    "# Define a list of dictionaries with city \n",
    "# names and their geographic locations\n",
    "cities_points = [\n",
    "    {'name': 'Budapest',    'geometry': Point(19.0402,  47.4979)},\n",
    "    {'name': 'Vienna',      'geometry': Point(16.3738,  48.2082)},\n",
    "    {'name': 'Barcelona',   'geometry': Point(2.1734,   41.3851)},\n",
    "    {'name': 'New York',    'geometry': Point(-74.0060, 40.7128)},\n",
    "    {'name': 'Los Angeles', 'geometry': Point(-118.243, 34.0522)},\n",
    "    {'name': 'Helsinki',    'geometry': Point(24.9354,  60.1695)},\n",
    "    {'name': 'Dublin',      'geometry': Point(-6.2603,  53.3498)},\n",
    "    {'name': 'London',      'geometry': Point(-0.1278,  51.5074)},\n",
    "    {'name': 'Amsterdam',   'geometry': Point(4.9041,   52.3676)}\n",
    "]\n",
    "\n",
    "# Create a GeoDataFrame from the list of dictionaries\n",
    "gdf_cities = gpd.GeoDataFrame(cities_points)\n",
    "\n",
    "# Show the GeoDataFrame\n",
    "gdf_cities"
   ]
  },
  {
   "cell_type": "markdown",
   "id": "ranging-broadway",
   "metadata": {},
   "source": [
    "This cell output shows the example GeoDataFrame we just created, containing the point-level location and name of these selected cities."
   ]
  },
  {
   "cell_type": "markdown",
   "id": "consecutive-copyright",
   "metadata": {},
   "source": [
    "### 5.  Creating a GeoDataFrame from a DataFrame\n",
    "\n",
    "After creating a GeoDataFrame from scratch, we can convert from Pandas to GeoPandas. It is important to know that GeoPandas allows us to easily convert a Pandas `DataFrame` containing geographic coordinates into a GeoDataFrame. This process involves creating geometric objects (such as points) from coordinate columns using Shapely and then constructing a `GeoDataFrame` that includes these geometries. This is useful for transforming traditional tabular data into a geospatial format for spatial analysis."
   ]
  },
  {
   "cell_type": "code",
   "execution_count": 8,
   "id": "continental-spirit",
   "metadata": {},
   "outputs": [
    {
     "name": "stdout",
     "output_type": "stream",
     "text": [
      "Pandas DataFrame: \n",
      "\n"
     ]
    },
    {
     "data": {
      "text/html": [
       "<div>\n",
       "<style scoped>\n",
       "    .dataframe tbody tr th:only-of-type {\n",
       "        vertical-align: middle;\n",
       "    }\n",
       "\n",
       "    .dataframe tbody tr th {\n",
       "        vertical-align: top;\n",
       "    }\n",
       "\n",
       "    .dataframe thead th {\n",
       "        text-align: right;\n",
       "    }\n",
       "</style>\n",
       "<table border=\"1\" class=\"dataframe\">\n",
       "  <thead>\n",
       "    <tr style=\"text-align: right;\">\n",
       "      <th></th>\n",
       "      <th>name</th>\n",
       "      <th>longitude</th>\n",
       "      <th>latitude</th>\n",
       "    </tr>\n",
       "  </thead>\n",
       "  <tbody>\n",
       "    <tr>\n",
       "      <th>0</th>\n",
       "      <td>Budapest</td>\n",
       "      <td>19.0402</td>\n",
       "      <td>47.4979</td>\n",
       "    </tr>\n",
       "    <tr>\n",
       "      <th>1</th>\n",
       "      <td>Vienna</td>\n",
       "      <td>16.3738</td>\n",
       "      <td>48.2082</td>\n",
       "    </tr>\n",
       "    <tr>\n",
       "      <th>2</th>\n",
       "      <td>Barcelona</td>\n",
       "      <td>2.1734</td>\n",
       "      <td>41.3851</td>\n",
       "    </tr>\n",
       "    <tr>\n",
       "      <th>3</th>\n",
       "      <td>New York</td>\n",
       "      <td>-74.0060</td>\n",
       "      <td>40.7128</td>\n",
       "    </tr>\n",
       "    <tr>\n",
       "      <th>4</th>\n",
       "      <td>Los Angeles</td>\n",
       "      <td>-118.2437</td>\n",
       "      <td>34.0522</td>\n",
       "    </tr>\n",
       "  </tbody>\n",
       "</table>\n",
       "</div>"
      ],
      "text/plain": [
       "          name  longitude  latitude\n",
       "0     Budapest    19.0402   47.4979\n",
       "1       Vienna    16.3738   48.2082\n",
       "2    Barcelona     2.1734   41.3851\n",
       "3     New York   -74.0060   40.7128\n",
       "4  Los Angeles  -118.2437   34.0522"
      ]
     },
     "metadata": {},
     "output_type": "display_data"
    }
   ],
   "source": [
    "# Import the necessary libraries\n",
    "import pandas as pd\n",
    "\n",
    "# Define a list of dictionaries with city \n",
    "# names and their geographic locations\n",
    "df_cities = pd.DataFrame([\n",
    "    {'name': 'Budapest',    'longitude': 19.0402,   'latitude': 47.4979},\n",
    "    {'name': 'Vienna',      'longitude': 16.3738,   'latitude': 48.2082},\n",
    "    {'name': 'Barcelona',   'longitude': 2.1734,    'latitude': 41.3851},\n",
    "    {'name': 'New York',    'longitude': -74.006,   'latitude': 40.7128},\n",
    "    {'name': 'Los Angeles', 'longitude': -118.2437, 'latitude': 34.0522},\n",
    "    {'name': 'Helsinki',    'longitude': 24.9354,   'latitude': 60.1695},\n",
    "    {'name': 'Dublin',      'longitude': -6.2603,   'latitude': 53.3498},\n",
    "    {'name': 'London',      'longitude': -0.1278,   'latitude': 51.5074},\n",
    "    {'name': 'Amsterdam',   'longitude': 4.9041,    'latitude': 52.3676}\n",
    "])\n",
    "\n",
    "# Display the first 5 rows of the DataFrame\n",
    "print(\"Pandas DataFrame:\", \"\\n\")\n",
    "display(df_cities.head(5))"
   ]
  },
  {
   "cell_type": "code",
   "execution_count": 9,
   "id": "attached-belize",
   "metadata": {},
   "outputs": [
    {
     "data": {
      "text/plain": [
       "[<POINT (19.04 47.498)>,\n",
       " <POINT (16.374 48.208)>,\n",
       " <POINT (2.173 41.385)>,\n",
       " <POINT (-74.006 40.713)>,\n",
       " <POINT (-118.244 34.052)>]"
      ]
     },
     "execution_count": 9,
     "metadata": {},
     "output_type": "execute_result"
    }
   ],
   "source": [
    "# Create a list of Shapely Point objects from the long and lat columns\n",
    "geometry = [Point(xy) for xy in \\\n",
    "            zip(df_cities['longitude'], df_cities['latitude'])]\n",
    "\n",
    "# Print the first five geometries we created\n",
    "geometry[0:5]"
   ]
  },
  {
   "cell_type": "code",
   "execution_count": 10,
   "id": "advanced-solomon",
   "metadata": {},
   "outputs": [
    {
     "name": "stdout",
     "output_type": "stream",
     "text": [
      "\n",
      "GeoPandas GeoDataFrame: \n",
      "\n"
     ]
    },
    {
     "data": {
      "text/html": [
       "<div>\n",
       "<style scoped>\n",
       "    .dataframe tbody tr th:only-of-type {\n",
       "        vertical-align: middle;\n",
       "    }\n",
       "\n",
       "    .dataframe tbody tr th {\n",
       "        vertical-align: top;\n",
       "    }\n",
       "\n",
       "    .dataframe thead th {\n",
       "        text-align: right;\n",
       "    }\n",
       "</style>\n",
       "<table border=\"1\" class=\"dataframe\">\n",
       "  <thead>\n",
       "    <tr style=\"text-align: right;\">\n",
       "      <th></th>\n",
       "      <th>name</th>\n",
       "      <th>geometry</th>\n",
       "    </tr>\n",
       "  </thead>\n",
       "  <tbody>\n",
       "    <tr>\n",
       "      <th>0</th>\n",
       "      <td>Budapest</td>\n",
       "      <td>POINT (19.0402 47.4979)</td>\n",
       "    </tr>\n",
       "    <tr>\n",
       "      <th>1</th>\n",
       "      <td>Vienna</td>\n",
       "      <td>POINT (16.3738 48.2082)</td>\n",
       "    </tr>\n",
       "    <tr>\n",
       "      <th>2</th>\n",
       "      <td>Barcelona</td>\n",
       "      <td>POINT (2.1734 41.3851)</td>\n",
       "    </tr>\n",
       "    <tr>\n",
       "      <th>3</th>\n",
       "      <td>New York</td>\n",
       "      <td>POINT (-74.006 40.7128)</td>\n",
       "    </tr>\n",
       "    <tr>\n",
       "      <th>4</th>\n",
       "      <td>Los Angeles</td>\n",
       "      <td>POINT (-118.2437 34.0522)</td>\n",
       "    </tr>\n",
       "  </tbody>\n",
       "</table>\n",
       "</div>"
      ],
      "text/plain": [
       "          name                   geometry\n",
       "0     Budapest    POINT (19.0402 47.4979)\n",
       "1       Vienna    POINT (16.3738 48.2082)\n",
       "2    Barcelona     POINT (2.1734 41.3851)\n",
       "3     New York    POINT (-74.006 40.7128)\n",
       "4  Los Angeles  POINT (-118.2437 34.0522)"
      ]
     },
     "execution_count": 10,
     "metadata": {},
     "output_type": "execute_result"
    }
   ],
   "source": [
    "# Create a GeoDataFrame from the DataFrame, including the geometry column\n",
    "gdf_cities = gpd.GeoDataFrame(df_cities, geometry=geometry)\n",
    "\n",
    "# Optionally, drop the original longitude and latitude columns\n",
    "gdf_cities = gdf_cities.drop(columns=['longitude', 'latitude'])\n",
    "\n",
    "# Display the first 5 rows of the GeoDataFrame\n",
    "print(\"\\nGeoPandas GeoDataFrame:\", \"\\n\")\n",
    "gdf_cities.head(5)"
   ]
  },
  {
   "cell_type": "markdown",
   "id": "controlled-creator",
   "metadata": {},
   "source": [
    "### 6. Writing a GeoDataFrame to a File\n",
    "\n",
    "GeoPandas allows us to easily export GeoDataFrames to various GIS file formats, making it simple to share, store, and visualize our geospatial data. The most common formats include \n",
    "- [Shapefile](https://en.wikipedia.org/wiki/Shapefile) and\n",
    "- [GeoJSON](https://en.wikipedia.org/wiki/GeoJSON),\n",
    "\n",
    "among others. Exporting GeoDataFrames to these formats ensures compatibility with many GIS tools and applications.\n",
    "\n",
    "In the following example, we will recreate the global cities' GeoDataFrame using the previously defined `cities_points` dictionary and export it into these two different geospatial file types using the `to_file` method."
   ]
  },
  {
   "cell_type": "code",
   "execution_count": 11,
   "id": "whole-tsunami",
   "metadata": {},
   "outputs": [
    {
     "name": "stdout",
     "output_type": "stream",
     "text": [
      "GeoDataFrame has been written to 'Cities.shp'. \n",
      "\n",
      "GeoDataFrame has been written to 'Cities.geojson'. \n",
      "\n"
     ]
    }
   ],
   "source": [
    "# Create the GeoDataFrame\n",
    "gdf_cities = gpd.GeoDataFrame(cities_points)\n",
    "\n",
    "# Write the GeoDataFrame to a Shapefile\n",
    "gdf_cities.to_file('Cities.shp')\n",
    "\n",
    "# Write the GeoDataFrame to a GeoJSON file\n",
    "gdf_cities.to_file('Cities.geojson', driver='GeoJSON')\n",
    "\n",
    "# Confirmation messages\n",
    "print(\"GeoDataFrame has been written to 'Cities.shp'.\", \"\\n\")\n",
    "print(\"GeoDataFrame has been written to 'Cities.geojson'.\", \"\\n\")"
   ]
  },
  {
   "cell_type": "markdown",
   "id": "stylish-outline",
   "metadata": {},
   "source": [
    "### 7.  Bounds of a GeoSeries\n",
    "\n",
    "The `bounds` of a GeoSeries, storing the geometric information of a GeoDataFrame, provide the minimum bounding box that completely contains each geometry in the series. This bounding box is defined by the minimum and maximum x and y coordinates (minx, miny, maxx, maxy) for each geometry. \n",
    "\n",
    "Knowing the bounds of geometries can be useful for various spatial analyses, such as determining the extent of spatial features and performing spatial indexing. We now obtain these bounds using the sample global map data."
   ]
  },
  {
   "cell_type": "code",
   "execution_count": 12,
   "id": "behind-moral",
   "metadata": {},
   "outputs": [
    {
     "data": {
      "text/html": [
       "<div>\n",
       "<style scoped>\n",
       "    .dataframe tbody tr th:only-of-type {\n",
       "        vertical-align: middle;\n",
       "    }\n",
       "\n",
       "    .dataframe tbody tr th {\n",
       "        vertical-align: top;\n",
       "    }\n",
       "\n",
       "    .dataframe thead th {\n",
       "        text-align: right;\n",
       "    }\n",
       "</style>\n",
       "<table border=\"1\" class=\"dataframe\">\n",
       "  <thead>\n",
       "    <tr style=\"text-align: right;\">\n",
       "      <th></th>\n",
       "      <th>pop_est</th>\n",
       "      <th>continent</th>\n",
       "      <th>name</th>\n",
       "      <th>iso_a3</th>\n",
       "      <th>gdp_md_est</th>\n",
       "      <th>geometry</th>\n",
       "    </tr>\n",
       "  </thead>\n",
       "  <tbody>\n",
       "    <tr>\n",
       "      <th>0</th>\n",
       "      <td>889953.0</td>\n",
       "      <td>Oceania</td>\n",
       "      <td>Fiji</td>\n",
       "      <td>FJI</td>\n",
       "      <td>5496</td>\n",
       "      <td>MULTIPOLYGON (((180 -16.06713, 180 -16.55522, ...</td>\n",
       "    </tr>\n",
       "    <tr>\n",
       "      <th>1</th>\n",
       "      <td>58005463.0</td>\n",
       "      <td>Africa</td>\n",
       "      <td>Tanzania</td>\n",
       "      <td>TZA</td>\n",
       "      <td>63177</td>\n",
       "      <td>POLYGON ((33.90371 -0.95, 34.07262 -1.05982, 3...</td>\n",
       "    </tr>\n",
       "    <tr>\n",
       "      <th>2</th>\n",
       "      <td>603253.0</td>\n",
       "      <td>Africa</td>\n",
       "      <td>W. Sahara</td>\n",
       "      <td>ESH</td>\n",
       "      <td>907</td>\n",
       "      <td>POLYGON ((-8.66559 27.65643, -8.66512 27.58948...</td>\n",
       "    </tr>\n",
       "    <tr>\n",
       "      <th>3</th>\n",
       "      <td>37589262.0</td>\n",
       "      <td>North America</td>\n",
       "      <td>Canada</td>\n",
       "      <td>CAN</td>\n",
       "      <td>1736425</td>\n",
       "      <td>MULTIPOLYGON (((-122.84 49, -122.97421 49.0025...</td>\n",
       "    </tr>\n",
       "    <tr>\n",
       "      <th>4</th>\n",
       "      <td>328239523.0</td>\n",
       "      <td>North America</td>\n",
       "      <td>United States of America</td>\n",
       "      <td>USA</td>\n",
       "      <td>21433226</td>\n",
       "      <td>MULTIPOLYGON (((-122.84 49, -120 49, -117.0312...</td>\n",
       "    </tr>\n",
       "  </tbody>\n",
       "</table>\n",
       "</div>"
      ],
      "text/plain": [
       "       pop_est      continent                      name iso_a3  gdp_md_est  \\\n",
       "0     889953.0        Oceania                      Fiji    FJI        5496   \n",
       "1   58005463.0         Africa                  Tanzania    TZA       63177   \n",
       "2     603253.0         Africa                 W. Sahara    ESH         907   \n",
       "3   37589262.0  North America                    Canada    CAN     1736425   \n",
       "4  328239523.0  North America  United States of America    USA    21433226   \n",
       "\n",
       "                                            geometry  \n",
       "0  MULTIPOLYGON (((180 -16.06713, 180 -16.55522, ...  \n",
       "1  POLYGON ((33.90371 -0.95, 34.07262 -1.05982, 3...  \n",
       "2  POLYGON ((-8.66559 27.65643, -8.66512 27.58948...  \n",
       "3  MULTIPOLYGON (((-122.84 49, -122.97421 49.0025...  \n",
       "4  MULTIPOLYGON (((-122.84 49, -120 49, -117.0312...  "
      ]
     },
     "metadata": {},
     "output_type": "display_data"
    },
    {
     "name": "stdout",
     "output_type": "stream",
     "text": [
      "Bounds of the geometries in the GeoDataFrame: \n",
      "\n"
     ]
    },
    {
     "data": {
      "text/html": [
       "<div>\n",
       "<style scoped>\n",
       "    .dataframe tbody tr th:only-of-type {\n",
       "        vertical-align: middle;\n",
       "    }\n",
       "\n",
       "    .dataframe tbody tr th {\n",
       "        vertical-align: top;\n",
       "    }\n",
       "\n",
       "    .dataframe thead th {\n",
       "        text-align: right;\n",
       "    }\n",
       "</style>\n",
       "<table border=\"1\" class=\"dataframe\">\n",
       "  <thead>\n",
       "    <tr style=\"text-align: right;\">\n",
       "      <th></th>\n",
       "      <th>minx</th>\n",
       "      <th>miny</th>\n",
       "      <th>maxx</th>\n",
       "      <th>maxy</th>\n",
       "    </tr>\n",
       "  </thead>\n",
       "  <tbody>\n",
       "    <tr>\n",
       "      <th>0</th>\n",
       "      <td>-180.000000</td>\n",
       "      <td>-18.287990</td>\n",
       "      <td>180.000000</td>\n",
       "      <td>-16.020882</td>\n",
       "    </tr>\n",
       "    <tr>\n",
       "      <th>1</th>\n",
       "      <td>29.339998</td>\n",
       "      <td>-11.720938</td>\n",
       "      <td>40.316590</td>\n",
       "      <td>-0.950000</td>\n",
       "    </tr>\n",
       "    <tr>\n",
       "      <th>2</th>\n",
       "      <td>-17.063423</td>\n",
       "      <td>20.999752</td>\n",
       "      <td>-8.665124</td>\n",
       "      <td>27.656426</td>\n",
       "    </tr>\n",
       "    <tr>\n",
       "      <th>3</th>\n",
       "      <td>-140.997780</td>\n",
       "      <td>41.675105</td>\n",
       "      <td>-52.648099</td>\n",
       "      <td>83.233240</td>\n",
       "    </tr>\n",
       "    <tr>\n",
       "      <th>4</th>\n",
       "      <td>-171.791111</td>\n",
       "      <td>18.916190</td>\n",
       "      <td>-66.964660</td>\n",
       "      <td>71.357764</td>\n",
       "    </tr>\n",
       "  </tbody>\n",
       "</table>\n",
       "</div>"
      ],
      "text/plain": [
       "         minx       miny        maxx       maxy\n",
       "0 -180.000000 -18.287990  180.000000 -16.020882\n",
       "1   29.339998 -11.720938   40.316590  -0.950000\n",
       "2  -17.063423  20.999752   -8.665124  27.656426\n",
       "3 -140.997780  41.675105  -52.648099  83.233240\n",
       "4 -171.791111  18.916190  -66.964660  71.357764"
      ]
     },
     "execution_count": 12,
     "metadata": {},
     "output_type": "execute_result"
    }
   ],
   "source": [
    "# Display the first five countries in the GeoDataFrame\n",
    "display(gdf.head(5))\n",
    "\n",
    "# Access the bounds of the geometry column\n",
    "bounds = gdf.geometry.bounds\n",
    "\n",
    "# Display the bounds of the first five geometries\n",
    "print(\"Bounds of the geometries in the GeoDataFrame:\", \"\\n\")\n",
    "bounds.head(5)"
   ]
  },
  {
   "cell_type": "markdown",
   "id": "thrown-polymer",
   "metadata": {},
   "source": [
    "### 8. Area and Perimeter Computation\n",
    "\n",
    "As GeoPandas is building on Shapely, it has the ability to calculate the area and perimeter length of geometries stored in a GeoDataFrame. Area calculation is especially useful for polygons, which represent the surface area of geographic features. The length and the area are computed in the units of the coordinate reference system (CRS) used by the geometries. In [Notebook4](../notebook4), we will study CRS in more detail.\n",
    "\n",
    "In the following examples, we will import the built-in global country map data file, store it in a GeoDataFrame, and then call its built-in length and area computation commands."
   ]
  },
  {
   "cell_type": "code",
   "execution_count": 13,
   "id": "manufactured-cursor",
   "metadata": {},
   "outputs": [
    {
     "name": "stdout",
     "output_type": "stream",
     "text": [
      "Data type of the length: <class 'pandas.core.series.Series'> \n",
      "\n",
      "Length of the geometries as country perimeters: \n",
      "\n"
     ]
    },
    {
     "data": {
      "text/plain": [
       "0        8.991010\n",
       "1       37.260671\n",
       "2       27.662143\n",
       "3      916.062855\n",
       "4      356.977119\n",
       "          ...    \n",
       "172     16.326071\n",
       "173      5.679511\n",
       "174      4.938975\n",
       "175      3.387105\n",
       "176     37.450164\n",
       "Length: 177, dtype: float64"
      ]
     },
     "execution_count": 13,
     "metadata": {},
     "output_type": "execute_result"
    }
   ],
   "source": [
    "# Calculate the length of each geometry in the GeoDataFrame\n",
    "length = gdf.length\n",
    "\n",
    "# Print the areas of the geometries\n",
    "print(\"Data type of the length:\", type(length), \"\\n\")\n",
    "\n",
    "# Print the areas of the geometries\n",
    "print(\"Length of the geometries as country perimeters:\", \"\\n\")\n",
    "length"
   ]
  },
  {
   "cell_type": "code",
   "execution_count": 14,
   "id": "designing-cowboy",
   "metadata": {},
   "outputs": [
    {
     "name": "stdout",
     "output_type": "stream",
     "text": [
      "Data type of the areas: <class 'pandas.core.series.Series'> \n",
      "\n",
      "Areas of the geometries as country areas: \n",
      "\n"
     ]
    },
    {
     "data": {
      "text/plain": [
       "0         1.639511\n",
       "1        76.301964\n",
       "2         8.603984\n",
       "3      1712.995228\n",
       "4      1122.281921\n",
       "          ...     \n",
       "172       8.604719\n",
       "173       1.479321\n",
       "174       1.231641\n",
       "175       0.639000\n",
       "176      51.196106\n",
       "Length: 177, dtype: float64"
      ]
     },
     "execution_count": 14,
     "metadata": {},
     "output_type": "execute_result"
    }
   ],
   "source": [
    "# Calculate the area of each geometry in the GeoDataFrame\n",
    "areas = gdf.area\n",
    "\n",
    "# Print the areas of the geometries\n",
    "print(\"Data type of the areas:\", type(areas), \"\\n\")\n",
    "\n",
    "# Print the areas of the geometries\n",
    "print(\"Areas of the geometries as country areas:\", \"\\n\")\n",
    "areas"
   ]
  },
  {
   "cell_type": "markdown",
   "id": "thirty-suite",
   "metadata": {},
   "source": [
    "By calculating the area of geometries in a GeoDataFrame, we can perform various spatial analyses that require surface area measurements, such as land use analysis, habitat estimation, and resource management."
   ]
  },
  {
   "cell_type": "markdown",
   "id": "accepted-wellington",
   "metadata": {},
   "source": [
    "### 9. Simple Visualization with GeoPandas\n",
    "\n",
    "GeoPandas makes it easy to visualize geospatial data by providing built-in plotting capabilities. Using the `plot` method, we can quickly create simple maps to visualize the geometries in a GeoDataFrame. This functionality is helpful for creating quick visual representations of spatial data.\n",
    "\n",
    "In this example, first, we recap how to read the global country map data and then quickly visualize the GeoDataFrame.\n",
    "\n",
    "*Note*: While we are already using the visualization library `Matplotlib` behind the scenes, we will dive deeper into geospatial data visualization in the upcoming notebooks."
   ]
  },
  {
   "cell_type": "code",
   "execution_count": 15,
   "id": "demanding-meter",
   "metadata": {},
   "outputs": [
    {
     "data": {
      "text/plain": [
       "<Axes: >"
      ]
     },
     "execution_count": 15,
     "metadata": {},
     "output_type": "execute_result"
    },
    {
     "data": {
      "image/png": "[encoded data removed]",
      "text/plain": [
       "<Figure size 640x480 with 1 Axes>"
      ]
     },
     "metadata": {},
     "output_type": "display_data"
    }
   ],
   "source": [
    "# Import the necessary library\n",
    "import geopandas as gpd\n",
    "\n",
    "# Define location of the data file\n",
    "file_name = 'naturalearth_lowres/naturalearth_lowres.shp'\n",
    "\n",
    "# Read the saved dataset (naturalearth_lowres) into a GeoDataFrame\n",
    "gdf = gpd.read_file(file_name)\n",
    "\n",
    "# Plot the GeoDataFrame\n",
    "gdf.plot()"
   ]
  },
  {
   "cell_type": "markdown",
   "id": "informational-essex",
   "metadata": {},
   "source": [
    "By using GeoPandas' built-in plotting capabilities, we can quickly create visualizations of our geospatial data. In the later dedicated notebook, we will further explore how these maps can be customized for advanced spatial analytics."
   ]
  },
  {
   "cell_type": "markdown",
   "id": "cooked-tamil",
   "metadata": {},
   "source": [
    "### 10.  Buffering a GeoDataFrame\n",
    "\n",
    "Buffering is a common spatial operation implemented in Shapely and, consequently, inherited by GeoPandas. Geometry buffering involves creating zones around geometric features. In GeoPandas, we can easily buffer geometries in a GeoDataFrame using the `buffer` method, which is useful for various spatial analyses such as \n",
    "- proximity analysis,\n",
    "- impact assessments, and\n",
    "- creating buffer zones around specific spatial features.\n",
    "\n",
    "In the following code block, we first create a sample GeoDataFrame consisting of the locations of a few selected global cities using the previously defined `cities_points` dictionary. Then, we create a copy of the GeoDataFrame, which we will modify by applying a buffer zone with a radius of 5 units. As a comparison, we visualize both the unbuffered and buffered GeoDataFrames."
   ]
  },
  {
   "cell_type": "code",
   "execution_count": 17,
   "id": "professional-stuart",
   "metadata": {},
   "outputs": [
    {
     "name": "stdout",
     "output_type": "stream",
     "text": [
      "Buffered GeoDataFrame: \n",
      "\n"
     ]
    },
    {
     "data": {
      "text/html": [
       "<div>\n",
       "<style scoped>\n",
       "    .dataframe tbody tr th:only-of-type {\n",
       "        vertical-align: middle;\n",
       "    }\n",
       "\n",
       "    .dataframe tbody tr th {\n",
       "        vertical-align: top;\n",
       "    }\n",
       "\n",
       "    .dataframe thead th {\n",
       "        text-align: right;\n",
       "    }\n",
       "</style>\n",
       "<table border=\"1\" class=\"dataframe\">\n",
       "  <thead>\n",
       "    <tr style=\"text-align: right;\">\n",
       "      <th></th>\n",
       "      <th>name</th>\n",
       "      <th>geometry</th>\n",
       "    </tr>\n",
       "  </thead>\n",
       "  <tbody>\n",
       "    <tr>\n",
       "      <th>0</th>\n",
       "      <td>Budapest</td>\n",
       "      <td>POLYGON ((24.0402 47.4979, 24.01612 47.00781, ...</td>\n",
       "    </tr>\n",
       "    <tr>\n",
       "      <th>1</th>\n",
       "      <td>Vienna</td>\n",
       "      <td>POLYGON ((21.3738 48.2082, 21.34972 47.71811, ...</td>\n",
       "    </tr>\n",
       "    <tr>\n",
       "      <th>2</th>\n",
       "      <td>Barcelona</td>\n",
       "      <td>POLYGON ((7.1734 41.3851, 7.14932 40.89501, 7....</td>\n",
       "    </tr>\n",
       "    <tr>\n",
       "      <th>3</th>\n",
       "      <td>New York</td>\n",
       "      <td>POLYGON ((-69.006 40.7128, -69.03008 40.22271,...</td>\n",
       "    </tr>\n",
       "    <tr>\n",
       "      <th>4</th>\n",
       "      <td>Los Angeles</td>\n",
       "      <td>POLYGON ((-113.243 34.0522, -113.26708 33.5621...</td>\n",
       "    </tr>\n",
       "    <tr>\n",
       "      <th>5</th>\n",
       "      <td>Helsinki</td>\n",
       "      <td>POLYGON ((29.9354 60.1695, 29.91132 59.67941, ...</td>\n",
       "    </tr>\n",
       "    <tr>\n",
       "      <th>6</th>\n",
       "      <td>Dublin</td>\n",
       "      <td>POLYGON ((-1.2603 53.3498, -1.28438 52.85971, ...</td>\n",
       "    </tr>\n",
       "    <tr>\n",
       "      <th>7</th>\n",
       "      <td>London</td>\n",
       "      <td>POLYGON ((4.8722 51.5074, 4.84812 51.01731, 4....</td>\n",
       "    </tr>\n",
       "    <tr>\n",
       "      <th>8</th>\n",
       "      <td>Amsterdam</td>\n",
       "      <td>POLYGON ((9.9041 52.3676, 9.88002 51.87751, 9....</td>\n",
       "    </tr>\n",
       "  </tbody>\n",
       "</table>\n",
       "</div>"
      ],
      "text/plain": [
       "          name                                           geometry\n",
       "0     Budapest  POLYGON ((24.0402 47.4979, 24.01612 47.00781, ...\n",
       "1       Vienna  POLYGON ((21.3738 48.2082, 21.34972 47.71811, ...\n",
       "2    Barcelona  POLYGON ((7.1734 41.3851, 7.14932 40.89501, 7....\n",
       "3     New York  POLYGON ((-69.006 40.7128, -69.03008 40.22271,...\n",
       "4  Los Angeles  POLYGON ((-113.243 34.0522, -113.26708 33.5621...\n",
       "5     Helsinki  POLYGON ((29.9354 60.1695, 29.91132 59.67941, ...\n",
       "6       Dublin  POLYGON ((-1.2603 53.3498, -1.28438 52.85971, ...\n",
       "7       London  POLYGON ((4.8722 51.5074, 4.84812 51.01731, 4....\n",
       "8    Amsterdam  POLYGON ((9.9041 52.3676, 9.88002 51.87751, 9...."
      ]
     },
     "metadata": {},
     "output_type": "display_data"
    },
    {
     "data": {
      "text/plain": [
       "<Axes: >"
      ]
     },
     "execution_count": 17,
     "metadata": {},
     "output_type": "execute_result"
    },
    {
     "data": {
      "image/png": "[encoded data removed]",
      "text/plain": [
       "<Figure size 640x480 with 1 Axes>"
      ]
     },
     "metadata": {},
     "output_type": "display_data"
    },
    {
     "data": {
      "image/png": "[encoded data removed]",
      "text/plain": [
       "<Figure size 640x480 with 1 Axes>"
      ]
     },
     "metadata": {},
     "output_type": "display_data"
    }
   ],
   "source": [
    "# Plot the original GeoDataFrame\n",
    "gdf_cities.plot()\n",
    "\n",
    "# Create a copy of the GeoDataFrame for buffering\n",
    "gdf_cities_buffered = gdf_cities.copy()\n",
    "\n",
    "# Apply a buffer of 5 units around each geometry\n",
    "gdf_cities_buffered['geometry'] = gdf_cities_buffered['geometry'].buffer(5)\n",
    "\n",
    "# Display the buffered GeoDataFrame\n",
    "print(\"Buffered GeoDataFrame:\", \"\\n\")\n",
    "display(gdf_cities_buffered)\n",
    "\n",
    "# Plot the buffered GeoDataFrame\n",
    "gdf_cities_buffered.plot()"
   ]
  },
  {
   "cell_type": "markdown",
   "id": "rocky-secret",
   "metadata": {},
   "source": [
    "### 11. Spatial Join with GeoPandas\n",
    "\n",
    "**Spatial join** is a powerful operation that combines two GeoDataFrames based on their spatial relationship. This operation is useful for integrating different spatial datasets and performing complex spatial analyses. GeoPandas provides the `sjoin` method to perform spatial joins, allowing us to merge GeoDataFrames based on spatial relations like intersection, within, and contains.\n",
    "\n",
    "In the next example, we will illustrate spatial join by combining two of the data sets we have been previously using in this section. \n",
    "\n",
    "1. First, we read the global country-level data again, containing the polygon boundaries of each country.\n",
    "2. Second, we re-create the global city selection table containing the point locations of each city using the `cities_points` dictionary."
   ]
  },
  {
   "cell_type": "code",
   "execution_count": 20,
   "id": "little-copper",
   "metadata": {},
   "outputs": [],
   "source": [
    "# Load a sample GeoDataFrame (using the built-in \n",
    "# 'naturalearth_lowres' dataset for countries)\n",
    "#  Define location of the data file\n",
    "file_name = 'naturalearth_lowres/naturalearth_lowres.shp'\n",
    "\n",
    "# Read the saved dataset (naturalearth_lowres) into a GeoDataFrame\n",
    "gdf_countries = gpd.read_file(file_name)\n",
    "\n",
    "# Create the GeoDataFrame for cities\n",
    "gdf_cities = gpd.GeoDataFrame(cities_points)"
   ]
  },
  {
   "cell_type": "markdown",
   "id": "indirect-brother",
   "metadata": {},
   "source": [
    "Then, we apply several data preparation steps, such as selecting and renaming the target columns within these DataFrames."
   ]
  },
  {
   "cell_type": "code",
   "execution_count": 21,
   "id": "removed-anthropology",
   "metadata": {},
   "outputs": [
    {
     "name": "stdout",
     "output_type": "stream",
     "text": [
      "Filtered countries GeoDataFrame: \n",
      "\n"
     ]
    },
    {
     "data": {
      "text/html": [
       "<div>\n",
       "<style scoped>\n",
       "    .dataframe tbody tr th:only-of-type {\n",
       "        vertical-align: middle;\n",
       "    }\n",
       "\n",
       "    .dataframe tbody tr th {\n",
       "        vertical-align: top;\n",
       "    }\n",
       "\n",
       "    .dataframe thead th {\n",
       "        text-align: right;\n",
       "    }\n",
       "</style>\n",
       "<table border=\"1\" class=\"dataframe\">\n",
       "  <thead>\n",
       "    <tr style=\"text-align: right;\">\n",
       "      <th></th>\n",
       "      <th>geometry</th>\n",
       "    </tr>\n",
       "    <tr>\n",
       "      <th>country</th>\n",
       "      <th></th>\n",
       "    </tr>\n",
       "  </thead>\n",
       "  <tbody>\n",
       "    <tr>\n",
       "      <th>Fiji</th>\n",
       "      <td>MULTIPOLYGON (((180 -16.06713, 180 -16.55522, ...</td>\n",
       "    </tr>\n",
       "    <tr>\n",
       "      <th>Tanzania</th>\n",
       "      <td>POLYGON ((33.90371 -0.95, 34.07262 -1.05982, 3...</td>\n",
       "    </tr>\n",
       "    <tr>\n",
       "      <th>W. Sahara</th>\n",
       "      <td>POLYGON ((-8.66559 27.65643, -8.66512 27.58948...</td>\n",
       "    </tr>\n",
       "  </tbody>\n",
       "</table>\n",
       "</div>"
      ],
      "text/plain": [
       "                                                    geometry\n",
       "country                                                     \n",
       "Fiji       MULTIPOLYGON (((180 -16.06713, 180 -16.55522, ...\n",
       "Tanzania   POLYGON ((33.90371 -0.95, 34.07262 -1.05982, 3...\n",
       "W. Sahara  POLYGON ((-8.66559 27.65643, -8.66512 27.58948..."
      ]
     },
     "metadata": {},
     "output_type": "display_data"
    },
    {
     "name": "stdout",
     "output_type": "stream",
     "text": [
      "Filtered cities GeoDataFrame: \n",
      "\n"
     ]
    },
    {
     "data": {
      "text/html": [
       "<div>\n",
       "<style scoped>\n",
       "    .dataframe tbody tr th:only-of-type {\n",
       "        vertical-align: middle;\n",
       "    }\n",
       "\n",
       "    .dataframe tbody tr th {\n",
       "        vertical-align: top;\n",
       "    }\n",
       "\n",
       "    .dataframe thead th {\n",
       "        text-align: right;\n",
       "    }\n",
       "</style>\n",
       "<table border=\"1\" class=\"dataframe\">\n",
       "  <thead>\n",
       "    <tr style=\"text-align: right;\">\n",
       "      <th></th>\n",
       "      <th>geometry</th>\n",
       "    </tr>\n",
       "    <tr>\n",
       "      <th>city</th>\n",
       "      <th></th>\n",
       "    </tr>\n",
       "  </thead>\n",
       "  <tbody>\n",
       "    <tr>\n",
       "      <th>Budapest</th>\n",
       "      <td>POINT (19.0402 47.4979)</td>\n",
       "    </tr>\n",
       "    <tr>\n",
       "      <th>Vienna</th>\n",
       "      <td>POINT (16.3738 48.2082)</td>\n",
       "    </tr>\n",
       "    <tr>\n",
       "      <th>Barcelona</th>\n",
       "      <td>POINT (2.1734 41.3851)</td>\n",
       "    </tr>\n",
       "  </tbody>\n",
       "</table>\n",
       "</div>"
      ],
      "text/plain": [
       "                          geometry\n",
       "city                              \n",
       "Budapest   POINT (19.0402 47.4979)\n",
       "Vienna     POINT (16.3738 48.2082)\n",
       "Barcelona   POINT (2.1734 41.3851)"
      ]
     },
     "metadata": {},
     "output_type": "display_data"
    },
    {
     "name": "stdout",
     "output_type": "stream",
     "text": [
      "Number of countries: 177 \n",
      "\n",
      "Number of cities: 9 \n",
      "\n"
     ]
    }
   ],
   "source": [
    "# Filter and prepare the countries GeoDataFrame\n",
    "gdf_countries_filtered = gdf_countries[['name', 'geometry']].rename( \\\n",
    "                    columns={'name': 'country'}).set_index('country')\n",
    "\n",
    "\n",
    "# Filter and prepare the cities GeoDataFrame\n",
    "gdf_cities_filtered = gdf_cities[['name', 'geometry']].rename( \\\n",
    "                    columns={'name': 'city'}).set_index('city')\n",
    "\n",
    "# Display the first 3 rows of the filtered countries GeoDataFrame\n",
    "print(\"Filtered countries GeoDataFrame:\", \"\\n\")\n",
    "display(gdf_countries_filtered.head(3))\n",
    "\n",
    "# Display the first 3 rows of the filtered cities GeoDataFrame\n",
    "print(\"Filtered cities GeoDataFrame:\", \"\\n\")\n",
    "display(gdf_cities_filtered.head(3))\n",
    "\n",
    "# Print the number of entries in the filtered GeoDataFrames\n",
    "print(f\"Number of countries: {len(gdf_countries_filtered)}\", \"\\n\")\n",
    "print(f\"Number of cities: {len(gdf_cities_filtered)}\", \"\\n\")"
   ]
  },
  {
   "cell_type": "markdown",
   "id": "cardiovascular-worthy",
   "metadata": {},
   "source": [
    "Now, we perform the spatial joins. First, we join the cities to the countries, and then, we join the countries to the cities. The order will define the type of output we get from the spatial joins."
   ]
  },
  {
   "cell_type": "code",
   "execution_count": 24,
   "id": "wired-phoenix",
   "metadata": {},
   "outputs": [
    {
     "name": "stdout",
     "output_type": "stream",
     "text": [
      "Number of cities matched to countries: 9 \n",
      "\n",
      "Cities within countries: \n",
      "\n"
     ]
    },
    {
     "data": {
      "text/html": [
       "<div>\n",
       "<style scoped>\n",
       "    .dataframe tbody tr th:only-of-type {\n",
       "        vertical-align: middle;\n",
       "    }\n",
       "\n",
       "    .dataframe tbody tr th {\n",
       "        vertical-align: top;\n",
       "    }\n",
       "\n",
       "    .dataframe thead th {\n",
       "        text-align: right;\n",
       "    }\n",
       "</style>\n",
       "<table border=\"1\" class=\"dataframe\">\n",
       "  <thead>\n",
       "    <tr style=\"text-align: right;\">\n",
       "      <th></th>\n",
       "      <th>geometry</th>\n",
       "      <th>country</th>\n",
       "    </tr>\n",
       "    <tr>\n",
       "      <th>city</th>\n",
       "      <th></th>\n",
       "      <th></th>\n",
       "    </tr>\n",
       "  </thead>\n",
       "  <tbody>\n",
       "    <tr>\n",
       "      <th>Budapest</th>\n",
       "      <td>POINT (19.0402 47.4979)</td>\n",
       "      <td>Hungary</td>\n",
       "    </tr>\n",
       "    <tr>\n",
       "      <th>Vienna</th>\n",
       "      <td>POINT (16.3738 48.2082)</td>\n",
       "      <td>Austria</td>\n",
       "    </tr>\n",
       "    <tr>\n",
       "      <th>Barcelona</th>\n",
       "      <td>POINT (2.1734 41.3851)</td>\n",
       "      <td>Spain</td>\n",
       "    </tr>\n",
       "    <tr>\n",
       "      <th>New York</th>\n",
       "      <td>POINT (-74.006 40.7128)</td>\n",
       "      <td>United States of America</td>\n",
       "    </tr>\n",
       "    <tr>\n",
       "      <th>Los Angeles</th>\n",
       "      <td>POINT (-118.243 34.0522)</td>\n",
       "      <td>United States of America</td>\n",
       "    </tr>\n",
       "    <tr>\n",
       "      <th>Helsinki</th>\n",
       "      <td>POINT (24.9354 60.1695)</td>\n",
       "      <td>Finland</td>\n",
       "    </tr>\n",
       "    <tr>\n",
       "      <th>Dublin</th>\n",
       "      <td>POINT (-6.2603 53.3498)</td>\n",
       "      <td>Ireland</td>\n",
       "    </tr>\n",
       "    <tr>\n",
       "      <th>London</th>\n",
       "      <td>POINT (-0.1278 51.5074)</td>\n",
       "      <td>United Kingdom</td>\n",
       "    </tr>\n",
       "    <tr>\n",
       "      <th>Amsterdam</th>\n",
       "      <td>POINT (4.9041 52.3676)</td>\n",
       "      <td>Netherlands</td>\n",
       "    </tr>\n",
       "  </tbody>\n",
       "</table>\n",
       "</div>"
      ],
      "text/plain": [
       "                             geometry                   country\n",
       "city                                                           \n",
       "Budapest      POINT (19.0402 47.4979)                   Hungary\n",
       "Vienna        POINT (16.3738 48.2082)                   Austria\n",
       "Barcelona      POINT (2.1734 41.3851)                     Spain\n",
       "New York      POINT (-74.006 40.7128)  United States of America\n",
       "Los Angeles  POINT (-118.243 34.0522)  United States of America\n",
       "Helsinki      POINT (24.9354 60.1695)                   Finland\n",
       "Dublin        POINT (-6.2603 53.3498)                   Ireland\n",
       "London        POINT (-0.1278 51.5074)            United Kingdom\n",
       "Amsterdam      POINT (4.9041 52.3676)               Netherlands"
      ]
     },
     "metadata": {},
     "output_type": "display_data"
    },
    {
     "data": {
      "text/plain": [
       "<Axes: >"
      ]
     },
     "execution_count": 24,
     "metadata": {},
     "output_type": "execute_result"
    },
    {
     "data": {
      "image/png": "[encoded data removed]",
      "text/plain": [
       "<Figure size 640x480 with 1 Axes>"
      ]
     },
     "metadata": {},
     "output_type": "display_data"
    }
   ],
   "source": [
    "# Perform a spatial join: cities within countries\n",
    "cities_within_countries = gpd.sjoin(gdf_cities_filtered, \n",
    "                                    gdf_countries_filtered, \n",
    "                                    how=\"inner\",\n",
    "                                    predicate=\"within\")\n",
    "\n",
    "print(\"Number of cities matched to countries:\", \\\n",
    "      len(set(cities_within_countries.index)), \"\\n\")\n",
    "\n",
    "print(\"Cities within countries:\", \"\\n\")\n",
    "display(cities_within_countries)\n",
    "cities_within_countries.plot()"
   ]
  },
  {
   "cell_type": "code",
   "execution_count": 25,
   "id": "joint-damages",
   "metadata": {},
   "outputs": [
    {
     "name": "stdout",
     "output_type": "stream",
     "text": [
      "Number of countries containing cities: 8 \n",
      "\n",
      "Countries containing cities: \n",
      "\n"
     ]
    },
    {
     "data": {
      "text/html": [
       "<div>\n",
       "<style scoped>\n",
       "    .dataframe tbody tr th:only-of-type {\n",
       "        vertical-align: middle;\n",
       "    }\n",
       "\n",
       "    .dataframe tbody tr th {\n",
       "        vertical-align: top;\n",
       "    }\n",
       "\n",
       "    .dataframe thead th {\n",
       "        text-align: right;\n",
       "    }\n",
       "</style>\n",
       "<table border=\"1\" class=\"dataframe\">\n",
       "  <thead>\n",
       "    <tr style=\"text-align: right;\">\n",
       "      <th></th>\n",
       "      <th>geometry</th>\n",
       "      <th>city</th>\n",
       "    </tr>\n",
       "    <tr>\n",
       "      <th>country</th>\n",
       "      <th></th>\n",
       "      <th></th>\n",
       "    </tr>\n",
       "  </thead>\n",
       "  <tbody>\n",
       "    <tr>\n",
       "      <th>United States of America</th>\n",
       "      <td>MULTIPOLYGON (((-122.84 49, -120 49, -117.0312...</td>\n",
       "      <td>Los Angeles</td>\n",
       "    </tr>\n",
       "    <tr>\n",
       "      <th>United States of America</th>\n",
       "      <td>MULTIPOLYGON (((-122.84 49, -120 49, -117.0312...</td>\n",
       "      <td>New York</td>\n",
       "    </tr>\n",
       "    <tr>\n",
       "      <th>Austria</th>\n",
       "      <td>POLYGON ((16.97967 48.1235, 16.90375 47.71487,...</td>\n",
       "      <td>Vienna</td>\n",
       "    </tr>\n",
       "    <tr>\n",
       "      <th>Hungary</th>\n",
       "      <td>POLYGON ((22.08561 48.42226, 22.64082 48.15024...</td>\n",
       "      <td>Budapest</td>\n",
       "    </tr>\n",
       "    <tr>\n",
       "      <th>Netherlands</th>\n",
       "      <td>POLYGON ((6.90514 53.48216, 7.09205 53.14404, ...</td>\n",
       "      <td>Amsterdam</td>\n",
       "    </tr>\n",
       "    <tr>\n",
       "      <th>Spain</th>\n",
       "      <td>POLYGON ((-7.45373 37.09779, -7.53711 37.4289,...</td>\n",
       "      <td>Barcelona</td>\n",
       "    </tr>\n",
       "    <tr>\n",
       "      <th>Ireland</th>\n",
       "      <td>POLYGON ((-6.19788 53.86757, -6.03299 53.15316...</td>\n",
       "      <td>Dublin</td>\n",
       "    </tr>\n",
       "    <tr>\n",
       "      <th>United Kingdom</th>\n",
       "      <td>MULTIPOLYGON (((-6.19788 53.86757, -6.95373 54...</td>\n",
       "      <td>London</td>\n",
       "    </tr>\n",
       "    <tr>\n",
       "      <th>Finland</th>\n",
       "      <td>POLYGON ((28.59193 69.06478, 28.44594 68.36461...</td>\n",
       "      <td>Helsinki</td>\n",
       "    </tr>\n",
       "  </tbody>\n",
       "</table>\n",
       "</div>"
      ],
      "text/plain": [
       "                                                                   geometry  \\\n",
       "country                                                                       \n",
       "United States of America  MULTIPOLYGON (((-122.84 49, -120 49, -117.0312...   \n",
       "United States of America  MULTIPOLYGON (((-122.84 49, -120 49, -117.0312...   \n",
       "Austria                   POLYGON ((16.97967 48.1235, 16.90375 47.71487,...   \n",
       "Hungary                   POLYGON ((22.08561 48.42226, 22.64082 48.15024...   \n",
       "Netherlands               POLYGON ((6.90514 53.48216, 7.09205 53.14404, ...   \n",
       "Spain                     POLYGON ((-7.45373 37.09779, -7.53711 37.4289,...   \n",
       "Ireland                   POLYGON ((-6.19788 53.86757, -6.03299 53.15316...   \n",
       "United Kingdom            MULTIPOLYGON (((-6.19788 53.86757, -6.95373 54...   \n",
       "Finland                   POLYGON ((28.59193 69.06478, 28.44594 68.36461...   \n",
       "\n",
       "                                 city  \n",
       "country                                \n",
       "United States of America  Los Angeles  \n",
       "United States of America     New York  \n",
       "Austria                        Vienna  \n",
       "Hungary                      Budapest  \n",
       "Netherlands                 Amsterdam  \n",
       "Spain                       Barcelona  \n",
       "Ireland                        Dublin  \n",
       "United Kingdom                 London  \n",
       "Finland                      Helsinki  "
      ]
     },
     "metadata": {},
     "output_type": "display_data"
    },
    {
     "data": {
      "text/plain": [
       "<Axes: >"
      ]
     },
     "execution_count": 25,
     "metadata": {},
     "output_type": "execute_result"
    },
    {
     "data": {
      "image/png": "[encoded data removed]",
      "text/plain": [
       "<Figure size 640x480 with 1 Axes>"
      ]
     },
     "metadata": {},
     "output_type": "display_data"
    }
   ],
   "source": [
    "# Perform a spatial join: countries containing cities\n",
    "countries_containing_cities = gpd.sjoin(gdf_countries_filtered, \n",
    "                                        gdf_cities_filtered, \n",
    "                                        how=\"inner\", \n",
    "                                        predicate=\"contains\")\n",
    "\n",
    "print(\"Number of countries containing cities:\", \\\n",
    "      len(set(countries_containing_cities.index)), \"\\n\")\n",
    "\n",
    "print(\"Countries containing cities:\", \"\\n\")\n",
    "display(countries_containing_cities)\n",
    "countries_containing_cities.plot()"
   ]
  },
  {
   "cell_type": "markdown",
   "id": "scenic-cricket",
   "metadata": {},
   "source": [
    "On the one hand, these results show that the spatial join successfully matched all nine cities to their respective countries, so the number of cities matched to countries equals the number of cities in the original GeoDataFrame. Since all cities were matched to a country, the **cities_within_countries** map displays all the cities we initially had. \n",
    "\n",
    "On the other hand, we filtered down the global list of 177 countries to only eight countries by joining the nine cities, as both New York City and Los Angeles belong to the US. As a result, the **countries_containing_cities** map contains only eight countries."
   ]
  },
  {
   "cell_type": "markdown",
   "id": "liable-ferry",
   "metadata": {},
   "source": [
    "### 12.  Overlaying GeoDataFrames\n",
    "\n",
    "**Overlaying** GeoDataFrames involves combining two spatial datasets based on their spatial relationship to create a new GeoDataFrame. GeoPandas provides the `overlay` method to perform these operations, allowing us to integrate and analyze spatial data efficiently.\n",
    "\n",
    "In the following example, we first prepare the input data, which includes both the built-in world map and our example selection of cities using the `cities_points` dictionary. Then, we buffer the GeoDataFrame containing the cities, as demonstrated in the **Buffering a GeoDataFrame** section. Finally, we call the `overlay` method and use it to create a GeoDataFrame containing the intersection geometries of the cities' buffer zones and the country polygons they intersect."
   ]
  },
  {
   "cell_type": "code",
   "execution_count": 26,
   "id": "occupational-drama",
   "metadata": {},
   "outputs": [
    {
     "name": "stdout",
     "output_type": "stream",
     "text": [
      "Overlay result (first 10 rows): \n",
      "\n"
     ]
    },
    {
     "data": {
      "text/html": [
       "<div>\n",
       "<style scoped>\n",
       "    .dataframe tbody tr th:only-of-type {\n",
       "        vertical-align: middle;\n",
       "    }\n",
       "\n",
       "    .dataframe tbody tr th {\n",
       "        vertical-align: top;\n",
       "    }\n",
       "\n",
       "    .dataframe thead th {\n",
       "        text-align: right;\n",
       "    }\n",
       "</style>\n",
       "<table border=\"1\" class=\"dataframe\">\n",
       "  <thead>\n",
       "    <tr style=\"text-align: right;\">\n",
       "      <th></th>\n",
       "      <th>name</th>\n",
       "      <th>geometry</th>\n",
       "    </tr>\n",
       "  </thead>\n",
       "  <tbody>\n",
       "    <tr>\n",
       "      <th>0</th>\n",
       "      <td>New York</td>\n",
       "      <td>POLYGON ((-71.50506 45.0082, -73.34783 45.0073...</td>\n",
       "    </tr>\n",
       "    <tr>\n",
       "      <th>1</th>\n",
       "      <td>New York</td>\n",
       "      <td>POLYGON ((-77.73789 43.62906, -76.82003 43.628...</td>\n",
       "    </tr>\n",
       "    <tr>\n",
       "      <th>2</th>\n",
       "      <td>Los Angeles</td>\n",
       "      <td>POLYGON ((-114.815 32.52528, -114.72139 32.720...</td>\n",
       "    </tr>\n",
       "    <tr>\n",
       "      <th>3</th>\n",
       "      <td>Helsinki</td>\n",
       "      <td>POLYGON ((27.85528 56.75933, 27.77002 57.24426...</td>\n",
       "    </tr>\n",
       "    <tr>\n",
       "      <th>4</th>\n",
       "      <td>Los Angeles</td>\n",
       "      <td>POLYGON ((-115.99135 32.61239, -114.72139 32.7...</td>\n",
       "    </tr>\n",
       "    <tr>\n",
       "      <th>5</th>\n",
       "      <td>Barcelona</td>\n",
       "      <td>POLYGON ((6.52925 43.12889, 4.55696 43.39965, ...</td>\n",
       "    </tr>\n",
       "    <tr>\n",
       "      <th>6</th>\n",
       "      <td>Dublin</td>\n",
       "      <td>POLYGON ((-4.59235 48.68416, -4.3735 48.72088,...</td>\n",
       "    </tr>\n",
       "    <tr>\n",
       "      <th>7</th>\n",
       "      <td>London</td>\n",
       "      <td>POLYGON ((-2.22572 47.06436, -2.96328 47.57033...</td>\n",
       "    </tr>\n",
       "    <tr>\n",
       "      <th>8</th>\n",
       "      <td>Amsterdam</td>\n",
       "      <td>POLYGON ((6.65823 49.20196, 8.09928 49.01778, ...</td>\n",
       "    </tr>\n",
       "    <tr>\n",
       "      <th>9</th>\n",
       "      <td>Barcelona</td>\n",
       "      <td>POLYGON ((1.46692 36.60565, 3.1617 36.7839, 4....</td>\n",
       "    </tr>\n",
       "  </tbody>\n",
       "</table>\n",
       "</div>"
      ],
      "text/plain": [
       "          name                                           geometry\n",
       "0     New York  POLYGON ((-71.50506 45.0082, -73.34783 45.0073...\n",
       "1     New York  POLYGON ((-77.73789 43.62906, -76.82003 43.628...\n",
       "2  Los Angeles  POLYGON ((-114.815 32.52528, -114.72139 32.720...\n",
       "3     Helsinki  POLYGON ((27.85528 56.75933, 27.77002 57.24426...\n",
       "4  Los Angeles  POLYGON ((-115.99135 32.61239, -114.72139 32.7...\n",
       "5    Barcelona  POLYGON ((6.52925 43.12889, 4.55696 43.39965, ...\n",
       "6       Dublin  POLYGON ((-4.59235 48.68416, -4.3735 48.72088,...\n",
       "7       London  POLYGON ((-2.22572 47.06436, -2.96328 47.57033...\n",
       "8    Amsterdam  POLYGON ((6.65823 49.20196, 8.09928 49.01778, ...\n",
       "9    Barcelona  POLYGON ((1.46692 36.60565, 3.1617 36.7839, 4...."
      ]
     },
     "metadata": {},
     "output_type": "display_data"
    },
    {
     "data": {
      "text/plain": [
       "<Axes: >"
      ]
     },
     "execution_count": 26,
     "metadata": {},
     "output_type": "execute_result"
    },
    {
     "data": {
      "image/png": "[encoded data removed]",
      "text/plain": [
       "<Figure size 640x480 with 1 Axes>"
      ]
     },
     "metadata": {},
     "output_type": "display_data"
    }
   ],
   "source": [
    "# Perform an overlay operation to find the intersection \n",
    "# of buffered cities with countries\n",
    "gdf_over = gpd.overlay(gdf_countries_filtered, \n",
    "                       gdf_cities_buffered, \n",
    "                       how='intersection')\n",
    "\n",
    "# Display the first 10 rows of the overlay result\n",
    "print(\"Overlay result (first 10 rows):\", \"\\n\")\n",
    "display(gdf_over.head(10))\n",
    "\n",
    "# Plot the overlay result\n",
    "gdf_over.plot()"
   ]
  },
  {
   "cell_type": "markdown",
   "id": "changing-obligation",
   "metadata": {},
   "source": [
    "By overlaying GeoDataFrames, we can create new GeoDataFrames by combining two DataFrames based on intersection areas, enabling more complex and insightful geospatial analyses. During overlay, we capture the intersecting parts of geometries, the previous code block results in polygons, which are the unions of circles (buffered city-location points) and countries, resulting in these strange, circularly cropped country fragments on the world map."
   ]
  },
  {
   "cell_type": "markdown",
   "id": "referenced-fundamental",
   "metadata": {},
   "source": [
    "### 13.  Dissolving Polygons\n",
    "\n",
    "**Dissolving** polygons is a spatial operation that combines multiple geometries within a GeoDataFrame based on a specified attribute. This process merges geometries that share the same value for the specified attribute, creating a single, unified geometry for each unique value. Dissolving is helpful for aggregating spatial data and simplifying the representation of geographic features. \n",
    "\n",
    "To demonstrate how dissolving a GeoDataFrame works, we will merge all countries within the `naturalearth_lowres` dataset that belong to the same continent. According to this `dissolve` operation, the final output of this cell will be a global map of continents, not countries, as the country boundaries will be dissolved along the shared attributes - joint continents. To better illustrate the effect of the operation, we set the edge color of each polygon to red in the `plot` method."
   ]
  },
  {
   "cell_type": "code",
   "execution_count": 27,
   "id": "above-wireless",
   "metadata": {},
   "outputs": [
    {
     "name": "stdout",
     "output_type": "stream",
     "text": [
      "Dissolved GeoDataFrame: \n",
      "\n"
     ]
    },
    {
     "data": {
      "text/html": [
       "<div>\n",
       "<style scoped>\n",
       "    .dataframe tbody tr th:only-of-type {\n",
       "        vertical-align: middle;\n",
       "    }\n",
       "\n",
       "    .dataframe tbody tr th {\n",
       "        vertical-align: top;\n",
       "    }\n",
       "\n",
       "    .dataframe thead th {\n",
       "        text-align: right;\n",
       "    }\n",
       "</style>\n",
       "<table border=\"1\" class=\"dataframe\">\n",
       "  <thead>\n",
       "    <tr style=\"text-align: right;\">\n",
       "      <th></th>\n",
       "      <th>geometry</th>\n",
       "      <th>pop_est</th>\n",
       "      <th>name</th>\n",
       "      <th>iso_a3</th>\n",
       "      <th>gdp_md_est</th>\n",
       "    </tr>\n",
       "    <tr>\n",
       "      <th>continent</th>\n",
       "      <th></th>\n",
       "      <th></th>\n",
       "      <th></th>\n",
       "      <th></th>\n",
       "      <th></th>\n",
       "    </tr>\n",
       "  </thead>\n",
       "  <tbody>\n",
       "    <tr>\n",
       "      <th>Africa</th>\n",
       "      <td>MULTIPOLYGON (((-11.43878 6.78592, -11.70819 6...</td>\n",
       "      <td>58005463.0</td>\n",
       "      <td>Tanzania</td>\n",
       "      <td>TZA</td>\n",
       "      <td>63177</td>\n",
       "    </tr>\n",
       "    <tr>\n",
       "      <th>Antarctica</th>\n",
       "      <td>MULTIPOLYGON (((-61.13898 -79.98137, -60.61012...</td>\n",
       "      <td>4490.0</td>\n",
       "      <td>Antarctica</td>\n",
       "      <td>ATA</td>\n",
       "      <td>898</td>\n",
       "    </tr>\n",
       "    <tr>\n",
       "      <th>Asia</th>\n",
       "      <td>MULTIPOLYGON (((48.67923 14.0032, 48.23895 13....</td>\n",
       "      <td>18513930.0</td>\n",
       "      <td>Kazakhstan</td>\n",
       "      <td>KAZ</td>\n",
       "      <td>181665</td>\n",
       "    </tr>\n",
       "    <tr>\n",
       "      <th>Europe</th>\n",
       "      <td>MULTIPOLYGON (((-53.55484 2.3349, -53.77852 2....</td>\n",
       "      <td>144373535.0</td>\n",
       "      <td>Russia</td>\n",
       "      <td>RUS</td>\n",
       "      <td>1699876</td>\n",
       "    </tr>\n",
       "    <tr>\n",
       "      <th>North America</th>\n",
       "      <td>MULTIPOLYGON (((-155.22217 19.23972, -155.5421...</td>\n",
       "      <td>37589262.0</td>\n",
       "      <td>Canada</td>\n",
       "      <td>CAN</td>\n",
       "      <td>1736425</td>\n",
       "    </tr>\n",
       "    <tr>\n",
       "      <th>Oceania</th>\n",
       "      <td>MULTIPOLYGON (((147.91405 -43.21152, 147.56456...</td>\n",
       "      <td>889953.0</td>\n",
       "      <td>Fiji</td>\n",
       "      <td>FJI</td>\n",
       "      <td>5496</td>\n",
       "    </tr>\n",
       "    <tr>\n",
       "      <th>Seven seas (open ocean)</th>\n",
       "      <td>POLYGON ((68.935 -48.625, 69.58 -48.94, 70.525...</td>\n",
       "      <td>140.0</td>\n",
       "      <td>Fr. S. Antarctic Lands</td>\n",
       "      <td>ATF</td>\n",
       "      <td>16</td>\n",
       "    </tr>\n",
       "    <tr>\n",
       "      <th>South America</th>\n",
       "      <td>MULTIPOLYGON (((-68.63999 -55.58002, -69.2321 ...</td>\n",
       "      <td>44938712.0</td>\n",
       "      <td>Argentina</td>\n",
       "      <td>ARG</td>\n",
       "      <td>445445</td>\n",
       "    </tr>\n",
       "  </tbody>\n",
       "</table>\n",
       "</div>"
      ],
      "text/plain": [
       "                                                                  geometry  \\\n",
       "continent                                                                    \n",
       "Africa                   MULTIPOLYGON (((-11.43878 6.78592, -11.70819 6...   \n",
       "Antarctica               MULTIPOLYGON (((-61.13898 -79.98137, -60.61012...   \n",
       "Asia                     MULTIPOLYGON (((48.67923 14.0032, 48.23895 13....   \n",
       "Europe                   MULTIPOLYGON (((-53.55484 2.3349, -53.77852 2....   \n",
       "North America            MULTIPOLYGON (((-155.22217 19.23972, -155.5421...   \n",
       "Oceania                  MULTIPOLYGON (((147.91405 -43.21152, 147.56456...   \n",
       "Seven seas (open ocean)  POLYGON ((68.935 -48.625, 69.58 -48.94, 70.525...   \n",
       "South America            MULTIPOLYGON (((-68.63999 -55.58002, -69.2321 ...   \n",
       "\n",
       "                             pop_est                    name iso_a3  \\\n",
       "continent                                                             \n",
       "Africa                    58005463.0                Tanzania    TZA   \n",
       "Antarctica                    4490.0              Antarctica    ATA   \n",
       "Asia                      18513930.0              Kazakhstan    KAZ   \n",
       "Europe                   144373535.0                  Russia    RUS   \n",
       "North America             37589262.0                  Canada    CAN   \n",
       "Oceania                     889953.0                    Fiji    FJI   \n",
       "Seven seas (open ocean)        140.0  Fr. S. Antarctic Lands    ATF   \n",
       "South America             44938712.0               Argentina    ARG   \n",
       "\n",
       "                         gdp_md_est  \n",
       "continent                            \n",
       "Africa                        63177  \n",
       "Antarctica                      898  \n",
       "Asia                         181665  \n",
       "Europe                      1699876  \n",
       "North America               1736425  \n",
       "Oceania                        5496  \n",
       "Seven seas (open ocean)          16  \n",
       "South America                445445  "
      ]
     },
     "metadata": {},
     "output_type": "display_data"
    },
    {
     "name": "stdout",
     "output_type": "stream",
     "text": [
      "Number of records before the dissolve:  177 \n",
      "\n",
      "Number of records after the dissolve:  8 \n",
      "\n"
     ]
    },
    {
     "data": {
      "text/plain": [
       "<Axes: >"
      ]
     },
     "execution_count": 27,
     "metadata": {},
     "output_type": "execute_result"
    },
    {
     "data": {
      "image/png": "[encoded data removed]",
      "text/plain": [
       "<Figure size 640x480 with 1 Axes>"
      ]
     },
     "metadata": {},
     "output_type": "display_data"
    },
    {
     "data": {
      "image/png": "[encoded data removed]",
      "text/plain": [
       "<Figure size 640x480 with 1 Axes>"
      ]
     },
     "metadata": {},
     "output_type": "display_data"
    }
   ],
   "source": [
    "# Plot the country-level world map\n",
    "gdf.plot(edgecolor = 'red')\n",
    "\n",
    "# Dissolve polygons by the 'continent' attribute to \n",
    "# combine countries into continents\n",
    "gdf_dissolved = gdf.dissolve(by='continent')\n",
    "\n",
    "# Display the dissolved GeoDataFrame\n",
    "print(\"Dissolved GeoDataFrame:\", \"\\n\")\n",
    "display(gdf_dissolved)\n",
    "\n",
    "# Print the size of the GeoDataFrame before and after the operation\n",
    "print(\"Number of records before the dissolve: \", len(gdf), \"\\n\")\n",
    "print(\"Number of records after the dissolve: \", len(gdf_dissolved), \"\\n\")\n",
    "\n",
    "# Plot the dissolved GeoDataFrame to visualize the combined continents\n",
    "gdf_dissolved.plot(edgecolor = 'red')"
   ]
  },
  {
   "cell_type": "markdown",
   "id": "enabling-filing",
   "metadata": {},
   "source": [
    "The output images show the country-level original and continent-level dissolved world maps, where every polygon's edge line is marked in red. This edge coloring highlights the countries in the first plot while only showing continent boundaries in the second."
   ]
  },
  {
   "cell_type": "markdown",
   "id": "neutral-receipt",
   "metadata": {},
   "source": [
    "### 14. Splitting Geometries in a GeoDataFrame\n",
    "\n",
    "\n",
    "As we can merge geometries, for instance, by dissolving them based on mutual attributes, we can also **split** them. In particular, splitting geometries in a GeoDataFrame involves breaking multi-part geometries (such as MultiPolygons or MultiLineStrings) into their individual components. This process is useful for detailed analysis and manipulation of each component separately. GeoPandas provides the `explode` method to achieve this, which splits multi-part geometries into single geometries and creates a new row for each part. By splitting geometries in a GeoDataFrame, we can analyze and manipulate each component of multi-part geometries separately, enabling more detailed and granular spatial analyses.\n",
    "\n",
    "To demonstrate this, we first read the country-level world map dataset. By displaying its first ten rows, we can already see that there are multiple MultiPolygons within them. Once we apply the explode command, we will see a significant increase in the number of records within the resulting GeoDataFrame, with each geometry stored as a Polygon. This illustrates that all the MultiPolygons were efficiently split into individual Polygons, each polygon inheriting all the other attributes of the initial data record. This transformation allows for more granular spatial analysis and manipulation. "
   ]
  },
  {
   "cell_type": "code",
   "execution_count": 28,
   "id": "joint-retreat",
   "metadata": {},
   "outputs": [
    {
     "name": "stdout",
     "output_type": "stream",
     "text": [
      "Original GeoDataFrame: \n",
      "\n"
     ]
    },
    {
     "data": {
      "text/html": [
       "<div>\n",
       "<style scoped>\n",
       "    .dataframe tbody tr th:only-of-type {\n",
       "        vertical-align: middle;\n",
       "    }\n",
       "\n",
       "    .dataframe tbody tr th {\n",
       "        vertical-align: top;\n",
       "    }\n",
       "\n",
       "    .dataframe thead th {\n",
       "        text-align: right;\n",
       "    }\n",
       "</style>\n",
       "<table border=\"1\" class=\"dataframe\">\n",
       "  <thead>\n",
       "    <tr style=\"text-align: right;\">\n",
       "      <th></th>\n",
       "      <th>pop_est</th>\n",
       "      <th>continent</th>\n",
       "      <th>name</th>\n",
       "      <th>iso_a3</th>\n",
       "      <th>gdp_md_est</th>\n",
       "      <th>geometry</th>\n",
       "    </tr>\n",
       "  </thead>\n",
       "  <tbody>\n",
       "    <tr>\n",
       "      <th>0</th>\n",
       "      <td>889953.0</td>\n",
       "      <td>Oceania</td>\n",
       "      <td>Fiji</td>\n",
       "      <td>FJI</td>\n",
       "      <td>5496</td>\n",
       "      <td>MULTIPOLYGON (((180 -16.06713, 180 -16.55522, ...</td>\n",
       "    </tr>\n",
       "    <tr>\n",
       "      <th>1</th>\n",
       "      <td>58005463.0</td>\n",
       "      <td>Africa</td>\n",
       "      <td>Tanzania</td>\n",
       "      <td>TZA</td>\n",
       "      <td>63177</td>\n",
       "      <td>POLYGON ((33.90371 -0.95, 34.07262 -1.05982, 3...</td>\n",
       "    </tr>\n",
       "    <tr>\n",
       "      <th>2</th>\n",
       "      <td>603253.0</td>\n",
       "      <td>Africa</td>\n",
       "      <td>W. Sahara</td>\n",
       "      <td>ESH</td>\n",
       "      <td>907</td>\n",
       "      <td>POLYGON ((-8.66559 27.65643, -8.66512 27.58948...</td>\n",
       "    </tr>\n",
       "    <tr>\n",
       "      <th>3</th>\n",
       "      <td>37589262.0</td>\n",
       "      <td>North America</td>\n",
       "      <td>Canada</td>\n",
       "      <td>CAN</td>\n",
       "      <td>1736425</td>\n",
       "      <td>MULTIPOLYGON (((-122.84 49, -122.97421 49.0025...</td>\n",
       "    </tr>\n",
       "    <tr>\n",
       "      <th>4</th>\n",
       "      <td>328239523.0</td>\n",
       "      <td>North America</td>\n",
       "      <td>United States of America</td>\n",
       "      <td>USA</td>\n",
       "      <td>21433226</td>\n",
       "      <td>MULTIPOLYGON (((-122.84 49, -120 49, -117.0312...</td>\n",
       "    </tr>\n",
       "    <tr>\n",
       "      <th>5</th>\n",
       "      <td>18513930.0</td>\n",
       "      <td>Asia</td>\n",
       "      <td>Kazakhstan</td>\n",
       "      <td>KAZ</td>\n",
       "      <td>181665</td>\n",
       "      <td>POLYGON ((87.35997 49.21498, 86.59878 48.54918...</td>\n",
       "    </tr>\n",
       "    <tr>\n",
       "      <th>6</th>\n",
       "      <td>33580650.0</td>\n",
       "      <td>Asia</td>\n",
       "      <td>Uzbekistan</td>\n",
       "      <td>UZB</td>\n",
       "      <td>57921</td>\n",
       "      <td>POLYGON ((55.96819 41.30864, 55.92892 44.99586...</td>\n",
       "    </tr>\n",
       "    <tr>\n",
       "      <th>7</th>\n",
       "      <td>8776109.0</td>\n",
       "      <td>Oceania</td>\n",
       "      <td>Papua New Guinea</td>\n",
       "      <td>PNG</td>\n",
       "      <td>24829</td>\n",
       "      <td>MULTIPOLYGON (((141.00021 -2.60015, 142.73525 ...</td>\n",
       "    </tr>\n",
       "    <tr>\n",
       "      <th>8</th>\n",
       "      <td>270625568.0</td>\n",
       "      <td>Asia</td>\n",
       "      <td>Indonesia</td>\n",
       "      <td>IDN</td>\n",
       "      <td>1119190</td>\n",
       "      <td>MULTIPOLYGON (((141.00021 -2.60015, 141.01706 ...</td>\n",
       "    </tr>\n",
       "    <tr>\n",
       "      <th>9</th>\n",
       "      <td>44938712.0</td>\n",
       "      <td>South America</td>\n",
       "      <td>Argentina</td>\n",
       "      <td>ARG</td>\n",
       "      <td>445445</td>\n",
       "      <td>MULTIPOLYGON (((-68.63401 -52.63637, -68.25 -5...</td>\n",
       "    </tr>\n",
       "  </tbody>\n",
       "</table>\n",
       "</div>"
      ],
      "text/plain": [
       "       pop_est      continent                      name iso_a3  gdp_md_est  \\\n",
       "0     889953.0        Oceania                      Fiji    FJI        5496   \n",
       "1   58005463.0         Africa                  Tanzania    TZA       63177   \n",
       "2     603253.0         Africa                 W. Sahara    ESH         907   \n",
       "3   37589262.0  North America                    Canada    CAN     1736425   \n",
       "4  328239523.0  North America  United States of America    USA    21433226   \n",
       "5   18513930.0           Asia                Kazakhstan    KAZ      181665   \n",
       "6   33580650.0           Asia                Uzbekistan    UZB       57921   \n",
       "7    8776109.0        Oceania          Papua New Guinea    PNG       24829   \n",
       "8  270625568.0           Asia                 Indonesia    IDN     1119190   \n",
       "9   44938712.0  South America                 Argentina    ARG      445445   \n",
       "\n",
       "                                            geometry  \n",
       "0  MULTIPOLYGON (((180 -16.06713, 180 -16.55522, ...  \n",
       "1  POLYGON ((33.90371 -0.95, 34.07262 -1.05982, 3...  \n",
       "2  POLYGON ((-8.66559 27.65643, -8.66512 27.58948...  \n",
       "3  MULTIPOLYGON (((-122.84 49, -122.97421 49.0025...  \n",
       "4  MULTIPOLYGON (((-122.84 49, -120 49, -117.0312...  \n",
       "5  POLYGON ((87.35997 49.21498, 86.59878 48.54918...  \n",
       "6  POLYGON ((55.96819 41.30864, 55.92892 44.99586...  \n",
       "7  MULTIPOLYGON (((141.00021 -2.60015, 142.73525 ...  \n",
       "8  MULTIPOLYGON (((141.00021 -2.60015, 141.01706 ...  \n",
       "9  MULTIPOLYGON (((-68.63401 -52.63637, -68.25 -5...  "
      ]
     },
     "metadata": {},
     "output_type": "display_data"
    },
    {
     "name": "stdout",
     "output_type": "stream",
     "text": [
      "Exploded GeoDataFrame: \n",
      "\n"
     ]
    },
    {
     "data": {
      "text/html": [
       "<div>\n",
       "<style scoped>\n",
       "    .dataframe tbody tr th:only-of-type {\n",
       "        vertical-align: middle;\n",
       "    }\n",
       "\n",
       "    .dataframe tbody tr th {\n",
       "        vertical-align: top;\n",
       "    }\n",
       "\n",
       "    .dataframe thead th {\n",
       "        text-align: right;\n",
       "    }\n",
       "</style>\n",
       "<table border=\"1\" class=\"dataframe\">\n",
       "  <thead>\n",
       "    <tr style=\"text-align: right;\">\n",
       "      <th></th>\n",
       "      <th></th>\n",
       "      <th>pop_est</th>\n",
       "      <th>continent</th>\n",
       "      <th>name</th>\n",
       "      <th>iso_a3</th>\n",
       "      <th>gdp_md_est</th>\n",
       "      <th>geometry</th>\n",
       "    </tr>\n",
       "  </thead>\n",
       "  <tbody>\n",
       "    <tr>\n",
       "      <th rowspan=\"3\" valign=\"top\">0</th>\n",
       "      <th>0</th>\n",
       "      <td>889953.0</td>\n",
       "      <td>Oceania</td>\n",
       "      <td>Fiji</td>\n",
       "      <td>FJI</td>\n",
       "      <td>5496</td>\n",
       "      <td>POLYGON ((180 -16.06713, 180 -16.55522, 179.36...</td>\n",
       "    </tr>\n",
       "    <tr>\n",
       "      <th>1</th>\n",
       "      <td>889953.0</td>\n",
       "      <td>Oceania</td>\n",
       "      <td>Fiji</td>\n",
       "      <td>FJI</td>\n",
       "      <td>5496</td>\n",
       "      <td>POLYGON ((178.12557 -17.50481, 178.3736 -17.33...</td>\n",
       "    </tr>\n",
       "    <tr>\n",
       "      <th>2</th>\n",
       "      <td>889953.0</td>\n",
       "      <td>Oceania</td>\n",
       "      <td>Fiji</td>\n",
       "      <td>FJI</td>\n",
       "      <td>5496</td>\n",
       "      <td>POLYGON ((-179.79332 -16.02088, -179.91737 -16...</td>\n",
       "    </tr>\n",
       "    <tr>\n",
       "      <th>1</th>\n",
       "      <th>0</th>\n",
       "      <td>58005463.0</td>\n",
       "      <td>Africa</td>\n",
       "      <td>Tanzania</td>\n",
       "      <td>TZA</td>\n",
       "      <td>63177</td>\n",
       "      <td>POLYGON ((33.90371 -0.95, 34.07262 -1.05982, 3...</td>\n",
       "    </tr>\n",
       "    <tr>\n",
       "      <th>2</th>\n",
       "      <th>0</th>\n",
       "      <td>603253.0</td>\n",
       "      <td>Africa</td>\n",
       "      <td>W. Sahara</td>\n",
       "      <td>ESH</td>\n",
       "      <td>907</td>\n",
       "      <td>POLYGON ((-8.66559 27.65643, -8.66512 27.58948...</td>\n",
       "    </tr>\n",
       "    <tr>\n",
       "      <th rowspan=\"5\" valign=\"top\">3</th>\n",
       "      <th>0</th>\n",
       "      <td>37589262.0</td>\n",
       "      <td>North America</td>\n",
       "      <td>Canada</td>\n",
       "      <td>CAN</td>\n",
       "      <td>1736425</td>\n",
       "      <td>POLYGON ((-122.84 49, -122.97421 49.00254, -12...</td>\n",
       "    </tr>\n",
       "    <tr>\n",
       "      <th>1</th>\n",
       "      <td>37589262.0</td>\n",
       "      <td>North America</td>\n",
       "      <td>Canada</td>\n",
       "      <td>CAN</td>\n",
       "      <td>1736425</td>\n",
       "      <td>POLYGON ((-83.99367 62.4528, -83.25048 62.9140...</td>\n",
       "    </tr>\n",
       "    <tr>\n",
       "      <th>2</th>\n",
       "      <td>37589262.0</td>\n",
       "      <td>North America</td>\n",
       "      <td>Canada</td>\n",
       "      <td>CAN</td>\n",
       "      <td>1736425</td>\n",
       "      <td>POLYGON ((-79.77583 72.8029, -80.8761 73.33318...</td>\n",
       "    </tr>\n",
       "    <tr>\n",
       "      <th>3</th>\n",
       "      <td>37589262.0</td>\n",
       "      <td>North America</td>\n",
       "      <td>Canada</td>\n",
       "      <td>CAN</td>\n",
       "      <td>1736425</td>\n",
       "      <td>POLYGON ((-80.3154 62.08557, -79.92939 62.3856...</td>\n",
       "    </tr>\n",
       "    <tr>\n",
       "      <th>4</th>\n",
       "      <td>37589262.0</td>\n",
       "      <td>North America</td>\n",
       "      <td>Canada</td>\n",
       "      <td>CAN</td>\n",
       "      <td>1736425</td>\n",
       "      <td>POLYGON ((-93.61276 74.98, -94.15691 74.59235,...</td>\n",
       "    </tr>\n",
       "  </tbody>\n",
       "</table>\n",
       "</div>"
      ],
      "text/plain": [
       "        pop_est      continent       name iso_a3  gdp_md_est  \\\n",
       "0 0    889953.0        Oceania       Fiji    FJI        5496   \n",
       "  1    889953.0        Oceania       Fiji    FJI        5496   \n",
       "  2    889953.0        Oceania       Fiji    FJI        5496   \n",
       "1 0  58005463.0         Africa   Tanzania    TZA       63177   \n",
       "2 0    603253.0         Africa  W. Sahara    ESH         907   \n",
       "3 0  37589262.0  North America     Canada    CAN     1736425   \n",
       "  1  37589262.0  North America     Canada    CAN     1736425   \n",
       "  2  37589262.0  North America     Canada    CAN     1736425   \n",
       "  3  37589262.0  North America     Canada    CAN     1736425   \n",
       "  4  37589262.0  North America     Canada    CAN     1736425   \n",
       "\n",
       "                                              geometry  \n",
       "0 0  POLYGON ((180 -16.06713, 180 -16.55522, 179.36...  \n",
       "  1  POLYGON ((178.12557 -17.50481, 178.3736 -17.33...  \n",
       "  2  POLYGON ((-179.79332 -16.02088, -179.91737 -16...  \n",
       "1 0  POLYGON ((33.90371 -0.95, 34.07262 -1.05982, 3...  \n",
       "2 0  POLYGON ((-8.66559 27.65643, -8.66512 27.58948...  \n",
       "3 0  POLYGON ((-122.84 49, -122.97421 49.00254, -12...  \n",
       "  1  POLYGON ((-83.99367 62.4528, -83.25048 62.9140...  \n",
       "  2  POLYGON ((-79.77583 72.8029, -80.8761 73.33318...  \n",
       "  3  POLYGON ((-80.3154 62.08557, -79.92939 62.3856...  \n",
       "  4  POLYGON ((-93.61276 74.98, -94.15691 74.59235,...  "
      ]
     },
     "metadata": {},
     "output_type": "display_data"
    },
    {
     "name": "stdout",
     "output_type": "stream",
     "text": [
      "Number of records before the explode:  177 \n",
      "\n",
      "Number of records after the explode:  287 \n",
      "\n"
     ]
    }
   ],
   "source": [
    "# Display the original GeoDataFrame\n",
    "print(\"Original GeoDataFrame:\", \"\\n\")\n",
    "display(gdf.head(10))\n",
    "\n",
    "\n",
    "# Split multi-part geometries into their individual components \n",
    "# using the explode method\n",
    "gdf_exploded = gdf.explode(index_parts=True)\n",
    "\n",
    "# Display the exploded GeoDataFrame\n",
    "print(\"Exploded GeoDataFrame:\", \"\\n\")\n",
    "display(gdf_exploded.head(10))\n",
    "\n",
    "# Print the size of the GeoDataFrame before and after the operation\n",
    "print(\"Number of records before the explode: \", len(gdf), \"\\n\")\n",
    "print(\"Number of records after the explode: \", len(gdf_exploded), \"\\n\")"
   ]
  },
  {
   "cell_type": "markdown",
   "id": "moving-music",
   "metadata": {},
   "source": [
    "### 15.  Applying Simple Functions on GeoDataFrames\n",
    "\n",
    "Applying functions to the geometries in a GeoDataFrame allows us to compute new attributes based on spatial properties. GeoPandas makes it easy to use Python's list comprehensions and the `apply` method to derive additional columns, such as geometric properties like length and area. \n",
    "\n",
    "In the following example, we will use these two methods to add new columns to our GeoDataFrame containing the global map. These new columns will contain the length and area, as well as the exact type of geometries."
   ]
  },
  {
   "cell_type": "code",
   "execution_count": 29,
   "id": "victorian-kentucky",
   "metadata": {},
   "outputs": [
    {
     "data": {
      "text/html": [
       "<div>\n",
       "<style scoped>\n",
       "    .dataframe tbody tr th:only-of-type {\n",
       "        vertical-align: middle;\n",
       "    }\n",
       "\n",
       "    .dataframe tbody tr th {\n",
       "        vertical-align: top;\n",
       "    }\n",
       "\n",
       "    .dataframe thead th {\n",
       "        text-align: right;\n",
       "    }\n",
       "</style>\n",
       "<table border=\"1\" class=\"dataframe\">\n",
       "  <thead>\n",
       "    <tr style=\"text-align: right;\">\n",
       "      <th></th>\n",
       "      <th>geometry</th>\n",
       "    </tr>\n",
       "    <tr>\n",
       "      <th>country</th>\n",
       "      <th></th>\n",
       "    </tr>\n",
       "  </thead>\n",
       "  <tbody>\n",
       "    <tr>\n",
       "      <th>Fiji</th>\n",
       "      <td>MULTIPOLYGON (((180 -16.06713, 180 -16.55522, ...</td>\n",
       "    </tr>\n",
       "    <tr>\n",
       "      <th>Tanzania</th>\n",
       "      <td>POLYGON ((33.90371 -0.95, 34.07262 -1.05982, 3...</td>\n",
       "    </tr>\n",
       "    <tr>\n",
       "      <th>W. Sahara</th>\n",
       "      <td>POLYGON ((-8.66559 27.65643, -8.66512 27.58948...</td>\n",
       "    </tr>\n",
       "  </tbody>\n",
       "</table>\n",
       "</div>"
      ],
      "text/plain": [
       "                                                    geometry\n",
       "country                                                     \n",
       "Fiji       MULTIPOLYGON (((180 -16.06713, 180 -16.55522, ...\n",
       "Tanzania   POLYGON ((33.90371 -0.95, 34.07262 -1.05982, 3...\n",
       "W. Sahara  POLYGON ((-8.66559 27.65643, -8.66512 27.58948..."
      ]
     },
     "execution_count": 29,
     "metadata": {},
     "output_type": "execute_result"
    }
   ],
   "source": [
    "# Display the existing GeoDataFrame\n",
    "gdf_countries_filtered.head(3)"
   ]
  },
  {
   "cell_type": "code",
   "execution_count": 30,
   "id": "sitting-junior",
   "metadata": {},
   "outputs": [
    {
     "data": {
      "text/html": [
       "<div>\n",
       "<style scoped>\n",
       "    .dataframe tbody tr th:only-of-type {\n",
       "        vertical-align: middle;\n",
       "    }\n",
       "\n",
       "    .dataframe tbody tr th {\n",
       "        vertical-align: top;\n",
       "    }\n",
       "\n",
       "    .dataframe thead th {\n",
       "        text-align: right;\n",
       "    }\n",
       "</style>\n",
       "<table border=\"1\" class=\"dataframe\">\n",
       "  <thead>\n",
       "    <tr style=\"text-align: right;\">\n",
       "      <th></th>\n",
       "      <th>geometry</th>\n",
       "      <th>geometry_length</th>\n",
       "      <th>geometry_area</th>\n",
       "      <th>geometry_type</th>\n",
       "    </tr>\n",
       "    <tr>\n",
       "      <th>country</th>\n",
       "      <th></th>\n",
       "      <th></th>\n",
       "      <th></th>\n",
       "      <th></th>\n",
       "    </tr>\n",
       "  </thead>\n",
       "  <tbody>\n",
       "    <tr>\n",
       "      <th>Fiji</th>\n",
       "      <td>MULTIPOLYGON (((180 -16.06713, 180 -16.55522, ...</td>\n",
       "      <td>8.991010</td>\n",
       "      <td>1.639511</td>\n",
       "      <td>MultiPolygon</td>\n",
       "    </tr>\n",
       "    <tr>\n",
       "      <th>Tanzania</th>\n",
       "      <td>POLYGON ((33.90371 -0.95, 34.07262 -1.05982, 3...</td>\n",
       "      <td>37.260671</td>\n",
       "      <td>76.301964</td>\n",
       "      <td>Polygon</td>\n",
       "    </tr>\n",
       "    <tr>\n",
       "      <th>W. Sahara</th>\n",
       "      <td>POLYGON ((-8.66559 27.65643, -8.66512 27.58948...</td>\n",
       "      <td>27.662143</td>\n",
       "      <td>8.603984</td>\n",
       "      <td>Polygon</td>\n",
       "    </tr>\n",
       "  </tbody>\n",
       "</table>\n",
       "</div>"
      ],
      "text/plain": [
       "                                                    geometry  geometry_length  \\\n",
       "country                                                                         \n",
       "Fiji       MULTIPOLYGON (((180 -16.06713, 180 -16.55522, ...         8.991010   \n",
       "Tanzania   POLYGON ((33.90371 -0.95, 34.07262 -1.05982, 3...        37.260671   \n",
       "W. Sahara  POLYGON ((-8.66559 27.65643, -8.66512 27.58948...        27.662143   \n",
       "\n",
       "           geometry_area geometry_type  \n",
       "country                                 \n",
       "Fiji            1.639511  MultiPolygon  \n",
       "Tanzania       76.301964       Polygon  \n",
       "W. Sahara       8.603984       Polygon  "
      ]
     },
     "execution_count": 30,
     "metadata": {},
     "output_type": "execute_result"
    }
   ],
   "source": [
    "# Calculate the length of each geometry and add it as a new column \n",
    "gdf_countries_filtered['geometry_length'] = \\\n",
    "            gdf_countries_filtered['geometry'].apply(\\\n",
    "                                                lambda x: x.length)\n",
    "\n",
    "# Calculate the area of each geometry and add it as a new column\n",
    "gdf_countries_filtered['geometry_area'] = \\\n",
    "            gdf_countries_filtered['geometry'].apply(\\\n",
    "                                                lambda x: x.area)\n",
    "\n",
    "# Calculate the type of each geometry and add it as a new column \n",
    "gdf_countries_filtered['geometry_type'] = \\\n",
    "            gdf_countries_filtered['geometry'].apply(\\\n",
    "                                                lambda x: type(x).__name__)\n",
    "\n",
    "# Display the new GeoDataFrame\n",
    "gdf_countries_filtered.head(3)"
   ]
  },
  {
   "cell_type": "markdown",
   "id": "continuous-nudist",
   "metadata": {},
   "source": [
    "### 16.  Generating Random Synthetic Data\n",
    "\n",
    "Generating random synthetic data can be useful for testing, simulation, and demonstrating geospatial techniques. In this example, we will use the world map GeoDataFrame, determine its bounding box, and generate 1000 points uniformly randomly placed within that bounding box using [NumPy](https://numpy.org). Once the points are generated and stored in a GeoDataFrame, we will visualize the results."
   ]
  },
  {
   "cell_type": "code",
   "execution_count": 31,
   "id": "parallel-clothing",
   "metadata": {},
   "outputs": [
    {
     "data": {
      "text/plain": [
       "<Axes: >"
      ]
     },
     "execution_count": 31,
     "metadata": {},
     "output_type": "execute_result"
    },
    {
     "data": {
      "image/png": "[encoded data removed]",
      "text/plain": [
       "<Figure size 640x480 with 1 Axes>"
      ]
     },
     "metadata": {},
     "output_type": "display_data"
    }
   ],
   "source": [
    "# Import the necessary libraries\n",
    "import numpy as np\n",
    "\n",
    "# Load a sample GeoDataFrame\n",
    "\n",
    "# Calculate the minimum and maximum bounds of the GeoDataFrame\n",
    "bounds = gdf.total_bounds\n",
    "minx, miny, maxx, maxy = bounds\n",
    "\n",
    "# Initialize an empty list to store random points\n",
    "random_points = []\n",
    "\n",
    "# Generate 1000 random points within the bounds\n",
    "for _ in range(1000):\n",
    "    x = np.random.uniform(minx, maxx)\n",
    "    y = np.random.uniform(miny, maxy)\n",
    "    random_points.append(Point(x, y))\n",
    "\n",
    "# Create a GeoDataFrame from the list of random points\n",
    "gdf_rand = gpd.GeoDataFrame(random_points, columns=['geometry'])\n",
    "\n",
    "# Plot the GeoDataFrame with random points\n",
    "gdf_rand.plot()"
   ]
  },
  {
   "cell_type": "markdown",
   "id": "primary-stone",
   "metadata": {},
   "source": [
    "### 17. Counting Points in Polygons\n",
    "\n",
    "\n",
    "Counting points within polygons is a common spatial analysis task that helps determine how many point features fall within each polygon feature. This is useful for various applications such as \n",
    "- population density analysis,\n",
    "- event clustering, and\n",
    "- resource allocation.\n",
    "\n",
    "GeoPandas provides tools to perform spatial joins and group by operations to achieve this.\n",
    "\n",
    "In this exercise, we will combine several techniques from previous sections. \n",
    "- First, we will create 10,000 random points spread across the global map (`gdf_rand`).\n",
    "- Then, we will use a spatial join to match each point to one of the countries (`gdf_joined`) and count the number of points within each country (`gdf_counted`). This task is similar to the previous spatial join example but uses a data size significantly closer to real-life expectations.\n",
    "- Finally, we will merge the prepared to join the point count value to the original DataFrame  (`gdf`) to prepare a data table appropriate for further spatial analysis."
   ]
  },
  {
   "cell_type": "code",
   "execution_count": 43,
   "id": "hearing-thousand",
   "metadata": {},
   "outputs": [],
   "source": [
    "# Import the necessary libraries\n",
    "# Load a sample GeoDataFrame \n",
    "# Calculate the minimum and maximum bounds of the GeoDataFrame\n",
    "\n",
    "# Initialize an empty list to store random points\n",
    "random_points = []\n",
    "\n",
    "# Generate 100000 random points within the bounds\n",
    "for _ in range(10000):\n",
    "    x = np.random.uniform(minx, maxx)\n",
    "    y = np.random.uniform(miny, maxy)\n",
    "    random_points.append(Point(x, y))\n",
    "\n",
    "# Create a GeoDataFrame from the list of random points\n",
    "gdf_rand = gpd.GeoDataFrame(random_points, columns=['geometry'])\n",
    "\n",
    "# Filter and prepare the countries GeoDataFrame\n",
    "gdf_countries_filtered = gdf_countries[['name', 'geometry']].rename(\\\n",
    "                         columns={'name': 'country'}).set_index('country')\n",
    "\n",
    "# Perform a spatial join to find which points fall within which countries\n",
    "gdf_joined = gpd.sjoin(gdf_rand, \n",
    "                       gdf_countries_filtered, \n",
    "                       how='left', \n",
    "                       predicate='within')\n",
    "\n",
    "\n",
    "# Count the number of points in each polygon (country)\n",
    "#gdf_counted = gdf_joined.groupby(by='index_right').count()[['geometry']]\n",
    "#gdf_counted = gdf_counted.rename(\\\n",
    "#                       columns = {'geometry' : 'number_of_points'})\n",
    "\n",
    "# Display the count of points within the first 10 polygons (countries)\n",
    "#gdf_counted.sort_values(by = 'number_of_points', ascending = False).head(8)"
   ]
  },
  {
   "cell_type": "code",
   "execution_count": 44,
   "id": "printable-luther",
   "metadata": {},
   "outputs": [],
   "source": [
    "# Merging the original GeoDataFrame with the counter DataFrame \n",
    "# using the country names as joint keys\n",
    "#gdf_merged = gdf_countries.merge(gdf_counted, left_on = 'name', \n",
    "#                                 right_index = True)\n",
    "#gdf_merged = gdf_merged[['name', 'number_of_points']]\n",
    "#gdf_merged.head(10)"
   ]
  },
  {
   "cell_type": "markdown",
   "id": "classical-demographic",
   "metadata": {},
   "source": [
    "In this example, we combined several previously introduced steps to create new geospatial insights and merge them into an existing GeoDataFrame. By performing the counting points within polygons exercise, we can analyze spatial distributions and relationships, providing insights into patterns such as population density, event clustering, and resource allocation.\n",
    "\n",
    "*Note*: The final results of this exercise may vary a bit due to the random generation involved."
   ]
  },
  {
   "cell_type": "markdown",
   "id": "weighted-philosophy",
   "metadata": {},
   "source": [
    "### Summary on GeoPandas\n",
    "\n",
    "In this notebook, we explored the comprehensive capabilities of GeoPandas, an extension of the Pandas library, designed specifically for geospatial vector data analysis. \n",
    "\n",
    "- We began by understanding the difference between raster and vector data, and highlighting GeoPandas' strength in handling vector data through points, lines, and polygons.\n",
    "- Via the Shapely - GeoPandas integration, we got a robust toolkit for various spatial operations, such as buffering, splitting, and merging geometries.\n",
    "- We demonstrated practical applications, including creating GeoDataFrames from scratch, converting Pandas DataFrames to GeoDataFrames, and exporting GeoDataFrames to common GIS file formats like Shapefile and GeoJSON.\n",
    "\n",
    "Furthermore, we explored tools for advanced spatial analysis, such as spatial joins and overlays, to combine and analyze different geospatial datasets. \n",
    "\n",
    "The notebook also covered methods for \n",
    "- generating random synthetic data,\n",
    "- performing point-in-polygon analyses, and\n",
    "- visualizing geospatial data using GeoPandas' built-in plotting capabilities.\n",
    "\n",
    "Through practical examples and detailed explanations, we illustrated how GeoPandas can be used to derive meaningful insights from geospatial data, making it an indispensable tool for anyone working in spatial analytics."
   ]
  },
  {
   "cell_type": "markdown",
   "id": "25eda867-e47c-4c33-8074-ab7251745267",
   "metadata": {},
   "source": [
    "## Exercises\n",
    "\n",
    "1. The `geopandas` [documentation](https://geopandas.org/en/stable/docs.html) has an excellent [\"getting started\"](https://geopandas.org/en/stable/getting_started/introduction.html) section. Read this section, as revision, and execute all the cells.\n",
    "2. Take a moment to visit the Natural Earth [website](https://www.naturalearthdata.com/features/).\n",
    "3. Download detailed adminstrative maps of the Philippines. Identify the major islands/provinces. \n",
    "4. Plot maps of the Philippines with various levels of adminstrative details. Plot some maps of each of the major islands/provinces.\n",
    "5. Add some cities, for example Manila, to the `df_cities` dataframe in Section 4, and rerun the spatial join with the countries."
   ]
  }
 ],
 "metadata": {
  "kernelspec": {
   "display_name": "Python 3 (ipykernel)",
   "language": "python",
   "name": "python3"
  },
  "language_info": {
   "codemirror_mode": {
    "name": "ipython",
    "version": 3
   },
   "file_extension": ".py",
   "mimetype": "text/x-python",
   "name": "python",
   "nbconvert_exporter": "python",
   "pygments_lexer": "ipython3",
   "version": "3.13.1"
  }
 },
 "nbformat": 4,
 "nbformat_minor": 5
}
