{
 "cells": [
  {
   "attachments": {},
   "cell_type": "markdown",
   "id": "following-postcard",
   "metadata": {},
   "source": [
    "# Introduction to Geometries\n",
    "\n",
    "This notebook is a modified version of M. Janosov's original, as presented in *[Geospatial Data Science Essentials](https://www.janosov.com/books/geo/)*\n",
    "\n",
    "\n",
    "Geometries are the cornerstone of spatial data, acting as the geographical framework that links various pieces of information to specific locations on the Earth's surface. They provide the spatial structure necessary to conduct a wide array of analyses in geospatial data science. Therefore, understanding the theory and mastering the implementation of geometries is crucial for effectively working with any geospatial data.\n",
    "\n",
    "In this notebook, we will\n",
    "1. study the basic types of geometries, such as points, lines, and polygons. These geometries can represent a diverse range of geographical entities, from the locations of bars and restaurants to street segments, riverbeds, country borders, and crop fields.\n",
    "2.  review essential operations for transforming and combining these geometries.\n",
    "\n",
    "Learning these concepts will enable us to perform advanced spatial analyses and create insightful visualizations.\n",
    "\n",
    "To achieve this, we will utilize the powerful [Shapely](https://shapely.readthedocs.io/en/stable/) library, specifically designed for creating, manipulating, and analyzing geometric objects.\n"
   ]
  },
  {
   "cell_type": "markdown",
   "id": "wireless-teaching",
   "metadata": {},
   "source": [
    "### 1. Creating a Point\n",
    "\n",
    "\n",
    "A **point** is the simplest type of geometric object, representing a single location in a two-dimensional space. It is defined by a pair of coordinates (x, y) and is often used to represent discrete places such as cities, landmarks, or any specific location of interest. In geospatial data science, points are fundamental for mapping and spatial analysis. Often, such a  point location is called a **point of interest (POI)**.\n",
    "\n",
    "Shapely provides a straightforward way to create point geometries using the `Point` constructor. We create a point placed at (1, 1), print the point object, and then visualize it by outputting the point."
   ]
  },
  {
   "cell_type": "code",
   "execution_count": 1,
   "id": "gross-analyst",
   "metadata": {},
   "outputs": [
    {
     "name": "stdout",
     "output_type": "stream",
     "text": [
      "The type of the point:  <class 'shapely.geometry.point.Point'> \n",
      "\n",
      "The point itself:  POINT (1 1) \n",
      "\n"
     ]
    },
    {
     "data": {
      "image/svg+xml": [
       "<svg xmlns=\"http://www.w3.org/2000/svg\" xmlns:xlink=\"http://www.w3.org/1999/xlink\" width=\"100.0\" height=\"100.0\" viewBox=\"0.0 0.0 2.0 2.0\" preserveAspectRatio=\"xMinYMin meet\"><g transform=\"matrix(1,0,0,-1,0,2.0)\"><circle cx=\"1.0\" cy=\"1.0\" r=\"0.06\" stroke=\"#555555\" stroke-width=\"0.02\" fill=\"#66cc99\" opacity=\"0.6\" /></g></svg>"
      ],
      "text/plain": [
       "<POINT (1 1)>"
      ]
     },
     "execution_count": 1,
     "metadata": {},
     "output_type": "execute_result"
    }
   ],
   "source": [
    "# Import the Point constructor\n",
    "from shapely.geometry import Point\n",
    "\n",
    "# Create a point with coordinates (1, 1)\n",
    "point = Point(1, 1)\n",
    "\n",
    "# Print the point\n",
    "print(\"The type of the point: \", type(point), \"\\n\")\n",
    "\n",
    "# Print the point\n",
    "print(\"The point itself: \", point, \"\\n\")\n",
    "\n",
    "# Show the point on the cell's output\n",
    "point"
   ]
  },
  {
   "cell_type": "markdown",
   "id": "mineral-escape",
   "metadata": {},
   "source": [
    "As this cell shows, we indeed created a point, which is visualized by a small circle in the Jupyter environment.\n",
    "\n",
    "&nbsp;"
   ]
  },
  {
   "cell_type": "markdown",
   "id": "sunrise-allen",
   "metadata": {},
   "source": [
    "### 2. Creating Line Segments \n",
    "\n",
    "A **line segment** is a geometric object that represents a series of connected points in a two-dimensional space. It is defined by a sequence of coordinate pairs (x, y), consisting of multiple straight line segments.\n",
    "\n",
    "In Shapely, lines are stored in the `LineString` data structure and are usually used to represent one-dimensional spatial objects such as roads, rivers, and sidewalks. In geospatial data science, LineStrings are essential for modeling and analyzing linear spatial features. \n",
    "\n",
    "Shapely provides a straightforward way to create and manipulate LineString geometries using the LineString constructor, which we will see in the following cell where we create a line segment connecting the points:\n",
    "\n",
    "> (0, 0), (1, 1), and (3, 4).\n",
    "\n",
    "After creating the object, we print it and visualize it on the cell output."
   ]
  },
  {
   "cell_type": "code",
   "execution_count": 2,
   "id": "falling-ecuador",
   "metadata": {},
   "outputs": [
    {
     "name": "stdout",
     "output_type": "stream",
     "text": [
      "The type of the line:  <class 'shapely.geometry.linestring.LineString'> \n",
      "\n",
      "The line itself:  LINESTRING (0 0, 2 1, 3 4) \n",
      "\n",
      "LINESTRING (0 0, 2 1, 3 4) \n",
      "\n"
     ]
    },
    {
     "data": {
      "image/svg+xml": [
       "<svg xmlns=\"http://www.w3.org/2000/svg\" xmlns:xlink=\"http://www.w3.org/1999/xlink\" width=\"100.0\" height=\"100.0\" viewBox=\"-0.16 -0.16 3.3200000000000003 4.32\" preserveAspectRatio=\"xMinYMin meet\"><g transform=\"matrix(1,0,0,-1,0,4.0)\"><polyline fill=\"none\" stroke=\"#66cc99\" stroke-width=\"0.0864\" points=\"0.0,0.0 2.0,1.0 3.0,4.0\" opacity=\"0.8\" /></g></svg>"
      ],
      "text/plain": [
       "<LINESTRING (0 0, 2 1, 3 4)>"
      ]
     },
     "execution_count": 2,
     "metadata": {},
     "output_type": "execute_result"
    }
   ],
   "source": [
    "# Import the LineString constructor\n",
    "from shapely.geometry import LineString\n",
    "\n",
    "# Create a line from two points (0, 0), (1, 1), and (3, 4)\n",
    "line = LineString([(0, 0), (2, 1), (3, 4)])\n",
    "\n",
    "# Print the line\n",
    "\n",
    "print(\"The type of the line: \", type(line), \"\\n\")\n",
    "\n",
    "# Print the point\n",
    "print(\"The line itself: \", line, \"\\n\")\n",
    "\n",
    "# Print the line\n",
    "print(line, \"\\n\")\n",
    "\n",
    "# Show the line on the cell's output\n",
    "line"
   ]
  },
  {
   "cell_type": "markdown",
   "id": "arbitrary-occupation",
   "metadata": {},
   "source": [
    "Here, we created a LineString, which consists of two straight segments, as shown on the cell output."
   ]
  },
  {
   "cell_type": "markdown",
   "id": "combined-reynolds",
   "metadata": {},
   "source": [
    "### 3. Creating Polygons and Multipolygons\n",
    "\n",
    "\n",
    "A **polygon** is a two-dimensional geometric object that represents a closed shape defined by a series of connected points, where the first and last points are identical to close the shape. Polygons are used to represent areas such as countries, lakes, or any other bounded region. In geospatial data science, polygons are fundamental for mapping and analyzing spatial areas. Later, we will use Shapely's `Polygon` constructor to create polygon objects.\n",
    "\n",
    "One step further, we will meet a **multipolygon**, which is a geometric object that represents a collection of multiple polygons treated as a single entity. This is useful for representing spatial features consisting of several disconnected areas, such as multiple land parcels. Shapely provides a straightforward way to create and manipulate multipolygon geometries using the `MultiPolygon` constructor.\n",
    "\n",
    "Similar to the generalization from polygon to multipolygon, Shapely also has`MultiPoint` and `MultiLineString` classes, which  are collections of multiple points and LineStrings, respectively, treated as single entities. Finally, `GeometryCollections` are the most general collections that can contain a mix of different geometries, such as points, LineStrings, and polygons, all within a single object. These collections are useful for complex spatial analyses involving multiple types of geometries. \n",
    "\n",
    "- First, we create a polygon called `polygon_1` -  a triangle with the vertices placed at the (0, 0), (1, 1), and (1, 0).\n",
    "- Second, we create another triangle (`polygon_2`) with its corners placed at the points (1, 0), (1, 1), and (1.5, 0).\n",
    "- Third, we create a MultiPolygon by joining these two triangles.\n",
    "\n",
    "After each geometry creation step, we also print the geometries and visualize them at the cell's outputs."
   ]
  },
  {
   "cell_type": "code",
   "execution_count": 3,
   "id": "italian-amplifier",
   "metadata": {},
   "outputs": [
    {
     "name": "stdout",
     "output_type": "stream",
     "text": [
      "The type of the first polygon:  <class 'shapely.geometry.polygon.Polygon'> \n",
      "\n",
      "The first polygon itself:  POLYGON ((0 0, 1 1, 1 0, 0 0)) \n",
      "\n",
      "POLYGON ((0 0, 1 1, 1 0, 0 0)) \n",
      "\n"
     ]
    },
    {
     "data": {
      "image/svg+xml": [
       "<svg xmlns=\"http://www.w3.org/2000/svg\" xmlns:xlink=\"http://www.w3.org/1999/xlink\" width=\"100.0\" height=\"100.0\" viewBox=\"-0.04 -0.04 1.08 1.08\" preserveAspectRatio=\"xMinYMin meet\"><g transform=\"matrix(1,0,0,-1,0,1.0)\"><path fill-rule=\"evenodd\" fill=\"#66cc99\" stroke=\"#555555\" stroke-width=\"0.0216\" opacity=\"0.6\" d=\"M 0.0,0.0 L 1.0,1.0 L 1.0,0.0 L 0.0,0.0 z\" /></g></svg>"
      ],
      "text/plain": [
       "<POLYGON ((0 0, 1 1, 1 0, 0 0))>"
      ]
     },
     "execution_count": 3,
     "metadata": {},
     "output_type": "execute_result"
    }
   ],
   "source": [
    "# Import the Polygon constructor from Shapely\n",
    "from shapely.geometry import Polygon, MultiPolygon\n",
    "\n",
    "# Create the first polygon with a series of points\n",
    "polygon_1 = Polygon([(0, 0), (1, 1), (1, 0)])\n",
    "\n",
    "# Print the first polygon\n",
    "print(\"The type of the first polygon: \", type(polygon_1), \"\\n\")\n",
    "\n",
    "# Print the point\n",
    "print(\"The first polygon itself: \", polygon_1, \"\\n\")\n",
    "\n",
    "# Print and show the first polygon\n",
    "print(polygon_1, \"\\n\")\n",
    "polygon_1"
   ]
  },
  {
   "cell_type": "code",
   "execution_count": 4,
   "id": "adult-secretariat",
   "metadata": {},
   "outputs": [
    {
     "data": {
      "image/svg+xml": [
       "<svg xmlns=\"http://www.w3.org/2000/svg\" xmlns:xlink=\"http://www.w3.org/1999/xlink\" width=\"100.0\" height=\"100.0\" viewBox=\"0.96 -0.04 0.5800000000000001 1.08\" preserveAspectRatio=\"xMinYMin meet\"><g transform=\"matrix(1,0,0,-1,0,1.0)\"><path fill-rule=\"evenodd\" fill=\"#66cc99\" stroke=\"#555555\" stroke-width=\"0.0216\" opacity=\"0.6\" d=\"M 1.0,0.0 L 1.0,1.0 L 1.5,0.0 L 1.0,0.0 z\" /></g></svg>"
      ],
      "text/plain": [
       "<POLYGON ((1 0, 1 1, 1.5 0, 1 0))>"
      ]
     },
     "execution_count": 4,
     "metadata": {},
     "output_type": "execute_result"
    }
   ],
   "source": [
    "# Create the second polygon with another series of points\n",
    "polygon_2 = Polygon([(1, 0), (1, 1), (1.5, 0)])\n",
    "polygon_2"
   ]
  },
  {
   "cell_type": "code",
   "execution_count": 5,
   "id": "flexible-shepherd",
   "metadata": {},
   "outputs": [
    {
     "name": "stdout",
     "output_type": "stream",
     "text": [
      "The type of the multipolygon:  <class 'shapely.geometry.multipolygon.MultiPolygon'> \n",
      "\n",
      "The first multipolygon itself:  MULTIPOLYGON (((0 0, 1 1, 1 0, 0 0)), ((1 0, 1 1, 1.5 0, 1 0))) \n",
      "\n",
      "MULTIPOLYGON (((0 0, 1 1, 1 0, 0 0)), ((1 0, 1 1, 1.5 0, 1 0))) \n",
      "\n"
     ]
    },
    {
     "data": {
      "image/svg+xml": [
       "<svg xmlns=\"http://www.w3.org/2000/svg\" xmlns:xlink=\"http://www.w3.org/1999/xlink\" width=\"100.0\" height=\"100.0\" viewBox=\"-0.06 -0.06 1.62 1.12\" preserveAspectRatio=\"xMinYMin meet\"><g transform=\"matrix(1,0,0,-1,0,1.0)\"><g><path fill-rule=\"evenodd\" fill=\"#ff3333\" stroke=\"#555555\" stroke-width=\"0.032400000000000005\" opacity=\"0.6\" d=\"M 0.0,0.0 L 1.0,1.0 L 1.0,0.0 L 0.0,0.0 z\" /><path fill-rule=\"evenodd\" fill=\"#ff3333\" stroke=\"#555555\" stroke-width=\"0.032400000000000005\" opacity=\"0.6\" d=\"M 1.0,0.0 L 1.0,1.0 L 1.5,0.0 L 1.0,0.0 z\" /></g></g></svg>"
      ],
      "text/plain": [
       "<MULTIPOLYGON (((0 0, 1 1, 1 0, 0 0)), ((1 0, 1 1, 1.5 0, 1 0)))>"
      ]
     },
     "execution_count": 5,
     "metadata": {},
     "output_type": "execute_result"
    }
   ],
   "source": [
    "# Import the MultiPolygon constructor from Shapely\n",
    "from shapely.geometry import MultiPolygon\n",
    "\n",
    "# Combine the two polygons into a multipolygon\n",
    "multipolygon = MultiPolygon([polygon_1, polygon_2])\n",
    "\n",
    "# Print the multipolygon\n",
    "print(\"The type of the multipolygon: \", type(multipolygon), \"\\n\")\n",
    "\n",
    "# Print the point\n",
    "print(\"The first multipolygon itself: \", multipolygon, \"\\n\")\n",
    "\n",
    "# Print and show the multipolygon\n",
    "print(multipolygon, \"\\n\")\n",
    "\n",
    "multipolygon"
   ]
  },
  {
   "cell_type": "markdown",
   "id": "qualified-trouble",
   "metadata": {},
   "source": [
    "### 4. Buffering a Geometry\n",
    "\n",
    "**Buffering** means transforming an existing geometry into a new geometry that represents all points within a specified distance from the original geometry. This operation is useful for creating zones around spatial features, such as protective zones around natural resources, areas of influence around infrastructure, or any region that needs to be considered within a certain distance from a given place. Hence, we can buffer points, lines, and polygons as well. All buffering operations result in a polygon.\n",
    "\n",
    "Shapely provides a straightforward way to buffer geometries using the `buffer` method, which can be applied to any geometric object. \n",
    "\n",
    "The following example shows how we can buffer a point at (0, 0) with a buffer radius of 1 unit, which will result in a circle. Then, we output the circle using the usual methods."
   ]
  },
  {
   "cell_type": "code",
   "execution_count": 6,
   "id": "geological-taiwan",
   "metadata": {},
   "outputs": [
    {
     "data": {
      "image/svg+xml": [
       "<svg xmlns=\"http://www.w3.org/2000/svg\" xmlns:xlink=\"http://www.w3.org/1999/xlink\" width=\"100.0\" height=\"100.0\" viewBox=\"-1.08 -1.08 2.16 2.16\" preserveAspectRatio=\"xMinYMin meet\"><g transform=\"matrix(1,0,0,-1,0,0.0)\"><path fill-rule=\"evenodd\" fill=\"#66cc99\" stroke=\"#555555\" stroke-width=\"0.0432\" opacity=\"0.6\" d=\"M 1.0,0.0 L 0.9951847266721969,-0.0980171403295606 L 0.9807852804032304,-0.19509032201612825 L 0.9569403357322088,-0.29028467725446233 L 0.9238795325112867,-0.3826834323650898 L 0.881921264348355,-0.47139673682599764 L 0.8314696123025452,-0.5555702330196022 L 0.773010453362737,-0.6343932841636455 L 0.7071067811865476,-0.7071067811865475 L 0.6343932841636455,-0.773010453362737 L 0.5555702330196023,-0.8314696123025452 L 0.4713967368259978,-0.8819212643483549 L 0.38268343236508984,-0.9238795325112867 L 0.29028467725446233,-0.9569403357322088 L 0.19509032201612833,-0.9807852804032304 L 0.09801714032956077,-0.9951847266721968 L 0.0,-1.0 L -0.09801714032956065,-0.9951847266721969 L -0.1950903220161282,-0.9807852804032304 L -0.29028467725446216,-0.9569403357322089 L -0.3826834323650897,-0.9238795325112867 L -0.4713967368259977,-0.881921264348355 L -0.555570233019602,-0.8314696123025453 L -0.6343932841636454,-0.7730104533627371 L -0.7071067811865475,-0.7071067811865476 L -0.773010453362737,-0.6343932841636455 L -0.8314696123025453,-0.5555702330196022 L -0.8819212643483549,-0.47139673682599786 L -0.9238795325112867,-0.3826834323650899 L -0.9569403357322088,-0.2902846772544624 L -0.9807852804032304,-0.1950903220161286 L -0.9951847266721968,-0.09801714032956083 L -1.0,0.0 L -0.9951847266721969,0.09801714032956059 L -0.9807852804032304,0.19509032201612836 L -0.9569403357322089,0.2902846772544621 L -0.9238795325112868,0.38268343236508967 L -0.881921264348355,0.47139673682599764 L -0.8314696123025455,0.555570233019602 L -0.7730104533627371,0.6343932841636453 L -0.7071067811865477,0.7071067811865475 L -0.6343932841636458,0.7730104533627367 L -0.5555702330196022,0.8314696123025452 L -0.4713967368259979,0.8819212643483549 L -0.38268343236509034,0.9238795325112865 L -0.29028467725446244,0.9569403357322088 L -0.19509032201612866,0.9807852804032303 L -0.09801714032956045,0.9951847266721969 L 0.0,1.0 L 0.09801714032956009,0.9951847266721969 L 0.1950903220161283,0.9807852804032304 L 0.29028467725446205,0.9569403357322089 L 0.38268343236509,0.9238795325112866 L 0.4713967368259976,0.881921264348355 L 0.5555702330196018,0.8314696123025455 L 0.6343932841636456,0.7730104533627369 L 0.7071067811865474,0.7071067811865477 L 0.7730104533627367,0.6343932841636459 L 0.8314696123025452,0.5555702330196022 L 0.8819212643483548,0.471396736825998 L 0.9238795325112865,0.3826834323650904 L 0.9569403357322088,0.2902846772544625 L 0.9807852804032303,0.19509032201612872 L 0.9951847266721969,0.0980171403295605 L 1.0,0.0 z\" /></g></svg>"
      ],
      "text/plain": [
       "<POLYGON ((1 0, 1 -0.1, 1 -0.2, 1 -0.3, 0.9 -0.4, 0.9 -0.5, 0.8 -0.6, 0.8 -0...>"
      ]
     },
     "execution_count": 6,
     "metadata": {},
     "output_type": "execute_result"
    }
   ],
   "source": [
    "# Import the Point constructor from Shapely\n",
    "from shapely.geometry import Point\n",
    "\n",
    "# Create a point at coordinates (0, 0)\n",
    "point = Point(0, 0)\n",
    "\n",
    "# Buffer the point by a specified distance (e.g. 1 unit) to create a circle\n",
    "circle = point.buffer(1)\n",
    "\n",
    "# Show the buffered geometry (circle)\n",
    "circle"
   ]
  },
  {
   "cell_type": "markdown",
   "id": "fancy-generator",
   "metadata": {},
   "source": [
    "Now, we repeat the same buffering steps on a triangle, resulting in a buffered polygon, a triangle with rounded vertices."
   ]
  },
  {
   "cell_type": "code",
   "execution_count": 7,
   "id": "adapted-gabriel",
   "metadata": {},
   "outputs": [
    {
     "data": {
      "image/svg+xml": [
       "<svg xmlns=\"http://www.w3.org/2000/svg\" xmlns:xlink=\"http://www.w3.org/1999/xlink\" width=\"100.0\" height=\"100.0\" viewBox=\"-0.364 -0.364 1.7280000000000002 1.7280000000000002\" preserveAspectRatio=\"xMinYMin meet\"><g transform=\"matrix(1,0,0,-1,0,1.0)\"><path fill-rule=\"evenodd\" fill=\"#66cc99\" stroke=\"#555555\" stroke-width=\"0.03456000000000001\" opacity=\"0.6\" d=\"M 0.0,-0.3 L -0.029405142098868135,-0.2985554180016591 L -0.0585270966048386,-0.29423558412096906 L -0.08708540317633873,-0.2870821007196626 L -0.11480502970952709,-0.2771638597533859 L -0.14141902104779938,-0.26457637930450645 L -0.16667106990588065,-0.24944088369076356 L -0.19031798524909374,-0.23190313600882098 L -0.2121320343559643,-0.21213203435596423 L -0.23190313600882112,-0.19031798524909357 L -0.24944088369076362,-0.16667106990588057 L -0.2645763793045065,-0.1414190210477993 L -0.27716385975338603,-0.1148050297095269 L -0.28708210071966267,-0.08708540317633863 L -0.2942355841209691,-0.058527096604838506 L -0.2985554180016591,-0.029405142098868176 L -0.3,0.0 L -0.298555418001659,0.029405142098868246 L -0.2942355841209691,0.05852709660483858 L -0.2870821007196626,0.08708540317633871 L -0.27716385975338603,0.11480502970952697 L -0.26457637930450645,0.14141902104779935 L -0.2494408836907636,0.16667106990588065 L -0.2319031360088211,0.19031798524909363 L -0.21213203435596423,0.21213203435596423 L 0.7878679656440357,1.2121320343559643 L 0.8096820147509064,1.231903136008821 L 0.8333289300941195,1.2494408836907636 L 0.8585809789522008,1.2645763793045064 L 0.8851949702904731,1.277163859753386 L 0.9129145968236614,1.2870821007196627 L 0.9414729033951615,1.2942355841209692 L 0.9705948579011318,1.298555418001659 L 1.0,1.3 L 1.0294051420988681,1.298555418001659 L 1.0585270966048386,1.2942355841209692 L 1.0870854031763386,1.2870821007196627 L 1.1148050297095269,1.277163859753386 L 1.1414190210477992,1.2645763793045064 L 1.1666710699058807,1.2494408836907636 L 1.1903179852490937,1.231903136008821 L 1.2121320343559643,1.2121320343559643 L 1.231903136008821,1.1903179852490937 L 1.2494408836907636,1.1666710699058807 L 1.2645763793045064,1.1414190210477992 L 1.277163859753386,1.1148050297095269 L 1.2870821007196627,1.0870854031763386 L 1.2942355841209692,1.0585270966048386 L 1.298555418001659,1.0294051420988681 L 1.3,1.0 L 1.3,0.0 L 1.298555418001659,-0.02940514209886818 L 1.2942355841209692,-0.05852709660483847 L 1.2870821007196627,-0.0870854031763387 L 1.277163859753386,-0.11480502970952693 L 1.2645763793045064,-0.1414190210477993 L 1.2494408836907636,-0.16667106990588065 L 1.231903136008821,-0.19031798524909363 L 1.2121320343559643,-0.21213203435596423 L 1.1903179852490937,-0.2319031360088211 L 1.1666710699058807,-0.24944088369076356 L 1.1414190210477992,-0.26457637930450645 L 1.1148050297095269,-0.27716385975338603 L 1.0870854031763386,-0.2870821007196626 L 1.0585270966048386,-0.2942355841209691 L 1.0294051420988681,-0.298555418001659 L 1.0,-0.3 L 0.0,-0.3 z\" /></g></svg>"
      ],
      "text/plain": [
       "<POLYGON ((0 -0.3, -0.03 -0.3, -0.06 -0.3, -0.09 -0.3, -0.1 -0.3, -0.1 -0.3,...>"
      ]
     },
     "execution_count": 7,
     "metadata": {},
     "output_type": "execute_result"
    }
   ],
   "source": [
    "# Import the Polygon constructor from Shapely\n",
    "from shapely.geometry import Polygon\n",
    "\n",
    "# Create a polygon from a series of points \n",
    "# (the first and last points must be the same to close the shape)\n",
    "polygon = Polygon([(0, 0), (1, 1), (1, 0)])\n",
    "\n",
    "# Buffer the polygon by a distance of 0.3 units\n",
    "buffered_polygon = polygon.buffer(0.3)\n",
    "\n",
    "# Show the buffered geometry\n",
    "buffered_polygon"
   ]
  },
  {
   "cell_type": "markdown",
   "id": "fluid-insured",
   "metadata": {},
   "source": [
    "### 5. Set Operations on Geometries\n",
    "\n",
    "Set operations on geometries allow us to quantify spatial relationships and perform operations between different geometric shapes. These operations are fundamental in spatial analysis and are widely used in countless domains of spatial analytics. \n",
    "\n",
    "Shapely provides a range of set operations that can be performed on geometries, including intersection, union, difference, and symmetric difference. Now we review the most frequently used ones.\n",
    "\n",
    "#### Intersection\n",
    "\n",
    "The `intersection` operation finds the common area shared by two geometries. This is useful for determining overlapping regions between spatial features - geometric objects representing real-world entities in a spatial  context. To test the intersection method, in the following two cells, we create a triangle and a circle using the previously introduced steps. Then, we create their intersection and output the resulting polygon."
   ]
  },
  {
   "cell_type": "code",
   "execution_count": 8,
   "id": "tropical-reset",
   "metadata": {},
   "outputs": [
    {
     "data": {
      "image/svg+xml": [
       "<svg xmlns=\"http://www.w3.org/2000/svg\" xmlns:xlink=\"http://www.w3.org/1999/xlink\" width=\"100.0\" height=\"100.0\" viewBox=\"-0.08 -0.08 2.16 1.6600000000000001\" preserveAspectRatio=\"xMinYMin meet\"><g transform=\"matrix(1,0,0,-1,0,1.5)\"><path fill-rule=\"evenodd\" fill=\"#66cc99\" stroke=\"#555555\" stroke-width=\"0.0432\" opacity=\"0.6\" d=\"M 0.0,0.0 L 2.0,0.0 L 1.0,1.5 L 0.0,0.0 z\" /></g></svg>"
      ],
      "text/plain": [
       "<POLYGON ((0 0, 2 0, 1 1.5, 0 0))>"
      ]
     },
     "execution_count": 8,
     "metadata": {},
     "output_type": "execute_result"
    }
   ],
   "source": [
    "# Import the Polygon constructor from Shapely\n",
    "from shapely.geometry import Polygon\n",
    "\n",
    "# Create the first polygon\n",
    "polygon1 = Polygon([(0, 0), (2, 0), (1, 1.5)])\n",
    "polygon1"
   ]
  },
  {
   "cell_type": "code",
   "execution_count": 9,
   "id": "improving-there",
   "metadata": {},
   "outputs": [
    {
     "data": {
      "image/svg+xml": [
       "<svg xmlns=\"http://www.w3.org/2000/svg\" xmlns:xlink=\"http://www.w3.org/1999/xlink\" width=\"100.0\" height=\"100.0\" viewBox=\"-1.08 -0.08 2.16 2.16\" preserveAspectRatio=\"xMinYMin meet\"><g transform=\"matrix(1,0,0,-1,0,2.0)\"><path fill-rule=\"evenodd\" fill=\"#66cc99\" stroke=\"#555555\" stroke-width=\"0.0432\" opacity=\"0.6\" d=\"M 1.0,1.0 L 0.9951847266721969,0.9019828596704393 L 0.9807852804032304,0.8049096779838718 L 0.9569403357322088,0.7097153227455377 L 0.9238795325112867,0.6173165676349102 L 0.881921264348355,0.5286032631740023 L 0.8314696123025452,0.4444297669803978 L 0.773010453362737,0.3656067158363545 L 0.7071067811865476,0.29289321881345254 L 0.6343932841636455,0.226989546637263 L 0.5555702330196023,0.16853038769745476 L 0.4713967368259978,0.11807873565164506 L 0.38268343236508984,0.07612046748871326 L 0.29028467725446233,0.043059664267791176 L 0.19509032201612833,0.01921471959676957 L 0.09801714032956077,0.004815273327803182 L 0.0,0.0 L -0.09801714032956065,0.004815273327803071 L -0.1950903220161282,0.01921471959676957 L -0.29028467725446216,0.043059664267791065 L -0.3826834323650897,0.07612046748871326 L -0.4713967368259977,0.11807873565164495 L -0.555570233019602,0.16853038769745465 L -0.6343932841636454,0.2269895466372629 L -0.7071067811865475,0.2928932188134524 L -0.773010453362737,0.3656067158363545 L -0.8314696123025453,0.4444297669803978 L -0.8819212643483549,0.5286032631740021 L -0.9238795325112867,0.6173165676349102 L -0.9569403357322088,0.7097153227455376 L -0.9807852804032304,0.8049096779838714 L -0.9951847266721968,0.9019828596704391 L -1.0,1.0 L -0.9951847266721969,1.0980171403295607 L -0.9807852804032304,1.1950903220161284 L -0.9569403357322089,1.290284677254462 L -0.9238795325112868,1.3826834323650896 L -0.881921264348355,1.4713967368259977 L -0.8314696123025455,1.555570233019602 L -0.7730104533627371,1.6343932841636453 L -0.7071067811865477,1.7071067811865475 L -0.6343932841636458,1.7730104533627367 L -0.5555702330196022,1.8314696123025453 L -0.4713967368259979,1.881921264348355 L -0.38268343236509034,1.9238795325112865 L -0.29028467725446244,1.9569403357322088 L -0.19509032201612866,1.9807852804032304 L -0.09801714032956045,1.995184726672197 L 0.0,2.0 L 0.09801714032956009,1.995184726672197 L 0.1950903220161283,1.9807852804032304 L 0.29028467725446205,1.956940335732209 L 0.38268343236509,1.9238795325112865 L 0.4713967368259976,1.881921264348355 L 0.5555702330196018,1.8314696123025453 L 0.6343932841636456,1.7730104533627369 L 0.7071067811865474,1.7071067811865477 L 0.7730104533627367,1.634393284163646 L 0.8314696123025452,1.5555702330196022 L 0.8819212643483548,1.471396736825998 L 0.9238795325112865,1.3826834323650905 L 0.9569403357322088,1.2902846772544625 L 0.9807852804032303,1.1950903220161286 L 0.9951847266721969,1.0980171403295604 L 1.0,1.0 z\" /></g></svg>"
      ],
      "text/plain": [
       "<POLYGON ((1 1, 1 0.9, 1 0.8, 1 0.7, 0.9 0.6, 0.9 0.5, 0.8 0.4, 0.8 0.4, 0.7...>"
      ]
     },
     "execution_count": 9,
     "metadata": {},
     "output_type": "execute_result"
    }
   ],
   "source": [
    "# Create the second polygon\n",
    "polygon2 = Point(0,1).buffer(1)\n",
    "polygon2"
   ]
  },
  {
   "cell_type": "code",
   "execution_count": 10,
   "id": "invalid-vaccine",
   "metadata": {},
   "outputs": [
    {
     "name": "stdout",
     "output_type": "stream",
     "text": [
      "Intersection: POLYGON ((0.9230119102873612 1.3845178654310417, 0.9238795325112865 1.3826834323650905, 0.9569403357322088 1.2902846772544625, 0.9807852804032303 1.1950903220161286, 0.9951847266721969 1.0980171403295604, 1 1, 0.9951847266721969 0.9019828596704393, 0.9807852804032304 0.8049096779838718, 0.9569403357322088 0.7097153227455377, 0.9238795325112867 0.6173165676349102, 0.881921264348355 0.5286032631740023, 0.8314696123025452 0.4444297669803978, 0.773010453362737 0.3656067158363545, 0.7071067811865476 0.2928932188134525, 0.6343932841636455 0.226989546637263, 0.5555702330196023 0.1685303876974548, 0.4713967368259978 0.1180787356516451, 0.3826834323650898 0.0761204674887133, 0.2902846772544623 0.0430596642677912, 0.1950903220161283 0.0192147195967696, 0.0980171403295608 0.0048152733278032, 0 0, 0.9230119102873612 1.3845178654310417)) \n",
      "\n"
     ]
    },
    {
     "data": {
      "image/svg+xml": [
       "<svg xmlns=\"http://www.w3.org/2000/svg\" xmlns:xlink=\"http://www.w3.org/1999/xlink\" width=\"100.0\" height=\"100.0\" viewBox=\"-0.05538071461724167 -0.05538071461724167 1.1107614292344832 1.495279294665525\" preserveAspectRatio=\"xMinYMin meet\"><g transform=\"matrix(1,0,0,-1,0,1.3845178654310417)\"><path fill-rule=\"evenodd\" fill=\"#66cc99\" stroke=\"#555555\" stroke-width=\"0.029905585893310497\" opacity=\"0.6\" d=\"M 0.9230119102873612,1.3845178654310417 L 0.9238795325112865,1.3826834323650905 L 0.9569403357322088,1.2902846772544625 L 0.9807852804032303,1.1950903220161286 L 0.9951847266721969,1.0980171403295604 L 1.0,1.0 L 0.9951847266721969,0.9019828596704393 L 0.9807852804032304,0.8049096779838718 L 0.9569403357322088,0.7097153227455377 L 0.9238795325112867,0.6173165676349102 L 0.881921264348355,0.5286032631740023 L 0.8314696123025452,0.4444297669803978 L 0.773010453362737,0.3656067158363545 L 0.7071067811865476,0.29289321881345254 L 0.6343932841636455,0.226989546637263 L 0.5555702330196023,0.16853038769745476 L 0.4713967368259978,0.11807873565164506 L 0.38268343236508984,0.07612046748871326 L 0.29028467725446233,0.043059664267791176 L 0.19509032201612833,0.01921471959676957 L 0.09801714032956077,0.004815273327803182 L 0.0,0.0 L 0.9230119102873612,1.3845178654310417 z\" /></g></svg>"
      ],
      "text/plain": [
       "<POLYGON ((0.9 1.385, 0.9 1.383, 1 1.29, 1 1.195, 1 1.098, 1 1, 1 0.9, 1 0.8...>"
      ]
     },
     "execution_count": 10,
     "metadata": {},
     "output_type": "execute_result"
    }
   ],
   "source": [
    "# Compute the intersection of the two polygons\n",
    "intersection = polygon1.intersection(polygon2)\n",
    "\n",
    "# Print and show the intersected geometry\n",
    "print(f\"Intersection: {intersection}\", \"\\n\")\n",
    "\n",
    "intersection"
   ]
  },
  {
   "cell_type": "markdown",
   "id": "comparable-ranch",
   "metadata": {},
   "source": [
    "#### Union\n",
    "\n",
    "The `union` operation combines two geometries into a single geometry that covers all areas of the input geometries. This is useful for merging adjacent areas or combining multiple features into a single entity. As this example shows, we can, for instance, easily join the previously created triangle and circle to turn them into one merged polygon containing all areas covered by either of these geometries."
   ]
  },
  {
   "cell_type": "code",
   "execution_count": 11,
   "id": "instant-penny",
   "metadata": {},
   "outputs": [
    {
     "data": {
      "image/svg+xml": [
       "<svg xmlns=\"http://www.w3.org/2000/svg\" xmlns:xlink=\"http://www.w3.org/1999/xlink\" width=\"100.0\" height=\"100.0\" viewBox=\"-1.12 -0.12 3.24 2.24\" preserveAspectRatio=\"xMinYMin meet\"><g transform=\"matrix(1,0,0,-1,0,2.0)\"><path fill-rule=\"evenodd\" fill=\"#66cc99\" stroke=\"#555555\" stroke-width=\"0.06480000000000001\" opacity=\"0.6\" d=\"M 1.0,1.5 L 2.0,0.0 L 0.0,0.0 L -0.09801714032956065,0.004815273327803071 L -0.1950903220161282,0.01921471959676957 L -0.29028467725446216,0.043059664267791065 L -0.3826834323650897,0.07612046748871326 L -0.4713967368259977,0.11807873565164495 L -0.555570233019602,0.16853038769745465 L -0.6343932841636454,0.2269895466372629 L -0.7071067811865475,0.2928932188134524 L -0.773010453362737,0.3656067158363545 L -0.8314696123025453,0.4444297669803978 L -0.8819212643483549,0.5286032631740021 L -0.9238795325112867,0.6173165676349102 L -0.9569403357322088,0.7097153227455376 L -0.9807852804032304,0.8049096779838714 L -0.9951847266721968,0.9019828596704391 L -1.0,1.0 L -0.9951847266721969,1.0980171403295607 L -0.9807852804032304,1.1950903220161284 L -0.9569403357322089,1.290284677254462 L -0.9238795325112868,1.3826834323650896 L -0.881921264348355,1.4713967368259977 L -0.8314696123025455,1.555570233019602 L -0.7730104533627371,1.6343932841636453 L -0.7071067811865477,1.7071067811865475 L -0.6343932841636458,1.7730104533627367 L -0.5555702330196022,1.8314696123025453 L -0.4713967368259979,1.881921264348355 L -0.38268343236509034,1.9238795325112865 L -0.29028467725446244,1.9569403357322088 L -0.19509032201612866,1.9807852804032304 L -0.09801714032956045,1.995184726672197 L 0.0,2.0 L 0.09801714032956009,1.995184726672197 L 0.1950903220161283,1.9807852804032304 L 0.29028467725446205,1.956940335732209 L 0.38268343236509,1.9238795325112865 L 0.4713967368259976,1.881921264348355 L 0.5555702330196018,1.8314696123025453 L 0.6343932841636456,1.7730104533627369 L 0.7071067811865474,1.7071067811865477 L 0.7730104533627367,1.634393284163646 L 0.8314696123025452,1.5555702330196022 L 0.8819212643483548,1.471396736825998 L 0.9230119102873612,1.3845178654310417 L 1.0,1.5 z\" /></g></svg>"
      ],
      "text/plain": [
       "<POLYGON ((1 1.5, 2 0, 0 0, -0.1 0.005, -0.2 0.02, -0.3 0.04, -0.4 0.08, -0....>"
      ]
     },
     "execution_count": 11,
     "metadata": {},
     "output_type": "execute_result"
    }
   ],
   "source": [
    "# Compute the union of the two polygons\n",
    "union = polygon1.union(polygon2)\n",
    "\n",
    "# Show the union geometry\n",
    "union"
   ]
  },
  {
   "cell_type": "markdown",
   "id": "terminal-concept",
   "metadata": {},
   "source": [
    "#### Difference\n",
    "\n",
    "The `difference` operation subtracts the area of one geometry from another, resulting in a geometry that represents the part of the first geometry that does not overlap with the second geometry. This is useful for finding the area of a feature that lies outside another feature. Similarly to the union command, we can test the difference method by subtracting the second polygon from the first and then doing it the other way around. Calculating the difference in both directions demonstrates that the order of the components matters when performing a difference operation."
   ]
  },
  {
   "cell_type": "code",
   "execution_count": 12,
   "id": "comparable-newman",
   "metadata": {},
   "outputs": [
    {
     "data": {
      "image/svg+xml": [
       "<svg xmlns=\"http://www.w3.org/2000/svg\" xmlns:xlink=\"http://www.w3.org/1999/xlink\" width=\"100.0\" height=\"100.0\" viewBox=\"-0.08 -0.08 2.16 1.6600000000000001\" preserveAspectRatio=\"xMinYMin meet\"><g transform=\"matrix(1,0,0,-1,0,1.5)\"><path fill-rule=\"evenodd\" fill=\"#66cc99\" stroke=\"#555555\" stroke-width=\"0.0432\" opacity=\"0.6\" d=\"M 1.0,1.5 L 2.0,0.0 L 0.0,0.0 L 0.09801714032956077,0.004815273327803182 L 0.19509032201612833,0.01921471959676957 L 0.29028467725446233,0.043059664267791176 L 0.38268343236508984,0.07612046748871326 L 0.4713967368259978,0.11807873565164506 L 0.5555702330196023,0.16853038769745476 L 0.6343932841636455,0.226989546637263 L 0.7071067811865476,0.29289321881345254 L 0.773010453362737,0.3656067158363545 L 0.8314696123025452,0.4444297669803978 L 0.881921264348355,0.5286032631740023 L 0.9238795325112867,0.6173165676349102 L 0.9569403357322088,0.7097153227455377 L 0.9807852804032304,0.8049096779838718 L 0.9951847266721969,0.9019828596704393 L 1.0,1.0 L 0.9951847266721969,1.0980171403295604 L 0.9807852804032303,1.1950903220161286 L 0.9569403357322088,1.2902846772544625 L 0.9238795325112865,1.3826834323650905 L 0.9230119102873612,1.3845178654310417 L 1.0,1.5 z\" /></g></svg>"
      ],
      "text/plain": [
       "<POLYGON ((1 1.5, 2 0, 0 0, 0.1 0.005, 0.2 0.02, 0.3 0.04, 0.4 0.08, 0.5 0.1...>"
      ]
     },
     "execution_count": 12,
     "metadata": {},
     "output_type": "execute_result"
    }
   ],
   "source": [
    "# Compute the difference of polygon1 and polygon2 (polygon1 minus polygon2)\n",
    "difference = polygon1.difference(polygon2)\n",
    "\n",
    "# Show the difference geometry\n",
    "difference"
   ]
  },
  {
   "cell_type": "code",
   "execution_count": 13,
   "id": "insured-vintage",
   "metadata": {},
   "outputs": [
    {
     "data": {
      "image/svg+xml": [
       "<svg xmlns=\"http://www.w3.org/2000/svg\" xmlns:xlink=\"http://www.w3.org/1999/xlink\" width=\"100.0\" height=\"100.0\" viewBox=\"-1.08 -0.08 2.083011910287361 2.16\" preserveAspectRatio=\"xMinYMin meet\"><g transform=\"matrix(1,0,0,-1,0,2.0)\"><path fill-rule=\"evenodd\" fill=\"#66cc99\" stroke=\"#555555\" stroke-width=\"0.0432\" opacity=\"0.6\" d=\"M -0.09801714032956065,0.004815273327803071 L -0.1950903220161282,0.01921471959676957 L -0.29028467725446216,0.043059664267791065 L -0.3826834323650897,0.07612046748871326 L -0.4713967368259977,0.11807873565164495 L -0.555570233019602,0.16853038769745465 L -0.6343932841636454,0.2269895466372629 L -0.7071067811865475,0.2928932188134524 L -0.773010453362737,0.3656067158363545 L -0.8314696123025453,0.4444297669803978 L -0.8819212643483549,0.5286032631740021 L -0.9238795325112867,0.6173165676349102 L -0.9569403357322088,0.7097153227455376 L -0.9807852804032304,0.8049096779838714 L -0.9951847266721968,0.9019828596704391 L -1.0,1.0 L -0.9951847266721969,1.0980171403295607 L -0.9807852804032304,1.1950903220161284 L -0.9569403357322089,1.290284677254462 L -0.9238795325112868,1.3826834323650896 L -0.881921264348355,1.4713967368259977 L -0.8314696123025455,1.555570233019602 L -0.7730104533627371,1.6343932841636453 L -0.7071067811865477,1.7071067811865475 L -0.6343932841636458,1.7730104533627367 L -0.5555702330196022,1.8314696123025453 L -0.4713967368259979,1.881921264348355 L -0.38268343236509034,1.9238795325112865 L -0.29028467725446244,1.9569403357322088 L -0.19509032201612866,1.9807852804032304 L -0.09801714032956045,1.995184726672197 L 0.0,2.0 L 0.09801714032956009,1.995184726672197 L 0.1950903220161283,1.9807852804032304 L 0.29028467725446205,1.956940335732209 L 0.38268343236509,1.9238795325112865 L 0.4713967368259976,1.881921264348355 L 0.5555702330196018,1.8314696123025453 L 0.6343932841636456,1.7730104533627369 L 0.7071067811865474,1.7071067811865477 L 0.7730104533627367,1.634393284163646 L 0.8314696123025452,1.5555702330196022 L 0.8819212643483548,1.471396736825998 L 0.9230119102873612,1.3845178654310417 L 0.0,0.0 L -0.09801714032956065,0.004815273327803071 z\" /></g></svg>"
      ],
      "text/plain": [
       "<POLYGON ((-0.1 0.005, -0.2 0.02, -0.3 0.04, -0.4 0.08, -0.5 0.1, -0.6 0.2, ...>"
      ]
     },
     "execution_count": 13,
     "metadata": {},
     "output_type": "execute_result"
    }
   ],
   "source": [
    "# Compute the difference of polygon2 and polygon1 (polygon2 minus polygon1)\n",
    "difference = polygon2.difference(polygon1)\n",
    "\n",
    "# Show the difference geometry\n",
    "difference"
   ]
  },
  {
   "cell_type": "markdown",
   "id": "shared-essence",
   "metadata": {},
   "source": [
    "#### Symmetric Difference\n",
    "\n",
    "The `symmetric_difference` operation finds the areas that are in either of the input geometries but not in their intersection. This results in a geometry that represents the non-overlapping areas of both geometries. Similarly to the union and command difference, we can test the symmetric difference as follows."
   ]
  },
  {
   "cell_type": "code",
   "execution_count": 14,
   "id": "finished-ballet",
   "metadata": {},
   "outputs": [
    {
     "data": {
      "image/svg+xml": [
       "<svg xmlns=\"http://www.w3.org/2000/svg\" xmlns:xlink=\"http://www.w3.org/1999/xlink\" width=\"100.0\" height=\"100.0\" viewBox=\"-1.12 -0.12 3.24 2.24\" preserveAspectRatio=\"xMinYMin meet\"><g transform=\"matrix(1,0,0,-1,0,2.0)\"><g><path fill-rule=\"evenodd\" fill=\"#66cc99\" stroke=\"#555555\" stroke-width=\"0.06480000000000001\" opacity=\"0.6\" d=\"M 1.0,1.5 L 2.0,0.0 L 0.0,0.0 L 0.09801714032956077,0.004815273327803182 L 0.19509032201612833,0.01921471959676957 L 0.29028467725446233,0.043059664267791176 L 0.38268343236508984,0.07612046748871326 L 0.4713967368259978,0.11807873565164506 L 0.5555702330196023,0.16853038769745476 L 0.6343932841636455,0.226989546637263 L 0.7071067811865476,0.29289321881345254 L 0.773010453362737,0.3656067158363545 L 0.8314696123025452,0.4444297669803978 L 0.881921264348355,0.5286032631740023 L 0.9238795325112867,0.6173165676349102 L 0.9569403357322088,0.7097153227455377 L 0.9807852804032304,0.8049096779838718 L 0.9951847266721969,0.9019828596704393 L 1.0,1.0 L 0.9951847266721969,1.0980171403295604 L 0.9807852804032303,1.1950903220161286 L 0.9569403357322088,1.2902846772544625 L 0.9238795325112865,1.3826834323650905 L 0.9230119102873612,1.3845178654310417 L 1.0,1.5 z\" /><path fill-rule=\"evenodd\" fill=\"#66cc99\" stroke=\"#555555\" stroke-width=\"0.06480000000000001\" opacity=\"0.6\" d=\"M 0.0,0.0 L -0.09801714032956065,0.004815273327803071 L -0.1950903220161282,0.01921471959676957 L -0.29028467725446216,0.043059664267791065 L -0.3826834323650897,0.07612046748871326 L -0.4713967368259977,0.11807873565164495 L -0.555570233019602,0.16853038769745465 L -0.6343932841636454,0.2269895466372629 L -0.7071067811865475,0.2928932188134524 L -0.773010453362737,0.3656067158363545 L -0.8314696123025453,0.4444297669803978 L -0.8819212643483549,0.5286032631740021 L -0.9238795325112867,0.6173165676349102 L -0.9569403357322088,0.7097153227455376 L -0.9807852804032304,0.8049096779838714 L -0.9951847266721968,0.9019828596704391 L -1.0,1.0 L -0.9951847266721969,1.0980171403295607 L -0.9807852804032304,1.1950903220161284 L -0.9569403357322089,1.290284677254462 L -0.9238795325112868,1.3826834323650896 L -0.881921264348355,1.4713967368259977 L -0.8314696123025455,1.555570233019602 L -0.7730104533627371,1.6343932841636453 L -0.7071067811865477,1.7071067811865475 L -0.6343932841636458,1.7730104533627367 L -0.5555702330196022,1.8314696123025453 L -0.4713967368259979,1.881921264348355 L -0.38268343236509034,1.9238795325112865 L -0.29028467725446244,1.9569403357322088 L -0.19509032201612866,1.9807852804032304 L -0.09801714032956045,1.995184726672197 L 0.0,2.0 L 0.09801714032956009,1.995184726672197 L 0.1950903220161283,1.9807852804032304 L 0.29028467725446205,1.956940335732209 L 0.38268343236509,1.9238795325112865 L 0.4713967368259976,1.881921264348355 L 0.5555702330196018,1.8314696123025453 L 0.6343932841636456,1.7730104533627369 L 0.7071067811865474,1.7071067811865477 L 0.7730104533627367,1.634393284163646 L 0.8314696123025452,1.5555702330196022 L 0.8819212643483548,1.471396736825998 L 0.9230119102873612,1.3845178654310417 L 0.0,0.0 z\" /></g></g></svg>"
      ],
      "text/plain": [
       "<MULTIPOLYGON (((1 1.5, 2 0, 0 0, 0.1 0.005, 0.2 0.02, 0.3 0.04, 0.4 0.08, 0...>"
      ]
     },
     "execution_count": 14,
     "metadata": {},
     "output_type": "execute_result"
    }
   ],
   "source": [
    "# Compute the symmetric difference of the two polygons\n",
    "symmetric_difference = polygon1.symmetric_difference(polygon2)\n",
    "\n",
    "# Show the symmetric difference geometry\n",
    "symmetric_difference"
   ]
  },
  {
   "cell_type": "markdown",
   "id": "mature-compression",
   "metadata": {},
   "source": [
    "### 6. Area and Perimeter Computation\n",
    "\n",
    "Shapely provides robust built-in methods to compute geometric properties such as the area and circumference (or perimeter) of various shapes. These properties are crucial in many spatial analyses, such as \n",
    "- land use planning,\n",
    "- environmental impact assessments, and\n",
    "- natural resource management.\n",
    "\n",
    "#### Area Computation\n",
    "The `area` of a geometry is a measure of the surface it covers. Shapely can compute the area of two-dimensional objects - Polygons and MultiPolygons. The area is computed in the coordinate system of the geometry, which typically represents square units of the spatial reference system used. Later, we will discuss the different coordinate systems in a dedicated notebook.\n",
    "\n",
    "To test the area computation:\n",
    "\n",
    "- create two triangles and compute and print their areas,\n",
    "- join them into a MultiPolygon and repeat these analytical steps,\n",
    "- create their union, creating a single polygon containing both these triangles.\n"
   ]
  },
  {
   "cell_type": "code",
   "execution_count": 15,
   "id": "ready-dallas",
   "metadata": {},
   "outputs": [
    {
     "name": "stdout",
     "output_type": "stream",
     "text": [
      "Area of the polygon1: 0.5 \n",
      "\n",
      "Area of the polygon1: 3.0 \n",
      "\n"
     ]
    },
    {
     "data": {
      "image/svg+xml": [
       "<svg xmlns=\"http://www.w3.org/2000/svg\" xmlns:xlink=\"http://www.w3.org/1999/xlink\" width=\"100.0\" height=\"100.0\" viewBox=\"-0.04 -0.04 1.08 1.08\" preserveAspectRatio=\"xMinYMin meet\"><g transform=\"matrix(1,0,0,-1,0,1.0)\"><path fill-rule=\"evenodd\" fill=\"#66cc99\" stroke=\"#555555\" stroke-width=\"0.0216\" opacity=\"0.6\" d=\"M 0.0,0.0 L 1.0,1.0 L 1.0,0.0 L 0.0,0.0 z\" /></g></svg>"
      ],
      "text/plain": [
       "<POLYGON ((0 0, 1 1, 1 0, 0 0))>"
      ]
     },
     "execution_count": 15,
     "metadata": {},
     "output_type": "execute_result"
    }
   ],
   "source": [
    "# Import the Polygon and MultiPolygon constructors from Shapely\n",
    "from shapely.geometry import Polygon, MultiPolygon\n",
    "\n",
    "# Create individual polygons\n",
    "polygon1 = Polygon([(0, 0), (1, 1), (1, 0)])\n",
    "polygon2 = Polygon([(1, 0), (1, 3), (3, 0)])\n",
    "\n",
    "# Compute the area of the polygons\n",
    "area_polygon1 = polygon1.area\n",
    "area_polygon2 = polygon2.area\n",
    "\n",
    "# Print the area\n",
    "print(f\"Area of the polygon1: {area_polygon1}\", \"\\n\")\n",
    "print(f\"Area of the polygon1: {area_polygon2}\", \"\\n\")\n",
    "\n",
    "polygon1"
   ]
  },
  {
   "cell_type": "code",
   "execution_count": 16,
   "id": "governing-concept",
   "metadata": {},
   "outputs": [
    {
     "name": "stdout",
     "output_type": "stream",
     "text": [
      "Area of the multipolygon: 3.5 \n",
      "\n"
     ]
    },
    {
     "data": {
      "image/svg+xml": [
       "<svg xmlns=\"http://www.w3.org/2000/svg\" xmlns:xlink=\"http://www.w3.org/1999/xlink\" width=\"100.0\" height=\"100.0\" viewBox=\"-0.12 -0.12 3.24 3.24\" preserveAspectRatio=\"xMinYMin meet\"><g transform=\"matrix(1,0,0,-1,0,3.0)\"><g><path fill-rule=\"evenodd\" fill=\"#ff3333\" stroke=\"#555555\" stroke-width=\"0.06480000000000001\" opacity=\"0.6\" d=\"M 0.0,0.0 L 1.0,1.0 L 1.0,0.0 L 0.0,0.0 z\" /><path fill-rule=\"evenodd\" fill=\"#ff3333\" stroke=\"#555555\" stroke-width=\"0.06480000000000001\" opacity=\"0.6\" d=\"M 1.0,0.0 L 1.0,3.0 L 3.0,0.0 L 1.0,0.0 z\" /></g></g></svg>"
      ],
      "text/plain": [
       "<MULTIPOLYGON (((0 0, 1 1, 1 0, 0 0)), ((1 0, 1 3, 3 0, 1 0)))>"
      ]
     },
     "execution_count": 16,
     "metadata": {},
     "output_type": "execute_result"
    }
   ],
   "source": [
    "# Combine polygons into a multipolygon\n",
    "multipolygon = MultiPolygon([polygon1, polygon2])\n",
    "\n",
    "# Compute the area of the multipolygon\n",
    "area_multipolygon = multipolygon.area\n",
    "\n",
    "# Print the area\n",
    "print(f\"Area of the multipolygon: {area_multipolygon}\", \"\\n\")\n",
    "\n",
    "multipolygon"
   ]
  },
  {
   "cell_type": "code",
   "execution_count": 17,
   "id": "domestic-liabilities",
   "metadata": {},
   "outputs": [
    {
     "name": "stdout",
     "output_type": "stream",
     "text": [
      "Area of the polygon: 3.5 \n",
      "\n"
     ]
    },
    {
     "data": {
      "image/svg+xml": [
       "<svg xmlns=\"http://www.w3.org/2000/svg\" xmlns:xlink=\"http://www.w3.org/1999/xlink\" width=\"100.0\" height=\"100.0\" viewBox=\"-0.12 -0.12 3.24 3.24\" preserveAspectRatio=\"xMinYMin meet\"><g transform=\"matrix(1,0,0,-1,0,3.0)\"><path fill-rule=\"evenodd\" fill=\"#66cc99\" stroke=\"#555555\" stroke-width=\"0.06480000000000001\" opacity=\"0.6\" d=\"M 1.0,1.0 L 1.0,3.0 L 3.0,0.0 L 1.0,0.0 L 0.0,0.0 L 1.0,1.0 z\" /></g></svg>"
      ],
      "text/plain": [
       "<POLYGON ((1 1, 1 3, 3 0, 1 0, 0 0, 1 1))>"
      ]
     },
     "execution_count": 17,
     "metadata": {},
     "output_type": "execute_result"
    }
   ],
   "source": [
    "# Combine polygons by taking their union\n",
    "polygon = polygon1.union(polygon2)\n",
    "\n",
    "# Compute the area of the multipolygon\n",
    "area_polygon = polygon.area\n",
    "\n",
    "# Print the area\n",
    "print(f\"Area of the polygon: {area_polygon}\", \"\\n\")\n",
    "\n",
    "polygon"
   ]
  },
  {
   "cell_type": "markdown",
   "id": "quality-coverage",
   "metadata": {},
   "source": [
    "As the two triangles only touch each other (so they don't overlap), both the multi polygon built off from them and their union have an area that is equal to the area of the triangles separately, measuring 0.5 + 3 = 3.5 square units total."
   ]
  },
  {
   "cell_type": "markdown",
   "id": "commercial-raising",
   "metadata": {},
   "source": [
    "#### Circumference (Perimeter) Computation\n",
    "The circumference, or perimeter, of a geometry is the total `length` of its boundary lines. Shapely can compute the perimeter of one- and two-dimensional geometries, such as LineStrings, Polygons, and MultiPolygons.\n",
    "\n",
    "Now, we follow the previous area computations and first compute the perimeter of the two triangles as separate polygons, then as a MultiPolygon, and finally, as a unified Polygon."
   ]
  },
  {
   "cell_type": "code",
   "execution_count": 18,
   "id": "working-designation",
   "metadata": {},
   "outputs": [
    {
     "name": "stdout",
     "output_type": "stream",
     "text": [
      "Perimeter of polygon1: 3.414213562373095 \n",
      "\n",
      "Perimeter of polygon2: 8.60555127546399 \n",
      "\n",
      "Combined perimeter: 12.019764837837084\n"
     ]
    }
   ],
   "source": [
    "# Compute the perimeter of the polygons\n",
    "perimeter_polygon1 = polygon1.length\n",
    "perimeter_polygon2 = polygon2.length\n",
    "\n",
    "# Print the perimeter  of the polygons\n",
    "print(f\"Perimeter of polygon1: {perimeter_polygon1}\", \"\\n\")\n",
    "print(f\"Perimeter of polygon2: {perimeter_polygon2}\", \"\\n\")\n",
    "print(f\"Combined perimeter: {perimeter_polygon1 + perimeter_polygon2}\")"
   ]
  },
  {
   "cell_type": "code",
   "execution_count": 19,
   "id": "interim-dietary",
   "metadata": {},
   "outputs": [
    {
     "name": "stdout",
     "output_type": "stream",
     "text": [
      "Perimeter of the multipolygon: 12.019764837837084 \n",
      "\n"
     ]
    }
   ],
   "source": [
    "# Compute the perimeter of the multipolygon\n",
    "perimeter_multipolygon = multipolygon.length\n",
    "\n",
    "# Print the perimeter  of the multipolygon\n",
    "print(f\"Perimeter of the multipolygon: {perimeter_multipolygon}\", \"\\n\")"
   ]
  },
  {
   "cell_type": "code",
   "execution_count": 20,
   "id": "voluntary-raising",
   "metadata": {},
   "outputs": [
    {
     "name": "stdout",
     "output_type": "stream",
     "text": [
      "Perimeter of the unified polygon: 10.019764837837085 \n",
      "\n"
     ]
    }
   ],
   "source": [
    "# Compute the perimeter of the joint polygon\n",
    "perimeter_polygon = polygon.length\n",
    "\n",
    "# Print the perimeter  of the joint polygon\n",
    "print(f\"Perimeter of the unified polygon: {perimeter_polygon}\", \"\\n\")"
   ]
  },
  {
   "cell_type": "markdown",
   "id": "downtown-louisville",
   "metadata": {},
   "source": [
    "Here, we can see again that the multipolgon's perimeter is the same as the sum of the individual polygons' perimeters. However, when we take the union, the touching edge of the two triangles will be dissolved. Hence, the resulting polygon will have a shorter perimeter than the two individual polygons combined with the union operation."
   ]
  },
  {
   "cell_type": "markdown",
   "id": "rough-trunk",
   "metadata": {},
   "source": [
    "### 7. Computing Centroids\n",
    "\n",
    "The centroid of a geometry is the geometric center or the \"center of mass\" of that shape. For simple geometries like points, lines, and polygons, the centroid can be thought of as the average position of all the points in the geometry. Hence, a point is its own centroid, while a line's centroid is its midpoint.\n",
    "\n",
    "Compute the centroid of three different geometries and see:\n",
    "- how a point at (0, 0) turns into itself,\n",
    "- how we get the center point of a line connecting (0, 0) and (0, 1), and\n",
    "- how we get the center point for the triangle of (0, 0), (1, 1), and (1, 0)."
   ]
  },
  {
   "cell_type": "code",
   "execution_count": 21,
   "id": "military-kidney",
   "metadata": {},
   "outputs": [
    {
     "name": "stdout",
     "output_type": "stream",
     "text": [
      "Centroid of the point: POINT (0 0) \n",
      "\n"
     ]
    },
    {
     "data": {
      "image/svg+xml": [
       "<svg xmlns=\"http://www.w3.org/2000/svg\" xmlns:xlink=\"http://www.w3.org/1999/xlink\" width=\"100.0\" height=\"100.0\" viewBox=\"-1.0 -1.0 2.0 2.0\" preserveAspectRatio=\"xMinYMin meet\"><g transform=\"matrix(1,0,0,-1,0,0.0)\"><circle cx=\"0.0\" cy=\"0.0\" r=\"0.06\" stroke=\"#555555\" stroke-width=\"0.02\" fill=\"#66cc99\" opacity=\"0.6\" /></g></svg>"
      ],
      "text/plain": [
       "<POINT (0 0)>"
      ]
     },
     "execution_count": 21,
     "metadata": {},
     "output_type": "execute_result"
    }
   ],
   "source": [
    "# Import the Point constructor from Shapely\n",
    "from shapely.geometry import Point\n",
    "\n",
    "# Create a point\n",
    "point = Point(0, 0)\n",
    "\n",
    "# Compute the centroid of the point\n",
    "centroid = point.centroid\n",
    "\n",
    "# Print and show the centroid\n",
    "print(f\"Centroid of the point: {centroid}\", \"\\n\")\n",
    "centroid"
   ]
  },
  {
   "cell_type": "code",
   "execution_count": 22,
   "id": "civil-television",
   "metadata": {},
   "outputs": [
    {
     "name": "stdout",
     "output_type": "stream",
     "text": [
      "Centroid of the line: POINT (0 0.5) \n",
      "\n"
     ]
    },
    {
     "data": {
      "image/svg+xml": [
       "<svg xmlns=\"http://www.w3.org/2000/svg\" xmlns:xlink=\"http://www.w3.org/1999/xlink\" width=\"100.0\" height=\"100.0\" viewBox=\"-1.0 -0.5 2.0 2.0\" preserveAspectRatio=\"xMinYMin meet\"><g transform=\"matrix(1,0,0,-1,0,1.0)\"><circle cx=\"0.0\" cy=\"0.5\" r=\"0.06\" stroke=\"#555555\" stroke-width=\"0.02\" fill=\"#66cc99\" opacity=\"0.6\" /></g></svg>"
      ],
      "text/plain": [
       "<POINT (0 0.5)>"
      ]
     },
     "execution_count": 22,
     "metadata": {},
     "output_type": "execute_result"
    }
   ],
   "source": [
    "# Import the LineString constructor from Shapely\n",
    "from shapely.geometry import LineString\n",
    "\n",
    "# Create a line\n",
    "line = LineString([(0, 0), (0, 1)])\n",
    "\n",
    "# Compute the centroid of the line\n",
    "centroid = line.centroid\n",
    "\n",
    "# Print and show the centroid\n",
    "print(f\"Centroid of the line: {centroid}\", \"\\n\")\n",
    "centroid"
   ]
  },
  {
   "cell_type": "code",
   "execution_count": 23,
   "id": "acting-ridge",
   "metadata": {},
   "outputs": [
    {
     "name": "stdout",
     "output_type": "stream",
     "text": [
      "Centroid of the polygon: POINT (0.6666666666666666 0.3333333333333333) \n",
      "\n"
     ]
    },
    {
     "data": {
      "image/svg+xml": [
       "<svg xmlns=\"http://www.w3.org/2000/svg\" xmlns:xlink=\"http://www.w3.org/1999/xlink\" width=\"100.0\" height=\"100.0\" viewBox=\"-0.33333333333333337 -0.6666666666666667 2.0 2.0\" preserveAspectRatio=\"xMinYMin meet\"><g transform=\"matrix(1,0,0,-1,0,0.6666666666666665)\"><circle cx=\"0.6666666666666666\" cy=\"0.3333333333333333\" r=\"0.06\" stroke=\"#555555\" stroke-width=\"0.02\" fill=\"#66cc99\" opacity=\"0.6\" /></g></svg>"
      ],
      "text/plain": [
       "<POINT (0.7 0.3)>"
      ]
     },
     "execution_count": 23,
     "metadata": {},
     "output_type": "execute_result"
    }
   ],
   "source": [
    "# Import the Polygon constructor from Shapely\n",
    "from shapely.geometry import Polygon\n",
    "\n",
    "# Create a polygon from a series of points\n",
    "polygon = Polygon([(0, 0), (1, 1), (1, 0)])\n",
    "\n",
    "# Compute the centroid of the polygon\n",
    "centroid = polygon.centroid\n",
    "\n",
    "# Print and show the centroid\n",
    "print(f\"Centroid of the polygon: {centroid}\", \"\\n\")\n",
    "centroid"
   ]
  },
  {
   "cell_type": "markdown",
   "id": "hindu-daughter",
   "metadata": {},
   "source": [
    "### 8. Enclosing Polygons\n",
    "\n",
    "\n",
    "Enclosing polygons are geometries that completely contain another geometry and represent simplified or generalized versions of the original shape. Shapely provides two primary methods for creating enclosing polygons from existing geometries: the `envelope` and the `convex_hull` methods.\n",
    "\n",
    "#### Envelope\n",
    "\n",
    "The `envelope` of a geometry is the smallest rectangle (aligned with the coordinate axes) that completely contains the geometry. In this example, we create a concave polygon and first draw its enclosing envelope, which, as expected, is a rectangle covering the polygon in each direction."
   ]
  },
  {
   "cell_type": "code",
   "execution_count": 24,
   "id": "mechanical-plate",
   "metadata": {},
   "outputs": [
    {
     "name": "stdout",
     "output_type": "stream",
     "text": [
      "The polygon: POLYGON ((-1 1, 0 0, 1 1, 1 0, 0.5 0.5, 0 2, -1 1)) \n",
      "\n",
      "Area of the polygon: 1.25 \n",
      "\n"
     ]
    },
    {
     "data": {
      "image/svg+xml": [
       "<svg xmlns=\"http://www.w3.org/2000/svg\" xmlns:xlink=\"http://www.w3.org/1999/xlink\" width=\"100.0\" height=\"100.0\" viewBox=\"-1.08 -0.08 2.16 2.16\" preserveAspectRatio=\"xMinYMin meet\"><g transform=\"matrix(1,0,0,-1,0,2.0)\"><path fill-rule=\"evenodd\" fill=\"#ff3333\" stroke=\"#555555\" stroke-width=\"0.0432\" opacity=\"0.6\" d=\"M -1.0,1.0 L 0.0,0.0 L 1.0,1.0 L 1.0,0.0 L 0.5,0.5 L 0.0,2.0 L -1.0,1.0 z\" /></g></svg>"
      ],
      "text/plain": [
       "<POLYGON ((-1 1, 0 0, 1 1, 1 0, 0.5 0.5, 0 2, -1 1))>"
      ]
     },
     "execution_count": 24,
     "metadata": {},
     "output_type": "execute_result"
    }
   ],
   "source": [
    "# Import the Polygon constructor from Shapely\n",
    "from shapely.geometry import Polygon\n",
    "\n",
    "# Create a polygon from a series of points\n",
    "polygon = Polygon([(-1, 1), (0, 0), (1, 1), (1, 0), (0.5, 0.5), (0, 2)])\n",
    "print(f\"The polygon: {polygon}\", \"\\n\")\n",
    "print(f\"Area of the polygon: {polygon.area}\", \"\\n\")\n",
    "\n",
    "polygon"
   ]
  },
  {
   "cell_type": "code",
   "execution_count": 25,
   "id": "short-engagement",
   "metadata": {},
   "outputs": [
    {
     "name": "stdout",
     "output_type": "stream",
     "text": [
      "Envelope of the polygon: POLYGON ((-1 0, 1 0, 1 2, -1 2, -1 0)) \n",
      "\n",
      "Area of the envelope: 4.0 \n",
      "\n"
     ]
    },
    {
     "data": {
      "image/svg+xml": [
       "<svg xmlns=\"http://www.w3.org/2000/svg\" xmlns:xlink=\"http://www.w3.org/1999/xlink\" width=\"100.0\" height=\"100.0\" viewBox=\"-1.08 -0.08 2.16 2.16\" preserveAspectRatio=\"xMinYMin meet\"><g transform=\"matrix(1,0,0,-1,0,2.0)\"><path fill-rule=\"evenodd\" fill=\"#66cc99\" stroke=\"#555555\" stroke-width=\"0.0432\" opacity=\"0.6\" d=\"M -1.0,0.0 L 1.0,0.0 L 1.0,2.0 L -1.0,2.0 L -1.0,0.0 z\" /></g></svg>"
      ],
      "text/plain": [
       "<POLYGON ((-1 0, 1 0, 1 2, -1 2, -1 0))>"
      ]
     },
     "execution_count": 25,
     "metadata": {},
     "output_type": "execute_result"
    }
   ],
   "source": [
    "# Compute the envelope (bounding box) of the polygon\n",
    "envelope = polygon.envelope\n",
    "print(f\"Envelope of the polygon: {envelope}\", \"\\n\")\n",
    "print(f\"Area of the envelope: {envelope.area}\", \"\\n\")\n",
    "\n",
    "envelope"
   ]
  },
  {
   "cell_type": "markdown",
   "id": "round-charm",
   "metadata": {},
   "source": [
    "#### Convex Hull\n",
    "\n",
    "The `convex_hull` of a geometry is the smallest convex polygon that can completely contain the geometry. It can be visualized as the shape formed by stretching a rubber band around the outermost points of the geometry. The code below shows how to obtain the convex hull of a polygon, which, in turn, is a convex polygon that follows the outline of the original one."
   ]
  },
  {
   "cell_type": "code",
   "execution_count": 26,
   "id": "purple-majority",
   "metadata": {
    "scrolled": true
   },
   "outputs": [
    {
     "name": "stdout",
     "output_type": "stream",
     "text": [
      "Convex hull of the polygon: POLYGON ((0 0, -1 1, 0 2, 1 1, 1 0, 0 0)) \n",
      "\n",
      "Area of the convex hull: 2.5 \n",
      "\n"
     ]
    },
    {
     "data": {
      "image/svg+xml": [
       "<svg xmlns=\"http://www.w3.org/2000/svg\" xmlns:xlink=\"http://www.w3.org/1999/xlink\" width=\"100.0\" height=\"100.0\" viewBox=\"-1.08 -0.08 2.16 2.16\" preserveAspectRatio=\"xMinYMin meet\"><g transform=\"matrix(1,0,0,-1,0,2.0)\"><path fill-rule=\"evenodd\" fill=\"#66cc99\" stroke=\"#555555\" stroke-width=\"0.0432\" opacity=\"0.6\" d=\"M 0.0,0.0 L -1.0,1.0 L 0.0,2.0 L 1.0,1.0 L 1.0,0.0 L 0.0,0.0 z\" /></g></svg>"
      ],
      "text/plain": [
       "<POLYGON ((0 0, -1 1, 0 2, 1 1, 1 0, 0 0))>"
      ]
     },
     "execution_count": 26,
     "metadata": {},
     "output_type": "execute_result"
    }
   ],
   "source": [
    "# Compute the convex hull of the polygon\n",
    "convex_hull = polygon.convex_hull\n",
    "print(f\"Convex hull of the polygon: {convex_hull}\", \"\\n\")\n",
    "print(f\"Area of the convex hull: {convex_hull.area}\", \"\\n\")\n",
    "\n",
    "convex_hull"
   ]
  },
  {
   "cell_type": "markdown",
   "id": "drawn-parent",
   "metadata": {},
   "source": [
    "Above, we also printed the area of each geometry to illustrate how the envelope and the convex hull alter the original shape. As expected, the total area of the original polygon is the smallest, followed by the convex hull, while the envelope is the largest one."
   ]
  },
  {
   "cell_type": "markdown",
   "id": "floating-wrong",
   "metadata": {},
   "source": [
    "### 9. Creating a Bounding Box\n",
    "\n",
    "\n",
    "A **bounding box** is a rectangular box that completely contains a geometry or a set of geometries. At first, it looks very similar to the concept of an envelope. However, a bounding box is defined by its minimum and maximum x and y coordinates (`minx`, `miny`, `maxx`, `maxy`) instead of a seed geometry object. \n",
    "\n",
    "Bounding boxes are useful for:\n",
    "- spatial indexing,\n",
    "- quick overlap checks, and\n",
    "- defining the extent of a spatial dataset.\n",
    "\n",
    "In geospatial data science, bounding boxes are often used to quickly determine if objects are likely to intersect or to limit the scope of spatial queries.\n",
    "\n",
    "Shapely provides a convenient way to create bounding boxes using the `box` constructor. In this example, we create a rectangular bounding box with a lower left corner at the (0, 0) point and an upper right point at the (1, 2) point."
   ]
  },
  {
   "cell_type": "code",
   "execution_count": 27,
   "id": "tamil-interval",
   "metadata": {
    "scrolled": true
   },
   "outputs": [
    {
     "name": "stdout",
     "output_type": "stream",
     "text": [
      "Type of bbox: <class 'shapely.geometry.polygon.Polygon'> \n",
      "\n",
      "POLYGON ((1 0, 1 2, 0 2, 0 0, 1 0)) \n",
      "\n"
     ]
    },
    {
     "data": {
      "image/svg+xml": [
       "<svg xmlns=\"http://www.w3.org/2000/svg\" xmlns:xlink=\"http://www.w3.org/1999/xlink\" width=\"100.0\" height=\"100.0\" viewBox=\"-0.08 -0.08 1.1600000000000001 2.16\" preserveAspectRatio=\"xMinYMin meet\"><g transform=\"matrix(1,0,0,-1,0,2.0)\"><path fill-rule=\"evenodd\" fill=\"#66cc99\" stroke=\"#555555\" stroke-width=\"0.0432\" opacity=\"0.6\" d=\"M 1.0,0.0 L 1.0,2.0 L 0.0,2.0 L 0.0,0.0 L 1.0,0.0 z\" /></g></svg>"
      ],
      "text/plain": [
       "<POLYGON ((1 0, 1 2, 0 2, 0 0, 1 0))>"
      ]
     },
     "execution_count": 27,
     "metadata": {},
     "output_type": "execute_result"
    }
   ],
   "source": [
    "# Import the box constructor from Shapely\n",
    "from shapely.geometry import box\n",
    "\n",
    "# Create a bounding box with specified min and max coordinates\n",
    "bbox = box(minx=0, miny=0, maxx=1, maxy=2)\n",
    "\n",
    "# Print the type of the bounding box to confirm its creation\n",
    "print(f\"Type of bbox: {type(bbox)}\", \"\\n\")\n",
    "\n",
    "# Print and show the bounding box\n",
    "print(bbox, \"\\n\")\n",
    "bbox"
   ]
  },
  {
   "cell_type": "markdown",
   "id": "random-broadcast",
   "metadata": {},
   "source": [
    "### 10. Within-test\n",
    "\n",
    "\n",
    "The **within-test** is a spatial operation that determines if a geometry is completely inside another geometry. This operation is essential for spatial analysis tasks such as: \n",
    "- containment checks,\n",
    "- identifying if a point lies within a specific region, or\n",
    "- determining spatial relationships between different geometries. \n",
    "\n",
    "Shapely provides the `within` method to perform this test easily, which we now use to test whether a point at the origin is within a circle that was drawn around the origin with a radius of one and to test if it is within a circle drawn around the (3, 3) point with a unit radius.\n"
   ]
  },
  {
   "cell_type": "code",
   "execution_count": 28,
   "id": "rational-trailer",
   "metadata": {},
   "outputs": [
    {
     "name": "stdout",
     "output_type": "stream",
     "text": [
      "Point is within polygon_1: True \n",
      "\n",
      "Point is within polygon_2: False \n",
      "\n"
     ]
    },
    {
     "data": {
      "image/svg+xml": [
       "<svg xmlns=\"http://www.w3.org/2000/svg\" xmlns:xlink=\"http://www.w3.org/1999/xlink\" width=\"100.0\" height=\"100.0\" viewBox=\"-0.16 -0.16 4.32 4.32\" preserveAspectRatio=\"xMinYMin meet\"><g transform=\"matrix(1,0,0,-1,0,4.0)\"><g><circle cx=\"0.0\" cy=\"0.0\" r=\"0.1296\" stroke=\"#555555\" stroke-width=\"0.0432\" fill=\"#66cc99\" opacity=\"0.6\" /><path fill-rule=\"evenodd\" fill=\"#66cc99\" stroke=\"#555555\" stroke-width=\"0.0864\" opacity=\"0.6\" d=\"M 4.0,3.0 L 3.995184726672197,2.9019828596704396 L 3.9807852804032304,2.8049096779838716 L 3.9569403357322086,2.7097153227455375 L 3.923879532511287,2.6173165676349104 L 3.881921264348355,2.5286032631740025 L 3.8314696123025453,2.444429766980398 L 3.773010453362737,2.3656067158363543 L 3.7071067811865475,2.2928932188134525 L 3.6343932841636457,2.226989546637263 L 3.555570233019602,2.1685303876974547 L 3.471396736825998,2.118078735651645 L 3.3826834323650896,2.076120467488713 L 3.2902846772544625,2.0430596642677914 L 3.1950903220161284,2.0192147195967696 L 3.098017140329561,2.0048152733278033 L 3.0,2.0 L 2.9019828596704396,2.004815273327803 L 2.804909677983872,2.0192147195967696 L 2.709715322745538,2.043059664267791 L 2.6173165676349104,2.076120467488713 L 2.528603263174002,2.118078735651645 L 2.444429766980398,2.1685303876974547 L 2.3656067158363547,2.226989546637263 L 2.2928932188134525,2.2928932188134525 L 2.226989546637263,2.3656067158363543 L 2.1685303876974547,2.444429766980398 L 2.118078735651645,2.528603263174002 L 2.076120467488713,2.61731656763491 L 2.0430596642677914,2.7097153227455375 L 2.0192147195967696,2.8049096779838716 L 2.0048152733278033,2.901982859670439 L 2.0,3.0 L 2.004815273327803,3.0980171403295604 L 2.0192147195967696,3.1950903220161284 L 2.043059664267791,3.290284677254462 L 2.076120467488713,3.3826834323650896 L 2.118078735651645,3.4713967368259975 L 2.1685303876974547,3.555570233019602 L 2.226989546637263,3.6343932841636453 L 2.292893218813452,3.7071067811865475 L 2.3656067158363543,3.773010453362737 L 2.444429766980398,3.8314696123025453 L 2.528603263174002,3.881921264348355 L 2.6173165676349095,3.9238795325112865 L 2.7097153227455375,3.9569403357322086 L 2.804909677983871,3.9807852804032304 L 2.9019828596704396,3.995184726672197 L 3.0,4.0 L 3.09801714032956,3.995184726672197 L 3.1950903220161284,3.9807852804032304 L 3.290284677254462,3.956940335732209 L 3.38268343236509,3.9238795325112865 L 3.4713967368259975,3.881921264348355 L 3.5555702330196017,3.8314696123025453 L 3.6343932841636457,3.773010453362737 L 3.7071067811865475,3.707106781186548 L 3.773010453362737,3.6343932841636457 L 3.8314696123025453,3.555570233019602 L 3.881921264348355,3.471396736825998 L 3.9238795325112865,3.3826834323650905 L 3.9569403357322086,3.2902846772544625 L 3.9807852804032304,3.195090322016129 L 3.995184726672197,3.0980171403295604 L 4.0,3.0 z\" /></g></g></svg>"
      ],
      "text/plain": [
       "<GEOMETRYCOLLECTION (POINT (0 0), POLYGON ((4 3, 3.995 2.902, 3.981 2.805, 3...>"
      ]
     },
     "execution_count": 28,
     "metadata": {},
     "output_type": "execute_result"
    }
   ],
   "source": [
    "# Import the Point constructor from Shapely\n",
    "from shapely.geometry import Point\n",
    "\n",
    "# Create a point at coordinates (0, 0)\n",
    "point = Point(0, 0)\n",
    "\n",
    "# Create two polygons by buffering points (creating circles) \n",
    "# with a radius of 1 unit\n",
    "polygon_1 = Point(0, 0).buffer(1)\n",
    "polygon_2 = Point(3, 3).buffer(1)\n",
    "\n",
    "# Check if the point is within polygon_1 and print the result\n",
    "is_within_polygon_1 = point.within(polygon_1)\n",
    "print(f\"Point is within polygon_1: {is_within_polygon_1}\", \"\\n\")\n",
    "\n",
    "# Check if the point is within polygon_2 and print the result\n",
    "is_within_polygon_2 = point.within(polygon_2)\n",
    "print(f\"Point is within polygon_2: {is_within_polygon_2}\", \"\\n\")\n",
    "\n",
    "# Show the original point and the second polygon together\n",
    "point.union(polygon_2)"
   ]
  },
  {
   "cell_type": "markdown",
   "id": "christian-unknown",
   "metadata": {},
   "source": [
    "As the first polygon was a circle centered around the original point, it contains that point. However, as the second polygon is a circle with a radius of one and an origin at (3, 3), it does not contain the original point. We illustrate this by showing the joint geometry of the original point and the second circle, which shows how far they are from each other."
   ]
  },
  {
   "cell_type": "markdown",
   "id": "dedicated-norwegian",
   "metadata": {},
   "source": [
    "### 11. Distance Calculation\n",
    "\n",
    "**Distance calculation** is a fundamental operation in geospatial analysis, allowing us to measure the separation between two geometric objects. This operation can be used to:\n",
    "- determine the proximity of features,\n",
    "- analyze spatial relationships, and\n",
    "- perform various spatial queries. \n",
    "\n",
    "Shapely provides the `distance` method to compute the distances between different types of geometries, such as points, lines, and polygons. In  order:\n",
    "\n",
    "- compute the distance between two points,\n",
    "- then the distance between a point and a polygon, and\n",
    "- then the distance between two polygons drawn around the initial points.\n",
    "\n",
    "Visualize these geometries by first combining them using the union command and then simply outputting them with their respective code sales."
   ]
  },
  {
   "cell_type": "code",
   "execution_count": 29,
   "id": "collective-worker",
   "metadata": {},
   "outputs": [
    {
     "data": {
      "image/svg+xml": [
       "<svg xmlns=\"http://www.w3.org/2000/svg\" xmlns:xlink=\"http://www.w3.org/1999/xlink\" width=\"100.0\" height=\"100.0\" viewBox=\"-0.04 -0.04 0.08 1.08\" preserveAspectRatio=\"xMinYMin meet\"><g transform=\"matrix(1,0,0,-1,0,1.0)\"><g><circle cx=\"0.0\" cy=\"0.0\" r=\"0.0324\" stroke=\"#555555\" stroke-width=\"0.0108\" fill=\"#66cc99\" opacity=\"0.6\" /><circle cx=\"0.0\" cy=\"1.0\" r=\"0.0324\" stroke=\"#555555\" stroke-width=\"0.0108\" fill=\"#66cc99\" opacity=\"0.6\" /></g></g></svg>"
      ],
      "text/plain": [
       "<MULTIPOINT ((0 0), (0 1))>"
      ]
     },
     "execution_count": 29,
     "metadata": {},
     "output_type": "execute_result"
    }
   ],
   "source": [
    "# Import the Point constructor from Shapely\n",
    "from shapely.geometry import Point\n",
    "\n",
    "# Create two points at coordinates (0, 0) and (0, 1)\n",
    "point_1 = Point(0, 0)\n",
    "point_2 = Point(0, 1)\n",
    "\n",
    "# Showing the two points on the cell's output\n",
    "point_1.union(point_2)"
   ]
  },
  {
   "cell_type": "code",
   "execution_count": 30,
   "id": "freelance-assignment",
   "metadata": {},
   "outputs": [
    {
     "name": "stdout",
     "output_type": "stream",
     "text": [
      "Distance between POINT (0 0) and POINT (0 1): 1.0 \n",
      "\n"
     ]
    }
   ],
   "source": [
    "# Calculate and print the distance between the two points\n",
    "distance_points = point_1.distance(point_2)\n",
    "print(f\"Distance between {point_1} and {point_2}: {distance_points}\", \"\\n\")"
   ]
  },
  {
   "cell_type": "code",
   "execution_count": 31,
   "id": "aware-adelaide",
   "metadata": {},
   "outputs": [
    {
     "name": "stdout",
     "output_type": "stream",
     "text": [
      "Distance from the edge of circle_1 to point_2:     0.5 \n",
      "\n"
     ]
    },
    {
     "data": {
      "image/svg+xml": [
       "<svg xmlns=\"http://www.w3.org/2000/svg\" xmlns:xlink=\"http://www.w3.org/1999/xlink\" width=\"100.0\" height=\"100.0\" viewBox=\"-0.56 -0.56 1.12 1.62\" preserveAspectRatio=\"xMinYMin meet\"><g transform=\"matrix(1,0,0,-1,0,0.5)\"><g><path fill-rule=\"evenodd\" fill=\"#66cc99\" stroke=\"#555555\" stroke-width=\"0.032400000000000005\" opacity=\"0.6\" d=\"M 0.5,0.0 L 0.49759236333609846,-0.0490085701647803 L 0.4903926402016152,-0.09754516100806412 L 0.4784701678661044,-0.14514233862723117 L 0.46193976625564337,-0.1913417161825449 L 0.4409606321741775,-0.23569836841299882 L 0.4157348061512726,-0.2777851165098011 L 0.3865052266813685,-0.31719664208182274 L 0.3535533905932738,-0.35355339059327373 L 0.31719664208182274,-0.3865052266813685 L 0.27778511650980114,-0.4157348061512726 L 0.2356983684129989,-0.44096063217417747 L 0.19134171618254492,-0.46193976625564337 L 0.14514233862723117,-0.4784701678661044 L 0.09754516100806417,-0.4903926402016152 L 0.049008570164780385,-0.4975923633360984 L 0.0,-0.5 L -0.04900857016478032,-0.49759236333609846 L -0.0975451610080641,-0.4903926402016152 L -0.14514233862723108,-0.47847016786610447 L -0.19134171618254486,-0.46193976625564337 L -0.23569836841299885,-0.4409606321741775 L -0.277785116509801,-0.4157348061512727 L -0.3171966420818227,-0.38650522668136855 L -0.35355339059327373,-0.3535533905932738 L -0.3865052266813685,-0.31719664208182274 L -0.4157348061512727,-0.2777851165098011 L -0.44096063217417747,-0.23569836841299893 L -0.46193976625564337,-0.19134171618254495 L -0.4784701678661044,-0.1451423386272312 L -0.4903926402016152,-0.0975451610080643 L -0.4975923633360984,-0.04900857016478041 L -0.5,0.0 L -0.49759236333609846,0.049008570164780295 L -0.4903926402016152,0.09754516100806418 L -0.47847016786610447,0.14514233862723105 L -0.4619397662556434,0.19134171618254484 L -0.4409606321741775,0.23569836841299882 L -0.41573480615127273,0.277785116509801 L -0.38650522668136855,0.31719664208182263 L -0.35355339059327384,0.35355339059327373 L -0.3171966420818229,0.38650522668136833 L -0.2777851165098011,0.4157348061512726 L -0.23569836841299896,0.44096063217417747 L -0.19134171618254517,0.46193976625564326 L -0.14514233862723122,0.4784701678661044 L -0.09754516100806433,0.49039264020161516 L -0.049008570164780225,0.49759236333609846 L 0.0,0.5 L 0.049008570164780045,0.49759236333609846 L 0.09754516100806415,0.4903926402016152 L 0.14514233862723103,0.47847016786610447 L 0.191341716182545,0.4619397662556433 L 0.2356983684129988,0.4409606321741775 L 0.2777851165098009,0.41573480615127273 L 0.3171966420818228,0.38650522668136844 L 0.3535533905932737,0.35355339059327384 L 0.38650522668136833,0.31719664208182297 L 0.4157348061512726,0.2777851165098011 L 0.4409606321741774,0.235698368412999 L 0.46193976625564326,0.1913417161825452 L 0.4784701678661044,0.14514233862723125 L 0.49039264020161516,0.09754516100806436 L 0.49759236333609846,0.04900857016478025 L 0.5,0.0 z\" /><circle cx=\"0.0\" cy=\"1.0\" r=\"0.048600000000000004\" stroke=\"#555555\" stroke-width=\"0.016200000000000003\" fill=\"#66cc99\" opacity=\"0.6\" /></g></g></svg>"
      ],
      "text/plain": [
       "<GEOMETRYCOLLECTION (POLYGON ((0.5 0, 0.5 -0.05, 0.5 -0.1, 0.5 -0.1, 0.5 -0....>"
      ]
     },
     "execution_count": 31,
     "metadata": {},
     "output_type": "execute_result"
    }
   ],
   "source": [
    "# Create buffers (circles) around the two points with a radius of 0.5 units\n",
    "circle_1 = point_1.buffer(0.5)\n",
    "circle_2 = point_2.buffer(0.25)\n",
    "\n",
    "# Calculate and print the distance from the edge of circle_1 to point_2\n",
    "distance_circle_to_point = circle_1.distance(point_2)\n",
    "print(f\"Distance from the edge of circle_1 to point_2: \\\n",
    "    {distance_circle_to_point}\", \"\\n\")\n",
    "\n",
    "# Showing  circle_1 and point_1\n",
    "circle_1.union(point_2)"
   ]
  },
  {
   "cell_type": "code",
   "execution_count": 32,
   "id": "expected-membership",
   "metadata": {},
   "outputs": [
    {
     "name": "stdout",
     "output_type": "stream",
     "text": [
      "Distance between the edges of circle_1 and circle_2:     0.25 \n",
      "\n"
     ]
    },
    {
     "data": {
      "image/svg+xml": [
       "<svg xmlns=\"http://www.w3.org/2000/svg\" xmlns:xlink=\"http://www.w3.org/1999/xlink\" width=\"100.0\" height=\"100.0\" viewBox=\"-0.5700000000000001 -0.5700000000000001 1.1400000000000001 1.8900000000000001\" preserveAspectRatio=\"xMinYMin meet\"><g transform=\"matrix(1,0,0,-1,0,0.75)\"><g><path fill-rule=\"evenodd\" fill=\"#66cc99\" stroke=\"#555555\" stroke-width=\"0.0378\" opacity=\"0.6\" d=\"M 0.5,0.0 L 0.49759236333609846,-0.0490085701647803 L 0.4903926402016152,-0.09754516100806412 L 0.4784701678661044,-0.14514233862723117 L 0.46193976625564337,-0.1913417161825449 L 0.4409606321741775,-0.23569836841299882 L 0.4157348061512726,-0.2777851165098011 L 0.3865052266813685,-0.31719664208182274 L 0.3535533905932738,-0.35355339059327373 L 0.31719664208182274,-0.3865052266813685 L 0.27778511650980114,-0.4157348061512726 L 0.2356983684129989,-0.44096063217417747 L 0.19134171618254492,-0.46193976625564337 L 0.14514233862723117,-0.4784701678661044 L 0.09754516100806417,-0.4903926402016152 L 0.049008570164780385,-0.4975923633360984 L 0.0,-0.5 L -0.04900857016478032,-0.49759236333609846 L -0.0975451610080641,-0.4903926402016152 L -0.14514233862723108,-0.47847016786610447 L -0.19134171618254486,-0.46193976625564337 L -0.23569836841299885,-0.4409606321741775 L -0.277785116509801,-0.4157348061512727 L -0.3171966420818227,-0.38650522668136855 L -0.35355339059327373,-0.3535533905932738 L -0.3865052266813685,-0.31719664208182274 L -0.4157348061512727,-0.2777851165098011 L -0.44096063217417747,-0.23569836841299893 L -0.46193976625564337,-0.19134171618254495 L -0.4784701678661044,-0.1451423386272312 L -0.4903926402016152,-0.0975451610080643 L -0.4975923633360984,-0.04900857016478041 L -0.5,0.0 L -0.49759236333609846,0.049008570164780295 L -0.4903926402016152,0.09754516100806418 L -0.47847016786610447,0.14514233862723105 L -0.4619397662556434,0.19134171618254484 L -0.4409606321741775,0.23569836841299882 L -0.41573480615127273,0.277785116509801 L -0.38650522668136855,0.31719664208182263 L -0.35355339059327384,0.35355339059327373 L -0.3171966420818229,0.38650522668136833 L -0.2777851165098011,0.4157348061512726 L -0.23569836841299896,0.44096063217417747 L -0.19134171618254517,0.46193976625564326 L -0.14514233862723122,0.4784701678661044 L -0.09754516100806433,0.49039264020161516 L -0.049008570164780225,0.49759236333609846 L 0.0,0.5 L 0.049008570164780045,0.49759236333609846 L 0.09754516100806415,0.4903926402016152 L 0.14514233862723103,0.47847016786610447 L 0.191341716182545,0.4619397662556433 L 0.2356983684129988,0.4409606321741775 L 0.2777851165098009,0.41573480615127273 L 0.3171966420818228,0.38650522668136844 L 0.3535533905932737,0.35355339059327384 L 0.38650522668136833,0.31719664208182297 L 0.4157348061512726,0.2777851165098011 L 0.4409606321741774,0.235698368412999 L 0.46193976625564326,0.1913417161825452 L 0.4784701678661044,0.14514233862723125 L 0.49039264020161516,0.09754516100806436 L 0.49759236333609846,0.04900857016478025 L 0.5,0.0 z\" /><path fill-rule=\"evenodd\" fill=\"#66cc99\" stroke=\"#555555\" stroke-width=\"0.0378\" opacity=\"0.6\" d=\"M 0.25,1.0 L 0.24879618166804923,0.9754957149176099 L 0.2451963201008076,0.9512274194959679 L 0.2392350839330522,0.9274288306863844 L 0.23096988312782168,0.9043291419087276 L 0.22048031608708876,0.8821508157935006 L 0.2078674030756363,0.8611074417450995 L 0.19325261334068425,0.8414016789590886 L 0.1767766952966369,0.8232233047033631 L 0.15859832104091137,0.8067473866593158 L 0.13889255825490057,0.7921325969243637 L 0.11784918420649945,0.7795196839129113 L 0.09567085809127246,0.7690301168721783 L 0.07257116931361558,0.7607649160669478 L 0.04877258050403208,0.7548036798991924 L 0.024504285082390193,0.7512038183319508 L 0.0,0.75 L -0.02450428508239016,0.7512038183319507 L -0.04877258050403205,0.7548036798991924 L -0.07257116931361554,0.7607649160669477 L -0.09567085809127243,0.7690301168721783 L -0.11784918420649942,0.7795196839129113 L -0.1388925582549005,0.7921325969243637 L -0.15859832104091134,0.8067473866593158 L -0.17677669529663687,0.8232233047033631 L -0.19325261334068425,0.8414016789590886 L -0.20786740307563634,0.8611074417450995 L -0.22048031608708873,0.8821508157935005 L -0.23096988312782168,0.9043291419087275 L -0.2392350839330522,0.9274288306863844 L -0.2451963201008076,0.9512274194959679 L -0.2487961816680492,0.9754957149176098 L -0.25,1.0 L -0.24879618166804923,1.0245042850823902 L -0.2451963201008076,1.048772580504032 L -0.23923508393305223,1.0725711693136155 L -0.2309698831278217,1.0956708580912724 L -0.22048031608708876,1.1178491842064995 L -0.20786740307563636,1.1388925582549005 L -0.19325261334068428,1.1585983210409112 L -0.17677669529663692,1.176776695296637 L -0.15859832104091146,1.1932526133406842 L -0.13889255825490054,1.2078674030756362 L -0.11784918420649948,1.2204803160870887 L -0.09567085809127258,1.2309698831278215 L -0.07257116931361561,1.2392350839330522 L -0.048772580504032166,1.2451963201008076 L -0.024504285082390113,1.2487961816680493 L 0.0,1.25 L 0.024504285082390023,1.2487961816680493 L 0.048772580504032076,1.2451963201008076 L 0.07257116931361551,1.2392350839330522 L 0.0956708580912725,1.2309698831278217 L 0.1178491842064994,1.2204803160870887 L 0.13889255825490046,1.2078674030756364 L 0.1585983210409114,1.1932526133406842 L 0.17677669529663684,1.176776695296637 L 0.19325261334068417,1.1585983210409114 L 0.2078674030756363,1.1388925582549005 L 0.2204803160870887,1.1178491842064995 L 0.23096988312782163,1.0956708580912726 L 0.2392350839330522,1.0725711693136155 L 0.24519632010080758,1.0487725805040322 L 0.24879618166804923,1.0245042850823902 L 0.25,1.0 z\" /></g></g></svg>"
      ],
      "text/plain": [
       "<MULTIPOLYGON (((0.5 0, 0.5 -0.05, 0.5 -0.1, 0.5 -0.1, 0.5 -0.2, 0.4 -0.2, 0...>"
      ]
     },
     "execution_count": 32,
     "metadata": {},
     "output_type": "execute_result"
    }
   ],
   "source": [
    "# Calculate and print the distance between circle_1 and circle_2\n",
    "distance_circles = circle_1.distance(circle_2)\n",
    "print(f\"Distance between the edges of circle_1 and circle_2: \\\n",
    "    {distance_circles}\", \"\\n\")\n",
    "\n",
    "# Showing the two circles on the cell's output\n",
    "circle_1.union(circle_2)"
   ]
  },
  {
   "cell_type": "markdown",
   "id": "framed-boundary",
   "metadata": {},
   "source": [
    "&nbsp; \n",
    "&nbsp; "
   ]
  },
  {
   "cell_type": "markdown",
   "id": "twenty-gregory",
   "metadata": {},
   "source": [
    "### 12. Simplifying Geometries\n",
    "\n",
    "**Simplifying** a geometry involves reducing the complexity of its shape while retaining its essential form. This process is useful for improving performance during rendering and analysis, especially when working with large or complex shapes. Simplification can help reduce the number of vertices in a geometry, making it easier to process and visualize. \n",
    "\n",
    "Shapely provides the `simplify` method, which allows us to simplify geometries based on a specified tolerance level. The tolerance defines the maximum distance a point on the simplified geometry can deviate from the original geometry.\n",
    "\n",
    "In this example:\n",
    "- create a polygon with a relatively complicated edge line, and\n",
    "- then use two different tolerance parameters of the simplify function to see how the simplification goes.\n",
    "\n",
    "While at the tolerance level of 1, we still have a concave object; tolerance level 5 will close the polygon and simplify it down to four edges.\n"
   ]
  },
  {
   "cell_type": "code",
   "execution_count": 32,
   "id": "international-current",
   "metadata": {},
   "outputs": [
    {
     "name": "stdout",
     "output_type": "stream",
     "text": [
      "Original Polygon: POLYGON ((0 0, 2 1, 4 0, 4 3, 3 4, 1 4, 0 3, 1 1, 3 1, 2 2, 1 2, 0 0)) \n",
      "\n"
     ]
    },
    {
     "data": {
      "image/svg+xml": [
       "<svg xmlns=\"http://www.w3.org/2000/svg\" xmlns:xlink=\"http://www.w3.org/1999/xlink\" width=\"100.0\" height=\"100.0\" viewBox=\"-0.16 -0.16 4.32 4.32\" preserveAspectRatio=\"xMinYMin meet\"><g transform=\"matrix(1,0,0,-1,0,4.0)\"><path fill-rule=\"evenodd\" fill=\"#ff3333\" stroke=\"#555555\" stroke-width=\"0.0864\" opacity=\"0.6\" d=\"M 0.0,0.0 L 2.0,1.0 L 4.0,0.0 L 4.0,3.0 L 3.0,4.0 L 1.0,4.0 L 0.0,3.0 L 1.0,1.0 L 3.0,1.0 L 2.0,2.0 L 1.0,2.0 L 0.0,0.0 z\" /></g></svg>"
      ],
      "text/plain": [
       "<POLYGON ((0 0, 2 1, 4 0, 4 3, 3 4, 1 4, 0 3, 1 1, 3 1, 2 2, 1 2, 0 0))>"
      ]
     },
     "execution_count": 32,
     "metadata": {},
     "output_type": "execute_result"
    }
   ],
   "source": [
    "# Import the Polygon constructor from Shapely\n",
    "from shapely.geometry import Polygon\n",
    "\n",
    "# Define the coordinates for the polygon\n",
    "coords = [(0, 0), (2, 1), (4, 0), (4, 3), (3, 4), (1, 4), \n",
    "          (0, 3), (1, 1), (3, 1), (2, 2), (1, 2), (0, 0)]\n",
    "\n",
    "# Create a polygon from the coordinates\n",
    "polygon = Polygon(coords)\n",
    "\n",
    "# Print and show the original polygon\n",
    "print(f\"Original Polygon: {polygon}\", \"\\n\")\n",
    "polygon"
   ]
  },
  {
   "cell_type": "code",
   "execution_count": 33,
   "id": "attempted-energy",
   "metadata": {},
   "outputs": [
    {
     "name": "stdout",
     "output_type": "stream",
     "text": [
      "Simplified Polygon with tolerance 1: POLYGON ((0 0, 4 0, 4 3, 1 4, 0 3, 1 1, 3 1, 1 2, 0 0)) \n",
      "\n"
     ]
    },
    {
     "data": {
      "image/svg+xml": [
       "<svg xmlns=\"http://www.w3.org/2000/svg\" xmlns:xlink=\"http://www.w3.org/1999/xlink\" width=\"100.0\" height=\"100.0\" viewBox=\"-0.16 -0.16 4.32 4.32\" preserveAspectRatio=\"xMinYMin meet\"><g transform=\"matrix(1,0,0,-1,0,4.0)\"><path fill-rule=\"evenodd\" fill=\"#ff3333\" stroke=\"#555555\" stroke-width=\"0.0864\" opacity=\"0.6\" d=\"M 0.0,0.0 L 4.0,0.0 L 4.0,3.0 L 1.0,4.0 L 0.0,3.0 L 1.0,1.0 L 3.0,1.0 L 1.0,2.0 L 0.0,0.0 z\" /></g></svg>"
      ],
      "text/plain": [
       "<POLYGON ((0 0, 4 0, 4 3, 1 4, 0 3, 1 1, 3 1, 1 2, 0 0))>"
      ]
     },
     "execution_count": 33,
     "metadata": {},
     "output_type": "execute_result"
    }
   ],
   "source": [
    "# Simplify the polygon with a tolerance of 1 unit\n",
    "simplified_polygon_1 = polygon.simplify(1)\n",
    "\n",
    "# Print and show the simplified polygon\n",
    "print(f\"Simplified Polygon with tolerance 1: {simplified_polygon_1}\", \"\\n\")\n",
    "simplified_polygon_1"
   ]
  },
  {
   "cell_type": "code",
   "execution_count": 34,
   "id": "executive-treatment",
   "metadata": {},
   "outputs": [
    {
     "name": "stdout",
     "output_type": "stream",
     "text": [
      "Simplified Polygon with tolerance 5: POLYGON ((1 4, 4 0, 4 3, 1 4)) \n",
      "\n"
     ]
    },
    {
     "data": {
      "image/svg+xml": [
       "<svg xmlns=\"http://www.w3.org/2000/svg\" xmlns:xlink=\"http://www.w3.org/1999/xlink\" width=\"100.0\" height=\"100.0\" viewBox=\"0.84 -0.16 3.3200000000000003 4.32\" preserveAspectRatio=\"xMinYMin meet\"><g transform=\"matrix(1,0,0,-1,0,4.0)\"><path fill-rule=\"evenodd\" fill=\"#66cc99\" stroke=\"#555555\" stroke-width=\"0.0864\" opacity=\"0.6\" d=\"M 1.0,4.0 L 4.0,0.0 L 4.0,3.0 L 1.0,4.0 z\" /></g></svg>"
      ],
      "text/plain": [
       "<POLYGON ((1 4, 4 0, 4 3, 1 4))>"
      ]
     },
     "execution_count": 34,
     "metadata": {},
     "output_type": "execute_result"
    }
   ],
   "source": [
    "# Simplify the polygon with a tolerance of 5 units\n",
    "simplified_polygon_5 = polygon.simplify(5)\n",
    "\n",
    "# Print and show the simplified polygon\n",
    "print(f\"Simplified Polygon with tolerance 5: {simplified_polygon_5}\", \"\\n\")\n",
    "simplified_polygon_5"
   ]
  },
  {
   "cell_type": "markdown",
   "id": "civil-bullet",
   "metadata": {},
   "source": [
    "### Summary on Geometries"
   ]
  },
  {
   "cell_type": "markdown",
   "id": "spectacular-drove",
   "metadata": {},
   "source": [
    "In this notebook, we overviewed the core components that make geospatial data and analytics geospatial - geometries. To that end,\n",
    "- we explored the Python package Shapely and learned how to use it to create basic geometries, such as points, lines and polygons in 2D, though there are also 3D functions;\n",
    "- we learned how to transform and manipulate single and multiple geometries as well as how to calculate the centroid point and various enclosing polygons of a geometry;\n",
    "- finally, we learned about geometric functions as, such as computing distance between geometries. "
   ]
  },
  {
   "cell_type": "markdown",
   "id": "35f23ec8-213f-44cf-9660-6fb7f7d4f244",
   "metadata": {},
   "source": [
    "## Exercises\n",
    "\n",
    "1. Create a diamond-shaped polygon.\n",
    "2. Create 3 overlapping circles.\n",
    "3. Calculate the distances between the 3 circles and draw a triangle connecting their centres."
   ]
  },
  {
   "cell_type": "code",
   "execution_count": null,
   "id": "db9daf89-099d-4f3d-8588-5248dd4f881c",
   "metadata": {},
   "outputs": [],
   "source": []
  }
 ],
 "metadata": {
  "kernelspec": {
   "display_name": "Python 3 (ipykernel)",
   "language": "python",
   "name": "python3"
  },
  "language_info": {
   "codemirror_mode": {
    "name": "ipython",
    "version": 3
   },
   "file_extension": ".py",
   "mimetype": "text/x-python",
   "name": "python",
   "nbconvert_exporter": "python",
   "pygments_lexer": "ipython3",
   "version": "3.13.1"
  }
 },
 "nbformat": 4,
 "nbformat_minor": 5
}
