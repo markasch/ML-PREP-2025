{
 "cells": [
  {
   "cell_type": "markdown",
   "id": "c6f79a44-036f-4f3d-9494-6cd72892a657",
   "metadata": {},
   "source": [
    "# Introduction to Geostatistics - Kriging\n",
    "\n",
    "> conda install -c conda-forge pykrige\n",
    "> \n",
    "> conda install jupyter matplotlib\n",
    "\n",
    "**Note**: `pykrige` should be installed in its own conda environment, since it enforces many downgrades in already installed packages (python, numpy, gstools, pandas, rasterio, etc.), which might create conflicts with other notebooks.\n"
   ]
  },
  {
   "cell_type": "code",
   "execution_count": 8,
   "id": "54997f53-ae74-455f-a043-344dc072223f",
   "metadata": {},
   "outputs": [
    {
     "name": "stdout",
     "output_type": "stream",
     "text": [
      "Adjusting data for anisotropy...\n",
      "Initializing variogram model...\n",
      "Coordinates type: 'euclidean' \n",
      "\n",
      "Using 'linear' Variogram Model\n",
      "Slope: 0.11914486053026137\n",
      "Nugget: 1.5628238242778756e-10 \n",
      "\n",
      "Calculating statistics on variogram model fit...\n",
      "Executing Ordinary Kriging...\n",
      "\n"
     ]
    },
    {
     "data": {
      "image/png": "[encoded data removed]",
      "text/plain": [
       "<Figure size 640x480 with 2 Axes>"
      ]
     },
     "metadata": {},
     "output_type": "display_data"
    }
   ],
   "source": [
    "import matplotlib.pyplot as plt\n",
    "import numpy as np\n",
    "\n",
    "import pykrige.kriging_tools as kt\n",
    "from pykrige.ok import OrdinaryKriging\n",
    "\n",
    "# create a 2D dataset together with the associated x, y grids.\n",
    "data = np.array(\n",
    "    [\n",
    "        [0.3, 1.2, 0.47],\n",
    "        [1.9, 0.6, 0.56],\n",
    "        [1.1, 3.2, 0.74],\n",
    "        [3.3, 4.4, 1.47],\n",
    "        [4.7, 3.8, 1.74],\n",
    "    ]\n",
    ")\n",
    "\n",
    "gridx = np.arange(0.0, 5.5, 0.5)\n",
    "gridy = np.arange(0.0, 5.5, 0.5)\n",
    "\n",
    "# Create the ordinary kriging object with linear variogram model\n",
    "OK = OrdinaryKriging(\n",
    "    data[:, 0],\n",
    "    data[:, 1],\n",
    "    data[:, 2],\n",
    "    variogram_model=\"linear\",\n",
    "    verbose=True,\n",
    "    enable_plotting=False,\n",
    ")\n",
    "\n",
    "z, ss = OK.execute(\"grid\", gridx, gridy)\n",
    "\n",
    "kt.write_asc_grid(gridx, gridy, z, filename=\"output.asc\")\n",
    "plt.imshow(z)\n",
    "plt.colorbar(label='Value')\n",
    "plt.show()"
   ]
  },
  {
   "cell_type": "code",
   "execution_count": 7,
   "id": "59fa6995-5a07-4e93-801f-60e19b7faecc",
   "metadata": {},
   "outputs": [
    {
     "data": {
      "image/png": "[encoded data removed]",
      "text/plain": [
       "<Figure size 640x480 with 2 Axes>"
      ]
     },
     "metadata": {},
     "output_type": "display_data"
    }
   ],
   "source": [
    "plt.imshow(ss)\n",
    "plt.colorbar(label='Error')\n",
    "plt.show()"
   ]
  },
  {
   "cell_type": "markdown",
   "id": "54a2582e-44b6-4ae0-872f-6930571730cb",
   "metadata": {},
   "source": [
    "### Example with gstools and pykrige\n",
    "\n",
    "- GSTools provides finer variogram calculation and modelling.\n",
    "- Pykrige is better for kriging.\n",
    "\n",
    "Combining the two provides both..."
   ]
  },
  {
   "cell_type": "code",
   "execution_count": null,
   "id": "c9f81bed-fe12-448f-9af2-8a9f6c189b5c",
   "metadata": {},
   "outputs": [],
   "source": [
    "from matplotlib import pyplot as plt\n",
    "from pykrige.ok import OrdinaryKriging\n",
    "import gstools as gs\n",
    "import numpy as np\n",
    "\n",
    "x = np.array([-100, 280, -290, 23, 101, 110])\n",
    "y = np.array([54, 100, 590, 470, 200, 25])\n",
    "z = np.array([29.3, 21.0, 19.2, 29.1, 21.9, 23.1])\n",
    "\n",
    "model = gs.Exponential(dim=2)\n",
    "bin_center, gamma = gs.vario_estimate(\n",
    "    pos=[x, y],\n",
    "    field=z,\n",
    "    bin_edges=range(0, 900, 150),\n",
    "    estimator=\"cressie\",\n",
    ")\n",
    "model.fit_variogram(bin_center, gamma)\n",
    "ax = model.plot(x_max=max(bin_center))\n",
    "ax.scatter(bin_center, gamma)\n",
    "\n",
    "Ok = OrdinaryKriging(\n",
    "    x,\n",
    "    y,\n",
    "    z,\n",
    "    variogram_model=model,\n",
    "    verbose=True,\n",
    "    enable_plotting=True\n",
    ")\n",
    "\n",
    "gridx =np.arange(-300, 300, 10, dtype='float64')\n",
    "gridy =np.arange(0,600, 10, dtype='float64')\n",
    "zstar, ss = Ok.execute(\"grid\", gridx, gridy)\n",
    "\n",
    "cax = plt.imshow(zstar, extent=(-300, 300, 0, 600), origin='lower')\n",
    "plt.scatter(x, y, c=z, marker=\".\")\n",
    "cbar = plt.colorbar(cax)\n",
    "plt.title('Test Interpolation')\n",
    "plt.show()"
   ]
  }
 ],
 "metadata": {
  "kernelspec": {
   "display_name": "Python 3 (ipykernel)",
   "language": "python",
   "name": "python3"
  },
  "language_info": {
   "codemirror_mode": {
    "name": "ipython",
    "version": 3
   },
   "file_extension": ".py",
   "mimetype": "text/x-python",
   "name": "python",
   "nbconvert_exporter": "python",
   "pygments_lexer": "ipython3",
   "version": "3.12.8"
  }
 },
 "nbformat": 4,
 "nbformat_minor": 5
}
