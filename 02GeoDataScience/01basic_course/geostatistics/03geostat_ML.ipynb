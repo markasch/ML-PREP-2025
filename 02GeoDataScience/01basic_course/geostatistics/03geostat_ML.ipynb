{
 "cells": [
  {
   "cell_type": "markdown",
   "id": "ef28285f-cae2-4f6b-9823-e63ec9b4d8bd",
   "metadata": {},
   "source": [
    "# Geostatistics and Machine Learning\n",
    "\n",
    "See [Chege](https://medium.com/ai-advances/geostatistics-meets-machine-learning-a-dynamic-duo-4bf03d340d1e)\n",
    "\n",
    "**Requires**: an input dataset `spatial_data.csv` containing geospatila data.\n",
    "\n",
    "**Interest**: clear step-by-step method for Geostat + ML approach..."
   ]
  },
  {
   "cell_type": "code",
   "execution_count": null,
   "id": "835a7cc3-dbbc-48ea-83a1-4c346bf1b1b0",
   "metadata": {},
   "outputs": [],
   "source": [
    "import numpy as np\n",
    "import pandas as pd\n",
    "from sklearn.ensemble import RandomForestRegressor\n",
    "from sklearn.model_selection import train_test_split\n",
    "from sklearn.metrics import mean_squared_error\n",
    "from pykrige.ok import OrdinaryKriging\n",
    "import matplotlib.pyplot as plt\n",
    "\n",
    "# Example Data: Let's assume you have spatial data in a CSV file\n",
    "# with columns: 'longitude', 'latitude', 'value'\n",
    "data = pd.read_csv('spatial_data.csv')\n",
    "\n",
    "# Step 1: Prepare the data\n",
    "X = data[['longitude', 'latitude']].values  # Spatial coordinates\n",
    "y = data['value'].values  # Target variable\n",
    "\n",
    "# Step 2: Fit a variogram model using Ordinary Kriging\n",
    "OK = OrdinaryKriging(\n",
    "    data['longitude'], data['latitude'], data['value'],\n",
    "    variogram_model='gaussian',\n",
    "    verbose=False, enable_plotting=False\n",
    ")\n",
    "\n",
    "# Step 3: Create a grid for predictions (for visualization or further analysis)\n",
    "grid_lon = np.linspace(data['longitude'].min(), data['longitude'].max(), 100)\n",
    "grid_lat = np.linspace(data['latitude'].min(), data['latitude'].max(), 100)\n",
    "grid_lon, grid_lat = np.meshgrid(grid_lon, grid_lat)\n",
    "z, ss = OK.execute('grid', grid_lon, grid_lat)\n",
    "\n",
    "# Optional: Visualize the kriging result (interpolated surface)\n",
    "plt.imshow(z, origin='lower')\n",
    "plt.title('Kriging Interpolated Surface')\n",
    "plt.colorbar(label='Interpolated Value')\n",
    "plt.show()\n",
    "\n",
    "# Step 4: Machine Learning Model (Random Forest)\n",
    "X_train, X_test, y_train, y_test = train_test_split(X, y, test_size=0.2, random_state=42)\n",
    "\n",
    "# Train the Random Forest model\n",
    "rf = RandomForestRegressor(n_estimators=100, random_state=42)\n",
    "rf.fit(X_train, y_train)\n",
    "\n",
    "# Predict and evaluate\n",
    "y_pred = rf.predict(X_test)\n",
    "mse = mean_squared_error(y_test, y_pred)\n",
    "print(f\"Random Forest MSE: {mse}\")\n",
    "\n",
    "# Step 5: Combine variogram features into the model (Advanced)\n",
    "# For simplicity, this example skips this step but you can\n",
    "# create custom features based on variogram results and include them in your ML model\n",
    "\n",
    "# Step 6: Spatial Prediction\n",
    "# Use the trained Random Forest model to predict across a spatial grid\n",
    "spatial_predictions = rf.predict(np.c_[grid_lon.ravel(), grid_lat.ravel()])\n",
    "spatial_predictions = spatial_predictions.reshape(grid_lon.shape)\n",
    "\n",
    "# Optional: Visualize the Random Forest spatial predictions\n",
    "plt.imshow(spatial_predictions, origin='lower', extent=(grid_lon.min(), grid_lon.max(), grid_lat.min(), grid_lat.max()))\n",
    "plt.title('Random Forest Spatial Predictions')\n",
    "plt.colorbar(label='Predicted Value')\n",
    "plt.show()"
   ]
  }
 ],
 "metadata": {
  "kernelspec": {
   "display_name": "Python 3 (ipykernel)",
   "language": "python",
   "name": "python3"
  },
  "language_info": {
   "codemirror_mode": {
    "name": "ipython",
    "version": 3
   },
   "file_extension": ".py",
   "mimetype": "text/x-python",
   "name": "python",
   "nbconvert_exporter": "python",
   "pygments_lexer": "ipython3",
   "version": "3.13.1"
  }
 },
 "nbformat": 4,
 "nbformat_minor": 5
}
