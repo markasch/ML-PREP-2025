{
 "cells": [
  {
   "cell_type": "markdown",
   "id": "347bc0f7-6dbe-454c-a95a-8469d8efe1c2",
   "metadata": {},
   "source": [
    "#  Wavefield Simulations Using SPECFEM\n",
    "## Notebook 2: Forward Simulations — Exercise Solutions\n",
    "\n",
    "- Here we build upon material learned in Notebook 2\n",
    "- This notebook allows Users to play around with their own SPECFEM2D homogeneous halfspace example in an exercise  \n",
    "- **Objective:** Familiarize Users with setting `SOURCE` and `STATION` attributes, adjusting velocity model parameters, and assessing simulation results.\n",
    "- These instructions can be run from inside a Docker container, using Jupyter Lab (see instructions [here](https://github.com/adjtomo/adjdocs/blob/main/readmes/docker_image_install.md)).  \n",
    "\n",
    "-----------\n",
    "\n",
    "**Relevant Links:** \n",
    "- Original Notebook: https://github.com/adjtomo/adjdocs/blob/main/workshops/2024-5-21_scoped_uw/2_forward_simulations.ipynb\n",
    "\n",
    "**Jupyter Quick Tips:**\n",
    "\n",
    "- **Run cells** one-by-one by hitting the $\\blacktriangleright$ button at the top, or by hitting `Shift + Enter`\n",
    "- **Run all cells** by hitting the $\\blacktriangleright\\blacktriangleright$ button at the top, or by running `Run -> Run All Cells`\n",
    "- **Currently running cells** that are still processing will have a `[*]` symbol next to them\n",
    "- **Finished cells** will have a `[1]` symbol next to them. The number inside the brackets represents what order this cell has been run in.\n",
    "- Commands that start with `!` are Bash commands (i.e., commands you would run from the terminal)\n",
    "- Commands that start with `%` are Jupyter Magic commands.\n",
    "- To time a task, put a `%time` before the command (e.g., `%time ! ls`)\n"
   ]
  },
  {
   "cell_type": "code",
   "execution_count": 1,
   "id": "8f91e266-8d06-4ef5-ad68-acf30b1e3c16",
   "metadata": {},
   "outputs": [],
   "source": [
    "# Python packages required for this notebook\n",
    "import numpy as np\n",
    "import matplotlib.pyplot as plt\n",
    "from IPython.display import Image"
   ]
  },
  {
   "cell_type": "markdown",
   "id": "6fcefb08-43e0-4599-b98f-96bdab8e0f24",
   "metadata": {},
   "source": [
    "---------------------\n",
    "## 4) Forward Simulation Exercise\n",
    "\n",
    "- Participants will now be asked to edit simulation parameters to run their own simulation  \n",
    "- Some things that you are asked to try include:\n",
    "    1) Change the parameters of the homogeneous halfspace model defined in the `Par_file` \n",
    "    2) Define a *STATIONS* file with a uniform grid of stations to record synthetics throughout the domain\n",
    "    3) Choose a different source, or increase the energy released by the source (using the moment tensor)\n",
    "    4) Re-run the mesher and solver to get new synthetics\n",
    "    5) Analyze the new results in comparison to the old results\n",
    "- First we set up a working directory for you - here we suppose that you have already performed this step and that jupyter is pointed to this diredtory "
   ]
  },
  {
   "cell_type": "code",
   "execution_count": 2,
   "id": "6b9a5277-4a40-42aa-8fca-9b8046f0e84a",
   "metadata": {},
   "outputs": [
    {
     "name": "stdout",
     "output_type": "stream",
     "text": [
      "\u001b[34mDATA\u001b[m\u001b[m                                 solution_2_forward_simulations.ipynb\n",
      "\u001b[35mbin\u001b[m\u001b[m\n"
     ]
    }
   ],
   "source": [
    "##! rm -rf /home/scoped/work/exercise_1\n",
    "##! mkdir -p /home/scoped/work/exercise_1\n",
    "##%cd /home/scoped/work/exercise_1\n",
    "\n",
    "# Symlink the executables, copy example DATA/, create empty OUTPUT_FILES\n",
    "! ln -s ../../../specfem2d/bin .\n",
    "! cp -r ../../../specfem2d/EXAMPLES/Tape2007/DATA .\n",
    "! mkdir OUTPUT_FILES\n",
    "\n",
    "# Set the Par_file\n",
    "! cp DATA/Par_file_Tape2007_onerec DATA/Par_file\n",
    "\n",
    "! ls"
   ]
  },
  {
   "cell_type": "markdown",
   "id": "8cd26365-87e4-40bd-800f-868afbd69676",
   "metadata": {
    "tags": []
   },
   "source": [
    "#### Task 1: Edit the Velocity Model\n",
    "- Change the velocity model parameters in the homogeneous halfspace model\n",
    "- Remember, the velocity model is defined in the `Par_file`\n",
    "- Try **increasing** seismic velocity (Vp and Vs) by 10\\%\n",
    "- You can use Python, Bash, `seisflows sempar` or a Text Editor to do this  "
   ]
  },
  {
   "cell_type": "code",
   "execution_count": 3,
   "id": "652544c7-a0aa-4865-b55c-e47d879a99d4",
   "metadata": {},
   "outputs": [
    {
     "name": "stdout",
     "output_type": "stream",
     "text": [
      "VELOCITY_MODEL:\n",
      "\n",
      "1 1 2600.d0 5800.d0 3500.0d0 0 0 10.d0 10.d0 0 0 0 0 0 0\n"
     ]
    }
   ],
   "source": [
    "# Figure out current values\n",
    "! seisflows sempar -P DATA/Par_file velocity_model"
   ]
  },
  {
   "cell_type": "code",
   "execution_count": 4,
   "id": "9601785b-282e-4f0d-93e6-a7785c4d24e1",
   "metadata": {},
   "outputs": [
    {
     "name": "stdout",
     "output_type": "stream",
     "text": [
      "vp=6380.00; vs=3850.00\n"
     ]
    }
   ],
   "source": [
    "# Values figured out from the Par_file, increased by 10%\n",
    "vp = 5800. * 1.1\n",
    "vs = 3500. * 1.1\n",
    "\n",
    "print(f\"vp={vp:.2f}; vs={vs:.2f}\")"
   ]
  },
  {
   "cell_type": "code",
   "execution_count": 5,
   "id": "a6a2fbff-96c1-436e-9c9f-5fecf13ec865",
   "metadata": {},
   "outputs": [
    {
     "name": "stdout",
     "output_type": "stream",
     "text": [
      "VELOCITY_MODEL:\n",
      "\n",
      "1 1 2600.d0 5800.d0 3500.0d0 0 0 10.d0 10.d0 0 0 0 0 0 0\n",
      "->\n",
      "1 1 2600.d0 6380.d0 3850.0d0 0 0 10.d0 10.d0 0 0 0 0 0 0\n"
     ]
    }
   ],
   "source": [
    "# Overwrite the current velocity model with a +10% model\n",
    "! seisflows sempar -P DATA/Par_file velocity_model \"1 1 2600.d0 6380.d0 3850.0d0 0 0 10.d0 10.d0 0 0 0 0 0 0\""
   ]
  },
  {
   "cell_type": "markdown",
   "id": "6c61455a-91a7-49fd-a1c4-68da1576bd64",
   "metadata": {},
   "source": [
    "#### Task 2: Create a New STATIONS File\n",
    "- Define a STATIONS file that covers the **entire** domain with a uniform grid spacing of: \n",
    "    - dx = 80km \n",
    "    - dz = 80km\n",
    "    - x_start = 0km\n",
    "    - z_start = 0km\n",
    "- **Or** Create your own station configuration. Some examples: spiral, concentric rings, dense linear array (like DAS)\n",
    "- You can find the X and Z dimensions of the mesh in the `Par_file` and the `interfaces` file, respectively  \n",
    "- Use Python/NumPy to loop values, or simply write out a text file manually with the text editor\n",
    "- *Look* at *DATA/STATIONS_checker* for an example of how the file should look\n",
    "- **NOTE**: The last two columns (burial, elevation) can be set to 0  "
   ]
  },
  {
   "cell_type": "code",
   "execution_count": 6,
   "id": "87933592-9a21-4469-a137-55aba4623735",
   "metadata": {},
   "outputs": [
    {
     "name": "stdout",
     "output_type": "stream",
     "text": [
      "#       To convert one to the other see doc/Qkappa_Qmu_versus_Qp_Qs_relationship_in_2D_plane_strain.pdf and\n",
      "#       utils/attenuation/conversion_from_Qkappa_Qmu_to_Qp_Qs_from_Dahlen_Tromp_959_960.f90.\n",
      "1 1 2600.d0 6380.d0 3850.0d0 0 0 10.d0 10.d0 0 0 0 0 0 0\n"
     ]
    }
   ],
   "source": [
    "# Par_file defines the 'X' dimension of the mesh\n",
    "! head -293 DATA/Par_file | tail -n 3"
   ]
  },
  {
   "cell_type": "code",
   "execution_count": 7,
   "id": "9f410ffc-a8d1-472d-9f35-aca9cbf1d327",
   "metadata": {},
   "outputs": [
    {
     "name": "stdout",
     "output_type": "stream",
     "text": [
      "# number of interfaces\n",
      " 2\n",
      "#\n",
      "# for each interface below, we give the number of points and then x,z for each point\n",
      "#\n",
      "# interface number 1 (bottom of the mesh)\n",
      " 2\n",
      " 0.0 0.0\n",
      " 480000.0 0.0\n",
      "# interface number 5 (topography, top of the mesh)\n",
      " 2\n",
      " 0.0 480000.0\n",
      " 480000.0 480000.0\n",
      "#\n",
      "# for each layer, we give the number of spectral elements in the vertical direction\n",
      "#\n",
      "# layer number 1\n",
      " 40\n"
     ]
    }
   ],
   "source": [
    "# Interfaces defines the 'Z' dimension of the mesh\n",
    "! cat DATA/interfaces_Tape2007.dat"
   ]
  },
  {
   "cell_type": "code",
   "execution_count": 8,
   "id": "aa600cf4-0c81-4cad-acdc-5ab811f7eb47",
   "metadata": {},
   "outputs": [
    {
     "name": "stdout",
     "output_type": "stream",
     "text": [
      "S000000 AA      0.00      0.00 0. 0.\n",
      "S000001 AA      0.00  80000.00 0. 0.\n",
      "S000002 AA      0.00 160000.00 0. 0.\n",
      "S000003 AA      0.00 240000.00 0. 0.\n",
      "S000004 AA      0.00 320000.00 0. 0.\n",
      "S000005 AA      0.00 400000.00 0. 0.\n",
      "S000006 AA      0.00 480000.00 0. 0.\n",
      "S000007 AA  80000.00      0.00 0. 0.\n",
      "S000008 AA  80000.00  80000.00 0. 0.\n",
      "S000009 AA  80000.00 160000.00 0. 0.\n",
      "S000010 AA  80000.00 240000.00 0. 0.\n",
      "S000011 AA  80000.00 320000.00 0. 0.\n",
      "S000012 AA  80000.00 400000.00 0. 0.\n",
      "S000013 AA  80000.00 480000.00 0. 0.\n",
      "S000014 AA 160000.00      0.00 0. 0.\n",
      "S000015 AA 160000.00  80000.00 0. 0.\n",
      "S000016 AA 160000.00 160000.00 0. 0.\n",
      "S000017 AA 160000.00 240000.00 0. 0.\n",
      "S000018 AA 160000.00 320000.00 0. 0.\n",
      "S000019 AA 160000.00 400000.00 0. 0.\n",
      "S000020 AA 160000.00 480000.00 0. 0.\n",
      "S000021 AA 240000.00      0.00 0. 0.\n",
      "S000022 AA 240000.00  80000.00 0. 0.\n",
      "S000023 AA 240000.00 160000.00 0. 0.\n",
      "S000024 AA 240000.00 240000.00 0. 0.\n",
      "S000025 AA 240000.00 320000.00 0. 0.\n",
      "S000026 AA 240000.00 400000.00 0. 0.\n",
      "S000027 AA 240000.00 480000.00 0. 0.\n",
      "S000028 AA 320000.00      0.00 0. 0.\n",
      "S000029 AA 320000.00  80000.00 0. 0.\n",
      "S000030 AA 320000.00 160000.00 0. 0.\n",
      "S000031 AA 320000.00 240000.00 0. 0.\n",
      "S000032 AA 320000.00 320000.00 0. 0.\n",
      "S000033 AA 320000.00 400000.00 0. 0.\n",
      "S000034 AA 320000.00 480000.00 0. 0.\n",
      "S000035 AA 400000.00      0.00 0. 0.\n",
      "S000036 AA 400000.00  80000.00 0. 0.\n",
      "S000037 AA 400000.00 160000.00 0. 0.\n",
      "S000038 AA 400000.00 240000.00 0. 0.\n",
      "S000039 AA 400000.00 320000.00 0. 0.\n",
      "S000040 AA 400000.00 400000.00 0. 0.\n",
      "S000041 AA 400000.00 480000.00 0. 0.\n",
      "S000042 AA 480000.00      0.00 0. 0.\n",
      "S000043 AA 480000.00  80000.00 0. 0.\n",
      "S000044 AA 480000.00 160000.00 0. 0.\n",
      "S000045 AA 480000.00 240000.00 0. 0.\n",
      "S000046 AA 480000.00 320000.00 0. 0.\n",
      "S000047 AA 480000.00 400000.00 0. 0.\n",
      "S000048 AA 480000.00 480000.00 0. 0.\n"
     ]
    }
   ],
   "source": [
    "# Loop through X and Z discretizations of 40km\n",
    "i = 0\n",
    "with open(\"DATA/STATIONS\", \"w\") as f:\n",
    "    for x in range(0, 480000 + 1, 80000):\n",
    "        for z in range(0, 480000 + 1, 80000):\n",
    "            f.write(f\"S{i:0>6} AA {x:9.2f} {z:9.2f} 0. 0.\\n\")\n",
    "            i += 1\n",
    "            \n",
    "! cat DATA/STATIONS"
   ]
  },
  {
   "cell_type": "markdown",
   "id": "b1b6e9be-74d5-4362-9fe6-ab424f2a47c6",
   "metadata": {},
   "source": [
    "#### Task 3: Choose and edit a SOURCE file\n",
    "\n",
    "- Use one of the original sources as a template for your new source\n",
    "- **Set** the location of your source in the exact **middle** of your domain (or a location of your choice!)  \n",
    "- **Set** the moment tensor (Mxx, Mzz, Mxz) of your event to make this an **explosive** source (or a mechanism of your choice!)  \n",
    "- Don't change the scaling on the moment tensor  "
   ]
  },
  {
   "cell_type": "code",
   "execution_count": 9,
   "id": "95d2adb6-09f0-4a01-91f9-958c3c94907c",
   "metadata": {},
   "outputs": [
    {
     "name": "stdout",
     "output_type": "stream",
     "text": [
      "Mxx                             = 1.000000       # Mxx component (for a moment tensor source only)\n",
      "Mzz                             = -1.000000      # Mzz component (for a moment tensor source only)\n",
      "Mxz                             = 0.000000       # Mxz component (for a moment tensor source only)\n"
     ]
    }
   ],
   "source": [
    "# 008 is roughly middle. Figure out what the current moment tensor components are\n",
    "! cp DATA/SOURCE_008 DATA/SOURCE\n",
    "! head -51 DATA/SOURCE | tail -n 3"
   ]
  },
  {
   "cell_type": "code",
   "execution_count": 10,
   "id": "683dd391-72df-4a63-8c59-570ac8e86120",
   "metadata": {},
   "outputs": [
    {
     "name": "stdout",
     "output_type": "stream",
     "text": [
      "## Source 1\n",
      "source_surf                     = .false.        # source inside the medium, or source automatically moved exactly at the surface by the solver\n",
      "xs = 240000\n",
      "zs = 240000\n",
      "## Source type parameters:\n",
      "\n",
      "Mxx = 1.0\n",
      "Mzz = 1.0\n",
      "Mxz = 1.0\n"
     ]
    }
   ],
   "source": [
    "lines = open(\"DATA/SOURCE\", \"r\").readlines()\n",
    "for i, line in enumerate(lines):\n",
    "    if \"xs\" in line:\n",
    "        lines[i] = \"xs = 240000\\n\"\n",
    "    elif \"zs\" in line: \n",
    "        lines[i] = \"zs = 240000\\n\"\n",
    "    else:\n",
    "        for value in [\"Mxx\", \"Mzz\", \"Mxz\"]:\n",
    "            if value in line:\n",
    "                lines[i] = f\"{value} = 1.0\\n\"\n",
    "\n",
    "with open(\"DATA/SOURCE\", \"w\") as f:\n",
    "    f.writelines(lines)\n",
    "    \n",
    "# Check the file\n",
    "! head -5 DATA/SOURCE\n",
    "! echo\n",
    "! head -51 DATA/SOURCE | tail -n 3"
   ]
  },
  {
   "cell_type": "markdown",
   "id": "c5f9886a-46bf-4834-8a5f-099c9da6aefd",
   "metadata": {},
   "source": [
    "#### Task 4: Run the Solver and Analyze Outputs\n",
    "\n",
    "- Run the mesher and solver with your new experimental setup and 4 MPI processes  \n",
    "- **Remember** to tell SPECFEM to use your `STATIONS` file and not its internal representation of stations\n",
    "- **Remember** to tell SPECFEM that we want to run this with 4 processors\n",
    "- Look at the source images to see if your explosion makes sense\n",
    "- Plot waveforms output from your gridded stations"
   ]
  },
  {
   "cell_type": "code",
   "execution_count": 14,
   "id": "eb64e05c-d47a-49eb-a2a8-95df8e9189ae",
   "metadata": {},
   "outputs": [
    {
     "name": "stdout",
     "output_type": "stream",
     "text": [
      "NPROC: 4 -> 1\n",
      "use_existing_STATIONS: .true. -> .true.\n",
      " -------------------------------------------------------------------------------\n",
      " Program SPECFEM2D: \n",
      " -------------------------------------------------------------------------------\n",
      " -------------------------------------------------------------------------------\n",
      " Tape-Liu-Tromp (GJI 2007)\n",
      " -------------------------------------------------------------------------------\n",
      " -------------------------------------------------------------------------------\n",
      " D a t e : 13 - 02 - 2025                                 T i m e  : 11:59:57\n",
      " -------------------------------------------------------------------------------\n",
      " -------------------------------------------------------------------------------\n"
     ]
    }
   ],
   "source": [
    "! seisflows sempar -P DATA/Par_file nproc 1\n",
    "! seisflows sempar -P DATA/Par_file use_existing_stations .true.\n",
    "# parallel run\n",
    "##! mpirun -n 4 bin/xmeshfem2D > OUTPUT_FILES/output_mesher.txt\n",
    "##! mpirun -n 4 bin/xspecfem2D > OUTPUT_FILES/output_solver.txt\n",
    "# serial run\n",
    "! bin/xmeshfem2D > OUTPUT_FILES/output_mesher.txt\n",
    "! bin/xspecfem2D > OUTPUT_FILES/output_solver.txt\n",
    "\n",
    "! tail OUTPUT_FILES/output_solver.txt"
   ]
  },
  {
   "cell_type": "code",
   "execution_count": 15,
   "id": "26c2ad29-00bc-45d0-9ba5-4f9e1c7eb871",
   "metadata": {},
   "outputs": [
    {
     "data": {
      "image/jpeg": "[encoded data removed]",
      "text/plain": [
       "<IPython.core.display.Image object>"
      ]
     },
     "execution_count": 15,
     "metadata": {},
     "output_type": "execute_result"
    }
   ],
   "source": [
    "# Check your station configuration and source location\n",
    "Image(\"OUTPUT_FILES/forward_image000001200.jpg\")"
   ]
  },
  {
   "cell_type": "code",
   "execution_count": null,
   "id": "94e6f19b-81ab-47ca-9d8d-c70b7ba1a065",
   "metadata": {},
   "outputs": [],
   "source": []
  }
 ],
 "metadata": {
  "kernelspec": {
   "display_name": "Python 3 (ipykernel)",
   "language": "python",
   "name": "python3"
  },
  "language_info": {
   "codemirror_mode": {
    "name": "ipython",
    "version": 3
   },
   "file_extension": ".py",
   "mimetype": "text/x-python",
   "name": "python",
   "nbconvert_exporter": "python",
   "pygments_lexer": "ipython3",
   "version": "3.12.8"
  }
 },
 "nbformat": 4,
 "nbformat_minor": 5
}
